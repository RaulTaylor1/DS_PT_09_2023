{
 "cells": [
  {
   "cell_type": "code",
   "execution_count": 42,
   "metadata": {},
   "outputs": [],
   "source": [
    "import numpy as np"
   ]
  },
  {
   "cell_type": "code",
   "execution_count": 43,
   "metadata": {},
   "outputs": [
    {
     "name": "stdout",
     "output_type": "stream",
     "text": [
      "[['' '' '' '' '' '' '' '' '' '']\n",
      " ['' '' '' '' '' '' '' '' '' '']\n",
      " ['' '' '' '' '' '' '' '' '' '']\n",
      " ['' '' '' '' '' '' '' '' '' '']\n",
      " ['' '' '' '' '' '' '' '' '' '']\n",
      " ['' '' '' '' '' '' '' '' '' '']\n",
      " ['' '' '' '' '' '' '' '' '' '']\n",
      " ['' '' '' '' '' '' '' '' '' '']\n",
      " ['' '' '' '' '' '' '' '' '' '']\n",
      " ['' '' '' '' '' '' '' '' '' '']]\n"
     ]
    }
   ],
   "source": [
    "\n",
    "tamano_barcos = [2, 3, 4]\n",
    "\n",
    "tablero = np.zeros((10, 10), dtype=str)\n",
    "print(tablero)"
   ]
  },
  {
   "cell_type": "code",
   "execution_count": 53,
   "metadata": {},
   "outputs": [],
   "source": [
    "def colocar_un_barco(tablero, filas, columnas, tamano):\n",
    "    if tamano == 1:\n",
    "        tablero[filas][columnas] = 'B'\n",
    "    if tamano == 2:\n",
    "        tablero[filas][columnas] = 'B'\n",
    "        tablero[filas][columnas+1] = 'B'\n",
    "    elif tamano == 3:\n",
    "        tablero[filas][columnas] = 'B'\n",
    "        tablero[filas][columnas+1] = 'B'\n",
    "        tablero[filas][columnas+2] = 'B'\n",
    "    else:\n",
    "        print('No hay barcos de ese tamaño')\n",
    "    \n",
    "    print(tablero)"
   ]
  },
  {
   "cell_type": "code",
   "execution_count": null,
   "metadata": {},
   "outputs": [],
   "source": [
    "def disparar(filas, columnas):\n",
    "    if [filas][columnas] != 'B' == 'X'"
   ]
  },
  {
   "cell_type": "code",
   "execution_count": 56,
   "metadata": {},
   "outputs": [
    {
     "name": "stdout",
     "output_type": "stream",
     "text": [
      "No hay barcos de ese tamaño\n",
      "[['' '' '' '' '' '' '' '' '' '']\n",
      " ['' '' '' '' '' '' '' '' '' '']\n",
      " ['' '' '' 'B' 'B' 'B' 'B' '' '' '']\n",
      " ['' '' '' '' '' '' '' '' '' '']\n",
      " ['' '' '' '' '' '' '' '' '' '']\n",
      " ['' '' '' '' 'B' 'B' 'B' '' '' 'B']\n",
      " ['' '' '' '' '' '' '' '' '' '']\n",
      " ['' '' '' '' '' '' '' '' '' '']\n",
      " ['' '' '' '' '' '' '' '' '' '']\n",
      " ['' '' '' '' '' '' '' '' '' '']]\n"
     ]
    }
   ],
   "source": [
    "colocar_un_barco(tablero, 5, 9, 1)"
   ]
  },
  {
   "cell_type": "code",
   "execution_count": 58,
   "metadata": {},
   "outputs": [],
   "source": [
    "def colocar_barco(tablero, tamano):\n",
    "    while True:\n",
    "        direccion = np.random.choice(['horizontal', 'vertical'])\n",
    "        fila = np.random.randint(0, filas - 1)\n",
    "        columna = np.random.randint(0, columna - 1)\n",
    "\n",
    "        if direccion == 'horizontal':\n",
    "            if columna + tamano > columna:\n",
    "                continue\n",
    "            if any(tablero[fila, columna:columna + tamano] != \"'\"):\n",
    "                continue\n",
    "            for i in range(tamano):\n",
    "                tablero[fila, columna:columna +tamano] = 'B'\n",
    "            break\n",
    "\n",
    "        else:\n",
    "            if fila + tamano > filas:\n",
    "                continue\n",
    "            if any(tablero[fila:fila + tamano, columna] != \"'\"):\n",
    "                continue\n",
    "            for i in range(tamano):\n",
    "                tablero[fila:fila + tamano, columna] = 'B'\n",
    "            break"
   ]
  },
  {
   "cell_type": "code",
   "execution_count": 57,
   "metadata": {},
   "outputs": [
    {
     "ename": "UnboundLocalError",
     "evalue": "cannot access local variable 'columna' where it is not associated with a value",
     "output_type": "error",
     "traceback": [
      "\u001b[1;31m---------------------------------------------------------------------------\u001b[0m",
      "\u001b[1;31mUnboundLocalError\u001b[0m                         Traceback (most recent call last)",
      "\u001b[1;32mc:\\Users\\taylo\\Documents\\GitHub\\DS_PT_09_2023\\Data_Analysis\\1-Numpy\\Practica\\Desafio\\Desafio ejercicio 1.ipynb Cell 6\u001b[0m line \u001b[0;36m2\n\u001b[0;32m      <a href='vscode-notebook-cell:/c%3A/Users/taylo/Documents/GitHub/DS_PT_09_2023/Data_Analysis/1-Numpy/Practica/Desafio/Desafio%20ejercicio%201.ipynb#X14sZmlsZQ%3D%3D?line=0'>1</a>\u001b[0m \u001b[39mfor\u001b[39;00m tamano \u001b[39min\u001b[39;00m tamano_barcos:\n\u001b[1;32m----> <a href='vscode-notebook-cell:/c%3A/Users/taylo/Documents/GitHub/DS_PT_09_2023/Data_Analysis/1-Numpy/Practica/Desafio/Desafio%20ejercicio%201.ipynb#X14sZmlsZQ%3D%3D?line=1'>2</a>\u001b[0m     colocar_barco(tablero, \u001b[39m2\u001b[39;49m)\n",
      "\u001b[1;32mc:\\Users\\taylo\\Documents\\GitHub\\DS_PT_09_2023\\Data_Analysis\\1-Numpy\\Practica\\Desafio\\Desafio ejercicio 1.ipynb Cell 6\u001b[0m line \u001b[0;36m5\n\u001b[0;32m      <a href='vscode-notebook-cell:/c%3A/Users/taylo/Documents/GitHub/DS_PT_09_2023/Data_Analysis/1-Numpy/Practica/Desafio/Desafio%20ejercicio%201.ipynb#X14sZmlsZQ%3D%3D?line=2'>3</a>\u001b[0m direccion \u001b[39m=\u001b[39m np\u001b[39m.\u001b[39mrandom\u001b[39m.\u001b[39mchoice([\u001b[39m'\u001b[39m\u001b[39mhorizontal\u001b[39m\u001b[39m'\u001b[39m, \u001b[39m'\u001b[39m\u001b[39mvertical\u001b[39m\u001b[39m'\u001b[39m])\n\u001b[0;32m      <a href='vscode-notebook-cell:/c%3A/Users/taylo/Documents/GitHub/DS_PT_09_2023/Data_Analysis/1-Numpy/Practica/Desafio/Desafio%20ejercicio%201.ipynb#X14sZmlsZQ%3D%3D?line=3'>4</a>\u001b[0m fila \u001b[39m=\u001b[39m np\u001b[39m.\u001b[39mrandom\u001b[39m.\u001b[39mrandint(\u001b[39m0\u001b[39m, filas \u001b[39m-\u001b[39m \u001b[39m1\u001b[39m)\n\u001b[1;32m----> <a href='vscode-notebook-cell:/c%3A/Users/taylo/Documents/GitHub/DS_PT_09_2023/Data_Analysis/1-Numpy/Practica/Desafio/Desafio%20ejercicio%201.ipynb#X14sZmlsZQ%3D%3D?line=4'>5</a>\u001b[0m columna \u001b[39m=\u001b[39m np\u001b[39m.\u001b[39mrandom\u001b[39m.\u001b[39mrandint(\u001b[39m0\u001b[39m, columna \u001b[39m-\u001b[39m \u001b[39m1\u001b[39m)\n\u001b[0;32m      <a href='vscode-notebook-cell:/c%3A/Users/taylo/Documents/GitHub/DS_PT_09_2023/Data_Analysis/1-Numpy/Practica/Desafio/Desafio%20ejercicio%201.ipynb#X14sZmlsZQ%3D%3D?line=6'>7</a>\u001b[0m \u001b[39mif\u001b[39;00m direccion \u001b[39m==\u001b[39m \u001b[39m'\u001b[39m\u001b[39mhorizontal\u001b[39m\u001b[39m'\u001b[39m:\n\u001b[0;32m      <a href='vscode-notebook-cell:/c%3A/Users/taylo/Documents/GitHub/DS_PT_09_2023/Data_Analysis/1-Numpy/Practica/Desafio/Desafio%20ejercicio%201.ipynb#X14sZmlsZQ%3D%3D?line=7'>8</a>\u001b[0m     \u001b[39mif\u001b[39;00m columna \u001b[39m+\u001b[39m tamano \u001b[39m>\u001b[39m columna:\n",
      "\u001b[1;31mUnboundLocalError\u001b[0m: cannot access local variable 'columna' where it is not associated with a value"
     ]
    }
   ],
   "source": [
    "for tamano in tamano_barcos:\n",
    "    colocar_barco(tablero, 2)"
   ]
  },
  {
   "cell_type": "code",
   "execution_count": null,
   "metadata": {},
   "outputs": [],
   "source": []
  }
 ],
 "metadata": {
  "kernelspec": {
   "display_name": ".venv",
   "language": "python",
   "name": "python3"
  },
  "language_info": {
   "codemirror_mode": {
    "name": "ipython",
    "version": 3
   },
   "file_extension": ".py",
   "mimetype": "text/x-python",
   "name": "python",
   "nbconvert_exporter": "python",
   "pygments_lexer": "ipython3",
   "version": "3.11.5"
  }
 },
 "nbformat": 4,
 "nbformat_minor": 2
}
