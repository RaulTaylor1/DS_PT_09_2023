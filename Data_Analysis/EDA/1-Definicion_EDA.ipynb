{
 "cells": [
  {
   "cell_type": "markdown",
   "metadata": {},
   "source": [
    "![imagen](./img/ejercicios.png)"
   ]
  },
  {
   "cell_type": "markdown",
   "metadata": {},
   "source": [
    "# INFORMACIÓN DEL PROYECTO"
   ]
  },
  {
   "cell_type": "markdown",
   "metadata": {},
   "source": [
    "## Análisis de CMV"
   ]
  },
  {
   "cell_type": "markdown",
   "metadata": {},
   "source": [
    "### TEMA"
   ]
  },
  {
   "cell_type": "markdown",
   "metadata": {},
   "source": [
    "Durante este EDA, se estudiará la relación entre coste, precio y ventas de los artículos de un restaurante."
   ]
  },
  {
   "cell_type": "markdown",
   "metadata": {},
   "source": [
    "### HIPÓTESIS"
   ]
  },
  {
   "cell_type": "markdown",
   "metadata": {},
   "source": [
    "# Hipótesis principal\n",
    "\n",
    "**1. El percentil 10% por numero de unidades vendidas de platos elaborados hace perder dinero.**\n",
    "\n",
    "Se estudiarán los motivos de estas ventas bajas y se tratará de entender si la hipótesis se cumple.\n",
    "\n",
    "**2. El plato elaborado más caro tiene menor margen de beneficio que el más barato**\n",
    "\n",
    "Se estudiarán costes, márgenes y facturación para afirmar o refutar la hipótesis"
   ]
  },
  {
   "cell_type": "markdown",
   "metadata": {},
   "source": [
    "## OBTENCIÓN DE LOS DATOS"
   ]
  },
  {
   "cell_type": "markdown",
   "metadata": {},
   "source": [
    "### DATASETS Y FUENTES ALTERNATIVAS DE DATOS"
   ]
  },
  {
   "cell_type": "markdown",
   "metadata": {},
   "source": [
    "Esta data sale del programa de gestión interno del restaurante. Se exportan los datos en excel. \n",
    "\n",
    "En el primer dataset aparece cada artúculo con su precio. Existen varias columnas de precios porque hay elementos con pricing dinámico, que varía según la hora, la fecha o si es o no evento.\n",
    "\n",
    "En el segundo aparece un agregado del número de unidades vendidas y el importe total en el periodo seleccionado."
   ]
  },
  {
   "cell_type": "code",
   "execution_count": 44,
   "metadata": {},
   "outputs": [
    {
     "data": {
      "text/html": [
       "<div>\n",
       "<style scoped>\n",
       "    .dataframe tbody tr th:only-of-type {\n",
       "        vertical-align: middle;\n",
       "    }\n",
       "\n",
       "    .dataframe tbody tr th {\n",
       "        vertical-align: top;\n",
       "    }\n",
       "\n",
       "    .dataframe thead th {\n",
       "        text-align: right;\n",
       "    }\n",
       "</style>\n",
       "<table border=\"1\" class=\"dataframe\">\n",
       "  <thead>\n",
       "    <tr style=\"text-align: right;\">\n",
       "      <th></th>\n",
       "      <th>PRECIO 1</th>\n",
       "      <th>PRECIO 2</th>\n",
       "      <th>PRECIO 3</th>\n",
       "      <th>PRECIO 4</th>\n",
       "    </tr>\n",
       "    <tr>\n",
       "      <th>NOMBRE</th>\n",
       "      <th></th>\n",
       "      <th></th>\n",
       "      <th></th>\n",
       "      <th></th>\n",
       "    </tr>\n",
       "  </thead>\n",
       "  <tbody>\n",
       "    <tr>\n",
       "      <th>COLACAO</th>\n",
       "      <td>2.1</td>\n",
       "      <td>2.1</td>\n",
       "      <td>2.1</td>\n",
       "      <td>2.1</td>\n",
       "    </tr>\n",
       "    <tr>\n",
       "      <th>CAFE ESPECIAL</th>\n",
       "      <td>2.9</td>\n",
       "      <td>2.9</td>\n",
       "      <td>2.9</td>\n",
       "      <td>2.9</td>\n",
       "    </tr>\n",
       "    <tr>\n",
       "      <th>CAFE</th>\n",
       "      <td>2.1</td>\n",
       "      <td>2.1</td>\n",
       "      <td>2.1</td>\n",
       "      <td>2.1</td>\n",
       "    </tr>\n",
       "    <tr>\n",
       "      <th>SUPLEMENTO COLACAO</th>\n",
       "      <td>0.6</td>\n",
       "      <td>0.6</td>\n",
       "      <td>0.6</td>\n",
       "      <td>0.6</td>\n",
       "    </tr>\n",
       "    <tr>\n",
       "      <th>CHOCOLATE</th>\n",
       "      <td>2.9</td>\n",
       "      <td>2.9</td>\n",
       "      <td>2.9</td>\n",
       "      <td>2.9</td>\n",
       "    </tr>\n",
       "  </tbody>\n",
       "</table>\n",
       "</div>"
      ],
      "text/plain": [
       "                    PRECIO 1  PRECIO 2  PRECIO 3  PRECIO 4\n",
       "NOMBRE                                                    \n",
       "COLACAO                  2.1       2.1       2.1       2.1\n",
       "CAFE ESPECIAL            2.9       2.9       2.9       2.9\n",
       "CAFE                     2.1       2.1       2.1       2.1\n",
       "SUPLEMENTO COLACAO       0.6       0.6       0.6       0.6\n",
       "CHOCOLATE                2.9       2.9       2.9       2.9"
      ]
     },
     "execution_count": 44,
     "metadata": {},
     "output_type": "execute_result"
    }
   ],
   "source": [
    "precios = pd.read_excel('PreciosExcelArticulos1.xlsx', index_col='NOMBRE')\n",
    "\n",
    "'''Importar excel estableciendo columna 'NOMBRE' como indice'''\n",
    "\n",
    "precios.head()"
   ]
  },
  {
   "cell_type": "code",
   "execution_count": 60,
   "metadata": {},
   "outputs": [
    {
     "data": {
      "text/html": [
       "<div>\n",
       "<style scoped>\n",
       "    .dataframe tbody tr th:only-of-type {\n",
       "        vertical-align: middle;\n",
       "    }\n",
       "\n",
       "    .dataframe tbody tr th {\n",
       "        vertical-align: top;\n",
       "    }\n",
       "\n",
       "    .dataframe thead th {\n",
       "        text-align: right;\n",
       "    }\n",
       "</style>\n",
       "<table border=\"1\" class=\"dataframe\">\n",
       "  <thead>\n",
       "    <tr style=\"text-align: right;\">\n",
       "      <th></th>\n",
       "      <th>UNIDADES VENDIDAS</th>\n",
       "      <th>IMPORTE TOTAL</th>\n",
       "    </tr>\n",
       "    <tr>\n",
       "      <th>NOMBRE</th>\n",
       "      <th></th>\n",
       "      <th></th>\n",
       "    </tr>\n",
       "  </thead>\n",
       "  <tbody>\n",
       "    <tr>\n",
       "      <th>COLACAO</th>\n",
       "      <td>105.000</td>\n",
       "      <td>200.45442</td>\n",
       "    </tr>\n",
       "    <tr>\n",
       "      <th>CAFE ESPECIAL</th>\n",
       "      <td>359.665</td>\n",
       "      <td>941.34484</td>\n",
       "    </tr>\n",
       "    <tr>\n",
       "      <th>CAFE</th>\n",
       "      <td>21376.000</td>\n",
       "      <td>39743.60192</td>\n",
       "    </tr>\n",
       "    <tr>\n",
       "      <th>CHOCOLATE</th>\n",
       "      <td>33.000</td>\n",
       "      <td>86.99989</td>\n",
       "    </tr>\n",
       "    <tr>\n",
       "      <th>INFUSION</th>\n",
       "      <td>1703.000</td>\n",
       "      <td>3762.25597</td>\n",
       "    </tr>\n",
       "  </tbody>\n",
       "</table>\n",
       "</div>"
      ],
      "text/plain": [
       "               UNIDADES VENDIDAS  IMPORTE TOTAL\n",
       "NOMBRE                                         \n",
       "COLACAO                  105.000      200.45442\n",
       "CAFE ESPECIAL            359.665      941.34484\n",
       "CAFE                   21376.000    39743.60192\n",
       "CHOCOLATE                 33.000       86.99989\n",
       "INFUSION                1703.000     3762.25597"
      ]
     },
     "execution_count": 60,
     "metadata": {},
     "output_type": "execute_result"
    }
   ],
   "source": [
    "articulos = pd.read_excel('ResumExcelArticulos.xlsx', index_col='NOMBRE')\n",
    "\n",
    "'''Importar excel estableciendo columna 'NOMBRE' como indice'''\n",
    "\n",
    "articulos.head()"
   ]
  },
  {
   "cell_type": "code",
   "execution_count": 59,
   "metadata": {},
   "outputs": [
    {
     "data": {
      "text/html": [
       "<div>\n",
       "<style scoped>\n",
       "    .dataframe tbody tr th:only-of-type {\n",
       "        vertical-align: middle;\n",
       "    }\n",
       "\n",
       "    .dataframe tbody tr th {\n",
       "        vertical-align: top;\n",
       "    }\n",
       "\n",
       "    .dataframe thead th {\n",
       "        text-align: right;\n",
       "    }\n",
       "</style>\n",
       "<table border=\"1\" class=\"dataframe\">\n",
       "  <thead>\n",
       "    <tr style=\"text-align: right;\">\n",
       "      <th></th>\n",
       "      <th>PRECIO 1</th>\n",
       "      <th>PRECIO 2</th>\n",
       "      <th>PRECIO 3</th>\n",
       "      <th>PRECIO 4</th>\n",
       "      <th>UNIDADES VENDIDAS</th>\n",
       "      <th>IMPORTE TOTAL</th>\n",
       "    </tr>\n",
       "    <tr>\n",
       "      <th>NOMBRE</th>\n",
       "      <th></th>\n",
       "      <th></th>\n",
       "      <th></th>\n",
       "      <th></th>\n",
       "      <th></th>\n",
       "      <th></th>\n",
       "    </tr>\n",
       "  </thead>\n",
       "  <tbody>\n",
       "    <tr>\n",
       "      <th>ABSOLUT</th>\n",
       "      <td>40.0</td>\n",
       "      <td>40.0</td>\n",
       "      <td>40.0</td>\n",
       "      <td>40.0</td>\n",
       "      <td>572.000</td>\n",
       "      <td>4672.72742</td>\n",
       "    </tr>\n",
       "    <tr>\n",
       "      <th>AGUA 0.5 LITROS</th>\n",
       "      <td>3.5</td>\n",
       "      <td>3.5</td>\n",
       "      <td>3.5</td>\n",
       "      <td>3.5</td>\n",
       "      <td>16226.665</td>\n",
       "      <td>51253.35390</td>\n",
       "    </tr>\n",
       "    <tr>\n",
       "      <th>AGUA CON GAS</th>\n",
       "      <td>3.5</td>\n",
       "      <td>3.5</td>\n",
       "      <td>3.5</td>\n",
       "      <td>3.5</td>\n",
       "      <td>5129.665</td>\n",
       "      <td>16204.83593</td>\n",
       "    </tr>\n",
       "    <tr>\n",
       "      <th>AGUAZUL</th>\n",
       "      <td>16.5</td>\n",
       "      <td>16.5</td>\n",
       "      <td>16.5</td>\n",
       "      <td>16.5</td>\n",
       "      <td>7796.000</td>\n",
       "      <td>28080.83644</td>\n",
       "    </tr>\n",
       "    <tr>\n",
       "      <th>ALCACHOFA CONFITADA BARRA</th>\n",
       "      <td>5.1</td>\n",
       "      <td>5.1</td>\n",
       "      <td>5.1</td>\n",
       "      <td>5.1</td>\n",
       "      <td>3366.000</td>\n",
       "      <td>15519.75440</td>\n",
       "    </tr>\n",
       "  </tbody>\n",
       "</table>\n",
       "</div>"
      ],
      "text/plain": [
       "                           PRECIO 1  PRECIO 2  PRECIO 3  PRECIO 4  \\\n",
       "NOMBRE                                                              \n",
       "ABSOLUT                        40.0      40.0      40.0      40.0   \n",
       "AGUA 0.5 LITROS                 3.5       3.5       3.5       3.5   \n",
       "AGUA CON GAS                    3.5       3.5       3.5       3.5   \n",
       "AGUAZUL                        16.5      16.5      16.5      16.5   \n",
       "ALCACHOFA CONFITADA BARRA       5.1       5.1       5.1       5.1   \n",
       "\n",
       "                           UNIDADES VENDIDAS  IMPORTE TOTAL  \n",
       "NOMBRE                                                       \n",
       "ABSOLUT                              572.000     4672.72742  \n",
       "AGUA 0.5 LITROS                    16226.665    51253.35390  \n",
       "AGUA CON GAS                        5129.665    16204.83593  \n",
       "AGUAZUL                             7796.000    28080.83644  \n",
       "ALCACHOFA CONFITADA BARRA           3366.000    15519.75440  "
      ]
     },
     "execution_count": 59,
     "metadata": {},
     "output_type": "execute_result"
    }
   ],
   "source": [
    "final = total.groupby(total.index).sum()\n",
    "\n",
    "'''Unir los dos dataframes por índices únicos sumando los valores de los repetidos'''\n",
    "\n",
    "final.head()"
   ]
  },
  {
   "cell_type": "markdown",
   "metadata": {},
   "source": [
    "**Falta un dataset. Dataset de CMVs (coste de la mercancía vendida).**"
   ]
  }
 ],
 "metadata": {
  "interpreter": {
   "hash": "7c77fdb427e7cbc9bc1367dd530fc2b36aacdbbde1ac83c85833b10dfa8b831c"
  },
  "kernelspec": {
   "display_name": "Python 3.7.4 64-bit",
   "language": "python",
   "name": "python3"
  },
  "language_info": {
   "codemirror_mode": {
    "name": "ipython",
    "version": 3
   },
   "file_extension": ".py",
   "mimetype": "text/x-python",
   "name": "python",
   "nbconvert_exporter": "python",
   "pygments_lexer": "ipython3",
   "version": "3.11.5"
  },
  "orig_nbformat": 4
 },
 "nbformat": 4,
 "nbformat_minor": 2
}
