{
 "cells": [
  {
   "attachments": {},
   "cell_type": "markdown",
   "metadata": {},
   "source": [
    "### Importa los datos\n",
    "Dataset con diferentes fármacos, sus efectos y ratings de los clientes.\n",
    "\n",
    "Importa el dataset *drugLibTrain_raw.tsv*"
   ]
  },
  {
   "cell_type": "code",
   "execution_count": 1,
   "metadata": {},
   "outputs": [],
   "source": [
    "import numpy as np\n",
    "import pandas as pd\n",
    "import matplotlib.pyplot as plt"
   ]
  },
  {
   "cell_type": "code",
   "execution_count": 2,
   "metadata": {},
   "outputs": [],
   "source": [
    "df = pd.read_csv('data/drugLibTrain_raw.tsv', sep='\\t')"
   ]
  },
  {
   "cell_type": "code",
   "execution_count": 3,
   "metadata": {},
   "outputs": [
    {
     "data": {
      "text/html": [
       "<div>\n",
       "<style scoped>\n",
       "    .dataframe tbody tr th:only-of-type {\n",
       "        vertical-align: middle;\n",
       "    }\n",
       "\n",
       "    .dataframe tbody tr th {\n",
       "        vertical-align: top;\n",
       "    }\n",
       "\n",
       "    .dataframe thead th {\n",
       "        text-align: right;\n",
       "    }\n",
       "</style>\n",
       "<table border=\"1\" class=\"dataframe\">\n",
       "  <thead>\n",
       "    <tr style=\"text-align: right;\">\n",
       "      <th></th>\n",
       "      <th>Unnamed: 0</th>\n",
       "      <th>urlDrugName</th>\n",
       "      <th>rating</th>\n",
       "      <th>effectiveness</th>\n",
       "      <th>sideEffects</th>\n",
       "      <th>condition</th>\n",
       "      <th>benefitsReview</th>\n",
       "      <th>sideEffectsReview</th>\n",
       "      <th>commentsReview</th>\n",
       "    </tr>\n",
       "  </thead>\n",
       "  <tbody>\n",
       "    <tr>\n",
       "      <th>0</th>\n",
       "      <td>2202</td>\n",
       "      <td>enalapril</td>\n",
       "      <td>4</td>\n",
       "      <td>Highly Effective</td>\n",
       "      <td>Mild Side Effects</td>\n",
       "      <td>management of congestive heart failure</td>\n",
       "      <td>slowed the progression of left ventricular dys...</td>\n",
       "      <td>Constipation, dry mouth and some mild dizzines...</td>\n",
       "      <td>I was given Prilosec prescription at a dose of...</td>\n",
       "    </tr>\n",
       "    <tr>\n",
       "      <th>1</th>\n",
       "      <td>1951</td>\n",
       "      <td>lyrica</td>\n",
       "      <td>2</td>\n",
       "      <td>Marginally Effective</td>\n",
       "      <td>Severe Side Effects</td>\n",
       "      <td>fibromyalgia</td>\n",
       "      <td>I think that the Lyrica was starting to help w...</td>\n",
       "      <td>I felt extremely drugged and dopey.  Could not...</td>\n",
       "      <td>See above</td>\n",
       "    </tr>\n",
       "    <tr>\n",
       "      <th>2</th>\n",
       "      <td>2372</td>\n",
       "      <td>propecia</td>\n",
       "      <td>1</td>\n",
       "      <td>Ineffective</td>\n",
       "      <td>Severe Side Effects</td>\n",
       "      <td>hair loss</td>\n",
       "      <td>after taking propecia for over a year, startin...</td>\n",
       "      <td>Low sex drive, before i started taking this dr...</td>\n",
       "      <td>one pill once daily</td>\n",
       "    </tr>\n",
       "    <tr>\n",
       "      <th>3</th>\n",
       "      <td>1043</td>\n",
       "      <td>vyvanse</td>\n",
       "      <td>9</td>\n",
       "      <td>Highly Effective</td>\n",
       "      <td>Mild Side Effects</td>\n",
       "      <td>add</td>\n",
       "      <td>My mood has noticably improved, I have more en...</td>\n",
       "      <td>a few experiences of nausiea, heavy moodswings...</td>\n",
       "      <td>I had began taking 20mg of Vyvanse for three m...</td>\n",
       "    </tr>\n",
       "    <tr>\n",
       "      <th>4</th>\n",
       "      <td>2715</td>\n",
       "      <td>elavil</td>\n",
       "      <td>10</td>\n",
       "      <td>Considerably Effective</td>\n",
       "      <td>No Side Effects</td>\n",
       "      <td>depression</td>\n",
       "      <td>Although this drug was originally prescribed f...</td>\n",
       "      <td>None.</td>\n",
       "      <td>One a day, taken about an hour before bedtime.</td>\n",
       "    </tr>\n",
       "    <tr>\n",
       "      <th>...</th>\n",
       "      <td>...</td>\n",
       "      <td>...</td>\n",
       "      <td>...</td>\n",
       "      <td>...</td>\n",
       "      <td>...</td>\n",
       "      <td>...</td>\n",
       "      <td>...</td>\n",
       "      <td>...</td>\n",
       "      <td>...</td>\n",
       "    </tr>\n",
       "    <tr>\n",
       "      <th>3099</th>\n",
       "      <td>1039</td>\n",
       "      <td>vyvanse</td>\n",
       "      <td>10</td>\n",
       "      <td>Highly Effective</td>\n",
       "      <td>Mild Side Effects</td>\n",
       "      <td>adhd</td>\n",
       "      <td>Increased focus, attention, productivity. Bett...</td>\n",
       "      <td>Restless legs at night, insomnia, headache (so...</td>\n",
       "      <td>I took adderall once as a child, and it made m...</td>\n",
       "    </tr>\n",
       "    <tr>\n",
       "      <th>3100</th>\n",
       "      <td>3281</td>\n",
       "      <td>zoloft</td>\n",
       "      <td>1</td>\n",
       "      <td>Ineffective</td>\n",
       "      <td>Extremely Severe Side Effects</td>\n",
       "      <td>depression</td>\n",
       "      <td>Emotions were somewhat blunted. Less moodiness.</td>\n",
       "      <td>Weight gain, extreme tiredness during the day,...</td>\n",
       "      <td>I was on Zoloft for about 2 years total. I am ...</td>\n",
       "    </tr>\n",
       "    <tr>\n",
       "      <th>3101</th>\n",
       "      <td>1664</td>\n",
       "      <td>climara</td>\n",
       "      <td>2</td>\n",
       "      <td>Marginally Effective</td>\n",
       "      <td>Moderate Side Effects</td>\n",
       "      <td>total hysterctomy</td>\n",
       "      <td>---</td>\n",
       "      <td>Constant issues with the patch not staying on....</td>\n",
       "      <td>---</td>\n",
       "    </tr>\n",
       "    <tr>\n",
       "      <th>3102</th>\n",
       "      <td>2621</td>\n",
       "      <td>trileptal</td>\n",
       "      <td>8</td>\n",
       "      <td>Considerably Effective</td>\n",
       "      <td>Mild Side Effects</td>\n",
       "      <td>epilepsy</td>\n",
       "      <td>Controlled complex partial seizures.</td>\n",
       "      <td>Dizziness, fatigue, nausea</td>\n",
       "      <td>Started at 2 doses of 300 mg a day and worked ...</td>\n",
       "    </tr>\n",
       "    <tr>\n",
       "      <th>3103</th>\n",
       "      <td>2748</td>\n",
       "      <td>micardis</td>\n",
       "      <td>4</td>\n",
       "      <td>Moderately Effective</td>\n",
       "      <td>Moderate Side Effects</td>\n",
       "      <td>high blood pressure</td>\n",
       "      <td>The drug Micardis did seem to alleviate my hig...</td>\n",
       "      <td>I find when I am taking Micardis that I tend t...</td>\n",
       "      <td>I take Micardis in pill form once daily.</td>\n",
       "    </tr>\n",
       "  </tbody>\n",
       "</table>\n",
       "<p>3104 rows × 9 columns</p>\n",
       "</div>"
      ],
      "text/plain": [
       "      Unnamed: 0 urlDrugName  rating           effectiveness  \\\n",
       "0           2202   enalapril       4        Highly Effective   \n",
       "1           1951      lyrica       2    Marginally Effective   \n",
       "2           2372    propecia       1             Ineffective   \n",
       "3           1043     vyvanse       9        Highly Effective   \n",
       "4           2715      elavil      10  Considerably Effective   \n",
       "...          ...         ...     ...                     ...   \n",
       "3099        1039     vyvanse      10        Highly Effective   \n",
       "3100        3281      zoloft       1             Ineffective   \n",
       "3101        1664     climara       2    Marginally Effective   \n",
       "3102        2621   trileptal       8  Considerably Effective   \n",
       "3103        2748    micardis       4    Moderately Effective   \n",
       "\n",
       "                        sideEffects                               condition  \\\n",
       "0                 Mild Side Effects  management of congestive heart failure   \n",
       "1               Severe Side Effects                            fibromyalgia   \n",
       "2               Severe Side Effects                               hair loss   \n",
       "3                 Mild Side Effects                                     add   \n",
       "4                   No Side Effects                              depression   \n",
       "...                             ...                                     ...   \n",
       "3099              Mild Side Effects                                    adhd   \n",
       "3100  Extremely Severe Side Effects                              depression   \n",
       "3101          Moderate Side Effects                       total hysterctomy   \n",
       "3102              Mild Side Effects                                epilepsy   \n",
       "3103          Moderate Side Effects                     high blood pressure   \n",
       "\n",
       "                                         benefitsReview  \\\n",
       "0     slowed the progression of left ventricular dys...   \n",
       "1     I think that the Lyrica was starting to help w...   \n",
       "2     after taking propecia for over a year, startin...   \n",
       "3     My mood has noticably improved, I have more en...   \n",
       "4     Although this drug was originally prescribed f...   \n",
       "...                                                 ...   \n",
       "3099  Increased focus, attention, productivity. Bett...   \n",
       "3100    Emotions were somewhat blunted. Less moodiness.   \n",
       "3101                                                ---   \n",
       "3102               Controlled complex partial seizures.   \n",
       "3103  The drug Micardis did seem to alleviate my hig...   \n",
       "\n",
       "                                      sideEffectsReview  \\\n",
       "0     Constipation, dry mouth and some mild dizzines...   \n",
       "1     I felt extremely drugged and dopey.  Could not...   \n",
       "2     Low sex drive, before i started taking this dr...   \n",
       "3     a few experiences of nausiea, heavy moodswings...   \n",
       "4                                                 None.   \n",
       "...                                                 ...   \n",
       "3099  Restless legs at night, insomnia, headache (so...   \n",
       "3100  Weight gain, extreme tiredness during the day,...   \n",
       "3101  Constant issues with the patch not staying on....   \n",
       "3102                         Dizziness, fatigue, nausea   \n",
       "3103  I find when I am taking Micardis that I tend t...   \n",
       "\n",
       "                                         commentsReview  \n",
       "0     I was given Prilosec prescription at a dose of...  \n",
       "1                                             See above  \n",
       "2                                   one pill once daily  \n",
       "3     I had began taking 20mg of Vyvanse for three m...  \n",
       "4        One a day, taken about an hour before bedtime.  \n",
       "...                                                 ...  \n",
       "3099  I took adderall once as a child, and it made m...  \n",
       "3100  I was on Zoloft for about 2 years total. I am ...  \n",
       "3101                                                ---  \n",
       "3102  Started at 2 doses of 300 mg a day and worked ...  \n",
       "3103           I take Micardis in pill form once daily.  \n",
       "\n",
       "[3104 rows x 9 columns]"
      ]
     },
     "execution_count": 3,
     "metadata": {},
     "output_type": "execute_result"
    }
   ],
   "source": [
    "df"
   ]
  },
  {
   "cell_type": "code",
   "execution_count": 4,
   "metadata": {},
   "outputs": [
    {
     "name": "stdout",
     "output_type": "stream",
     "text": [
      "<class 'pandas.core.frame.DataFrame'>\n",
      "RangeIndex: 3104 entries, 0 to 3103\n",
      "Data columns (total 9 columns):\n",
      " #   Column             Non-Null Count  Dtype \n",
      "---  ------             --------------  ----- \n",
      " 0   Unnamed: 0         3104 non-null   int64 \n",
      " 1   urlDrugName        3104 non-null   object\n",
      " 2   rating             3104 non-null   int64 \n",
      " 3   effectiveness      3104 non-null   object\n",
      " 4   sideEffects        3104 non-null   object\n",
      " 5   condition          3103 non-null   object\n",
      " 6   benefitsReview     3086 non-null   object\n",
      " 7   sideEffectsReview  3029 non-null   object\n",
      " 8   commentsReview     3092 non-null   object\n",
      "dtypes: int64(2), object(7)\n",
      "memory usage: 218.4+ KB\n"
     ]
    }
   ],
   "source": [
    "df.info()"
   ]
  },
  {
   "cell_type": "code",
   "execution_count": 5,
   "metadata": {},
   "outputs": [
    {
     "data": {
      "text/plain": [
       "Unnamed: 0           3104\n",
       "urlDrugName           502\n",
       "rating                 10\n",
       "effectiveness           5\n",
       "sideEffects             5\n",
       "condition            1425\n",
       "benefitsReview       3028\n",
       "sideEffectsReview    2810\n",
       "commentsReview       3043\n",
       "dtype: int64"
      ]
     },
     "execution_count": 5,
     "metadata": {},
     "output_type": "execute_result"
    }
   ],
   "source": [
    "df.nunique()"
   ]
  },
  {
   "attachments": {},
   "cell_type": "markdown",
   "metadata": {
    "colab_type": "text",
    "id": "OhaWDPt-8ZlT"
   },
   "source": [
    "### Descriptive Analysis"
   ]
  },
  {
   "attachments": {},
   "cell_type": "markdown",
   "metadata": {},
   "source": [
    "Quedate únicamente con las columnas que podamos manejar: Columnas numéricas y columnas categoricas con pocas categorias (menos de 10)"
   ]
  },
  {
   "attachments": {},
   "cell_type": "markdown",
   "metadata": {},
   "source": [
    "#### Transforma las columnas categoricas\n",
    "\n",
    "Transforma las columnas categoricas a numericas mediante dummies"
   ]
  },
  {
   "cell_type": "code",
   "execution_count": 6,
   "metadata": {},
   "outputs": [],
   "source": [
    "df.drop(columns='Unnamed: 0', inplace= True)"
   ]
  },
  {
   "cell_type": "code",
   "execution_count": 7,
   "metadata": {},
   "outputs": [
    {
     "data": {
      "text/plain": [
       "array(['Highly Effective', 'Marginally Effective', 'Ineffective',\n",
       "       'Considerably Effective', 'Moderately Effective'], dtype=object)"
      ]
     },
     "execution_count": 7,
     "metadata": {},
     "output_type": "execute_result"
    }
   ],
   "source": [
    "df['effectiveness'].unique()"
   ]
  },
  {
   "cell_type": "code",
   "execution_count": 8,
   "metadata": {},
   "outputs": [
    {
     "data": {
      "text/plain": [
       "array(['Mild Side Effects', 'Severe Side Effects', 'No Side Effects',\n",
       "       'Extremely Severe Side Effects', 'Moderate Side Effects'],\n",
       "      dtype=object)"
      ]
     },
     "execution_count": 8,
     "metadata": {},
     "output_type": "execute_result"
    }
   ],
   "source": [
    "df['sideEffects'].unique()"
   ]
  },
  {
   "cell_type": "code",
   "execution_count": 9,
   "metadata": {},
   "outputs": [],
   "source": [
    "my_dict = {\"Ineffective\":0,\n",
    "            \"Marginally Effective\":1,\n",
    "            \"Moderately Effective\":2,\n",
    "            \"Considerably Effective\":3,\n",
    "            \"Highly Effective\":4}"
   ]
  },
  {
   "cell_type": "code",
   "execution_count": 10,
   "metadata": {},
   "outputs": [],
   "source": [
    "my_dict2 = {\"No Side Effects\":0,\n",
    "            \"Mild Side Effects\":1,\n",
    "            \"Moderate Side Effects\":2,\n",
    "            \"Severe Side Effects\":3,\n",
    "            \"Extremely Severe Side Effects\":4}"
   ]
  },
  {
   "cell_type": "code",
   "execution_count": 11,
   "metadata": {},
   "outputs": [],
   "source": [
    "df['effectiveness'] = df['effectiveness'].map(my_dict)"
   ]
  },
  {
   "cell_type": "code",
   "execution_count": 12,
   "metadata": {},
   "outputs": [],
   "source": [
    "df['sideEffects'] = df['sideEffects'].map(my_dict2)"
   ]
  },
  {
   "cell_type": "code",
   "execution_count": 13,
   "metadata": {},
   "outputs": [],
   "source": [
    "dfhandle = df[['rating', 'effectiveness', 'sideEffects']]"
   ]
  },
  {
   "cell_type": "code",
   "execution_count": 16,
   "metadata": {},
   "outputs": [
    {
     "data": {
      "text/html": [
       "<div>\n",
       "<style scoped>\n",
       "    .dataframe tbody tr th:only-of-type {\n",
       "        vertical-align: middle;\n",
       "    }\n",
       "\n",
       "    .dataframe tbody tr th {\n",
       "        vertical-align: top;\n",
       "    }\n",
       "\n",
       "    .dataframe thead th {\n",
       "        text-align: right;\n",
       "    }\n",
       "</style>\n",
       "<table border=\"1\" class=\"dataframe\">\n",
       "  <thead>\n",
       "    <tr style=\"text-align: right;\">\n",
       "      <th></th>\n",
       "      <th>rating</th>\n",
       "      <th>effectiveness</th>\n",
       "      <th>sideEffects</th>\n",
       "    </tr>\n",
       "  </thead>\n",
       "  <tbody>\n",
       "    <tr>\n",
       "      <th>0</th>\n",
       "      <td>4</td>\n",
       "      <td>4</td>\n",
       "      <td>1</td>\n",
       "    </tr>\n",
       "    <tr>\n",
       "      <th>1</th>\n",
       "      <td>2</td>\n",
       "      <td>1</td>\n",
       "      <td>3</td>\n",
       "    </tr>\n",
       "    <tr>\n",
       "      <th>2</th>\n",
       "      <td>1</td>\n",
       "      <td>0</td>\n",
       "      <td>3</td>\n",
       "    </tr>\n",
       "    <tr>\n",
       "      <th>3</th>\n",
       "      <td>9</td>\n",
       "      <td>4</td>\n",
       "      <td>1</td>\n",
       "    </tr>\n",
       "    <tr>\n",
       "      <th>4</th>\n",
       "      <td>10</td>\n",
       "      <td>3</td>\n",
       "      <td>0</td>\n",
       "    </tr>\n",
       "    <tr>\n",
       "      <th>...</th>\n",
       "      <td>...</td>\n",
       "      <td>...</td>\n",
       "      <td>...</td>\n",
       "    </tr>\n",
       "    <tr>\n",
       "      <th>3099</th>\n",
       "      <td>10</td>\n",
       "      <td>4</td>\n",
       "      <td>1</td>\n",
       "    </tr>\n",
       "    <tr>\n",
       "      <th>3100</th>\n",
       "      <td>1</td>\n",
       "      <td>0</td>\n",
       "      <td>4</td>\n",
       "    </tr>\n",
       "    <tr>\n",
       "      <th>3101</th>\n",
       "      <td>2</td>\n",
       "      <td>1</td>\n",
       "      <td>2</td>\n",
       "    </tr>\n",
       "    <tr>\n",
       "      <th>3102</th>\n",
       "      <td>8</td>\n",
       "      <td>3</td>\n",
       "      <td>1</td>\n",
       "    </tr>\n",
       "    <tr>\n",
       "      <th>3103</th>\n",
       "      <td>4</td>\n",
       "      <td>2</td>\n",
       "      <td>2</td>\n",
       "    </tr>\n",
       "  </tbody>\n",
       "</table>\n",
       "<p>3104 rows × 3 columns</p>\n",
       "</div>"
      ],
      "text/plain": [
       "      rating  effectiveness  sideEffects\n",
       "0          4              4            1\n",
       "1          2              1            3\n",
       "2          1              0            3\n",
       "3          9              4            1\n",
       "4         10              3            0\n",
       "...      ...            ...          ...\n",
       "3099      10              4            1\n",
       "3100       1              0            4\n",
       "3101       2              1            2\n",
       "3102       8              3            1\n",
       "3103       4              2            2\n",
       "\n",
       "[3104 rows x 3 columns]"
      ]
     },
     "execution_count": 16,
     "metadata": {},
     "output_type": "execute_result"
    }
   ],
   "source": [
    "dfhandle"
   ]
  },
  {
   "attachments": {},
   "cell_type": "markdown",
   "metadata": {
    "colab_type": "text",
    "id": "HtBmwGdNnUGf"
   },
   "source": [
    "#### Evalua cual es la mejor K\n",
    "\n",
    "Utiliza silhouette_score para evaluar cual es la mejor K. Evalua como mucho K = 20"
   ]
  },
  {
   "attachments": {},
   "cell_type": "markdown",
   "metadata": {},
   "source": [
    "#### Genera el K Means "
   ]
  },
  {
   "cell_type": "code",
   "execution_count": 18,
   "metadata": {},
   "outputs": [],
   "source": [
    "from sklearn.metrics import silhouette_score\n",
    "from sklearn.cluster import KMeans"
   ]
  },
  {
   "cell_type": "code",
   "execution_count": 19,
   "metadata": {},
   "outputs": [
    {
     "name": "stderr",
     "output_type": "stream",
     "text": [
      "c:\\Users\\taylo\\Documents\\GitHub\\DS_PT_09_2023\\.venv\\Lib\\site-packages\\sklearn\\cluster\\_kmeans.py:1416: FutureWarning: The default value of `n_init` will change from 10 to 'auto' in 1.4. Set the value of `n_init` explicitly to suppress the warning\n",
      "  super()._check_params_vs_input(X, default_n_init=10)\n",
      "c:\\Users\\taylo\\Documents\\GitHub\\DS_PT_09_2023\\.venv\\Lib\\site-packages\\sklearn\\cluster\\_kmeans.py:1416: FutureWarning: The default value of `n_init` will change from 10 to 'auto' in 1.4. Set the value of `n_init` explicitly to suppress the warning\n",
      "  super()._check_params_vs_input(X, default_n_init=10)\n",
      "c:\\Users\\taylo\\Documents\\GitHub\\DS_PT_09_2023\\.venv\\Lib\\site-packages\\sklearn\\cluster\\_kmeans.py:1416: FutureWarning: The default value of `n_init` will change from 10 to 'auto' in 1.4. Set the value of `n_init` explicitly to suppress the warning\n",
      "  super()._check_params_vs_input(X, default_n_init=10)\n",
      "c:\\Users\\taylo\\Documents\\GitHub\\DS_PT_09_2023\\.venv\\Lib\\site-packages\\sklearn\\cluster\\_kmeans.py:1416: FutureWarning: The default value of `n_init` will change from 10 to 'auto' in 1.4. Set the value of `n_init` explicitly to suppress the warning\n",
      "  super()._check_params_vs_input(X, default_n_init=10)\n",
      "c:\\Users\\taylo\\Documents\\GitHub\\DS_PT_09_2023\\.venv\\Lib\\site-packages\\sklearn\\cluster\\_kmeans.py:1416: FutureWarning: The default value of `n_init` will change from 10 to 'auto' in 1.4. Set the value of `n_init` explicitly to suppress the warning\n",
      "  super()._check_params_vs_input(X, default_n_init=10)\n",
      "c:\\Users\\taylo\\Documents\\GitHub\\DS_PT_09_2023\\.venv\\Lib\\site-packages\\sklearn\\cluster\\_kmeans.py:1416: FutureWarning: The default value of `n_init` will change from 10 to 'auto' in 1.4. Set the value of `n_init` explicitly to suppress the warning\n",
      "  super()._check_params_vs_input(X, default_n_init=10)\n",
      "c:\\Users\\taylo\\Documents\\GitHub\\DS_PT_09_2023\\.venv\\Lib\\site-packages\\sklearn\\cluster\\_kmeans.py:1416: FutureWarning: The default value of `n_init` will change from 10 to 'auto' in 1.4. Set the value of `n_init` explicitly to suppress the warning\n",
      "  super()._check_params_vs_input(X, default_n_init=10)\n",
      "c:\\Users\\taylo\\Documents\\GitHub\\DS_PT_09_2023\\.venv\\Lib\\site-packages\\sklearn\\cluster\\_kmeans.py:1416: FutureWarning: The default value of `n_init` will change from 10 to 'auto' in 1.4. Set the value of `n_init` explicitly to suppress the warning\n",
      "  super()._check_params_vs_input(X, default_n_init=10)\n",
      "c:\\Users\\taylo\\Documents\\GitHub\\DS_PT_09_2023\\.venv\\Lib\\site-packages\\sklearn\\cluster\\_kmeans.py:1416: FutureWarning: The default value of `n_init` will change from 10 to 'auto' in 1.4. Set the value of `n_init` explicitly to suppress the warning\n",
      "  super()._check_params_vs_input(X, default_n_init=10)\n",
      "c:\\Users\\taylo\\Documents\\GitHub\\DS_PT_09_2023\\.venv\\Lib\\site-packages\\sklearn\\cluster\\_kmeans.py:1416: FutureWarning: The default value of `n_init` will change from 10 to 'auto' in 1.4. Set the value of `n_init` explicitly to suppress the warning\n",
      "  super()._check_params_vs_input(X, default_n_init=10)\n",
      "c:\\Users\\taylo\\Documents\\GitHub\\DS_PT_09_2023\\.venv\\Lib\\site-packages\\sklearn\\cluster\\_kmeans.py:1416: FutureWarning: The default value of `n_init` will change from 10 to 'auto' in 1.4. Set the value of `n_init` explicitly to suppress the warning\n",
      "  super()._check_params_vs_input(X, default_n_init=10)\n",
      "c:\\Users\\taylo\\Documents\\GitHub\\DS_PT_09_2023\\.venv\\Lib\\site-packages\\sklearn\\cluster\\_kmeans.py:1416: FutureWarning: The default value of `n_init` will change from 10 to 'auto' in 1.4. Set the value of `n_init` explicitly to suppress the warning\n",
      "  super()._check_params_vs_input(X, default_n_init=10)\n",
      "c:\\Users\\taylo\\Documents\\GitHub\\DS_PT_09_2023\\.venv\\Lib\\site-packages\\sklearn\\cluster\\_kmeans.py:1416: FutureWarning: The default value of `n_init` will change from 10 to 'auto' in 1.4. Set the value of `n_init` explicitly to suppress the warning\n",
      "  super()._check_params_vs_input(X, default_n_init=10)\n",
      "c:\\Users\\taylo\\Documents\\GitHub\\DS_PT_09_2023\\.venv\\Lib\\site-packages\\sklearn\\cluster\\_kmeans.py:1416: FutureWarning: The default value of `n_init` will change from 10 to 'auto' in 1.4. Set the value of `n_init` explicitly to suppress the warning\n",
      "  super()._check_params_vs_input(X, default_n_init=10)\n",
      "c:\\Users\\taylo\\Documents\\GitHub\\DS_PT_09_2023\\.venv\\Lib\\site-packages\\sklearn\\cluster\\_kmeans.py:1416: FutureWarning: The default value of `n_init` will change from 10 to 'auto' in 1.4. Set the value of `n_init` explicitly to suppress the warning\n",
      "  super()._check_params_vs_input(X, default_n_init=10)\n",
      "c:\\Users\\taylo\\Documents\\GitHub\\DS_PT_09_2023\\.venv\\Lib\\site-packages\\sklearn\\cluster\\_kmeans.py:1416: FutureWarning: The default value of `n_init` will change from 10 to 'auto' in 1.4. Set the value of `n_init` explicitly to suppress the warning\n",
      "  super()._check_params_vs_input(X, default_n_init=10)\n",
      "c:\\Users\\taylo\\Documents\\GitHub\\DS_PT_09_2023\\.venv\\Lib\\site-packages\\sklearn\\cluster\\_kmeans.py:1416: FutureWarning: The default value of `n_init` will change from 10 to 'auto' in 1.4. Set the value of `n_init` explicitly to suppress the warning\n",
      "  super()._check_params_vs_input(X, default_n_init=10)\n",
      "c:\\Users\\taylo\\Documents\\GitHub\\DS_PT_09_2023\\.venv\\Lib\\site-packages\\sklearn\\cluster\\_kmeans.py:1416: FutureWarning: The default value of `n_init` will change from 10 to 'auto' in 1.4. Set the value of `n_init` explicitly to suppress the warning\n",
      "  super()._check_params_vs_input(X, default_n_init=10)\n",
      "c:\\Users\\taylo\\Documents\\GitHub\\DS_PT_09_2023\\.venv\\Lib\\site-packages\\sklearn\\cluster\\_kmeans.py:1416: FutureWarning: The default value of `n_init` will change from 10 to 'auto' in 1.4. Set the value of `n_init` explicitly to suppress the warning\n",
      "  super()._check_params_vs_input(X, default_n_init=10)\n"
     ]
    }
   ],
   "source": [
    "kmeans_xk = [KMeans(n_clusters=k, random_state=23).fit(dfhandle) for k in range(2, 21)]"
   ]
  },
  {
   "cell_type": "code",
   "execution_count": 20,
   "metadata": {},
   "outputs": [
    {
     "data": {
      "text/plain": [
       "[KMeans(n_clusters=2, random_state=23),\n",
       " KMeans(n_clusters=3, random_state=23),\n",
       " KMeans(n_clusters=4, random_state=23),\n",
       " KMeans(n_clusters=5, random_state=23),\n",
       " KMeans(n_clusters=6, random_state=23),\n",
       " KMeans(n_clusters=7, random_state=23),\n",
       " KMeans(random_state=23),\n",
       " KMeans(n_clusters=9, random_state=23),\n",
       " KMeans(n_clusters=10, random_state=23),\n",
       " KMeans(n_clusters=11, random_state=23),\n",
       " KMeans(n_clusters=12, random_state=23),\n",
       " KMeans(n_clusters=13, random_state=23),\n",
       " KMeans(n_clusters=14, random_state=23),\n",
       " KMeans(n_clusters=15, random_state=23),\n",
       " KMeans(n_clusters=16, random_state=23),\n",
       " KMeans(n_clusters=17, random_state=23),\n",
       " KMeans(n_clusters=18, random_state=23),\n",
       " KMeans(n_clusters=19, random_state=23),\n",
       " KMeans(n_clusters=20, random_state=23)]"
      ]
     },
     "execution_count": 20,
     "metadata": {},
     "output_type": "execute_result"
    }
   ],
   "source": [
    "kmeans_xk"
   ]
  },
  {
   "attachments": {},
   "cell_type": "markdown",
   "metadata": {},
   "source": [
    "Mayor silhouette scores con K=2"
   ]
  },
  {
   "cell_type": "code",
   "execution_count": 21,
   "metadata": {},
   "outputs": [],
   "source": [
    "silhouette_scores = [silhouette_score(dfhandle, model.labels_) for model in kmeans_xk]"
   ]
  },
  {
   "cell_type": "code",
   "execution_count": 22,
   "metadata": {},
   "outputs": [
    {
     "data": {
      "text/plain": [
       "[0.6190566493652461,\n",
       " 0.454050066862784,\n",
       " 0.4165207609174424,\n",
       " 0.4151578247836361,\n",
       " 0.40733168454011326,\n",
       " 0.3823276032893191,\n",
       " 0.39637483781946614,\n",
       " 0.402967839641486,\n",
       " 0.40077091837916795,\n",
       " 0.40640478006427727,\n",
       " 0.43760487680705795,\n",
       " 0.43340524958625065,\n",
       " 0.4229642284263185,\n",
       " 0.4664670190060596,\n",
       " 0.47510139971360815,\n",
       " 0.47584525028710617,\n",
       " 0.49799199442847725,\n",
       " 0.5021415362952993,\n",
       " 0.5052529307663984]"
      ]
     },
     "execution_count": 22,
     "metadata": {},
     "output_type": "execute_result"
    }
   ],
   "source": [
    "silhouette_scores"
   ]
  },
  {
   "cell_type": "code",
   "execution_count": 23,
   "metadata": {},
   "outputs": [
    {
     "data": {
      "text/plain": [
       "[<matplotlib.lines.Line2D at 0x2218d9d6210>]"
      ]
     },
     "execution_count": 23,
     "metadata": {},
     "output_type": "execute_result"
    },
    {
     "data": {
      "image/png": "[encoded data removed]",
      "text/plain": [
       "<Figure size 640x480 with 1 Axes>"
      ]
     },
     "metadata": {},
     "output_type": "display_data"
    }
   ],
   "source": [
    "plt.plot(range(2,21), silhouette_scores)"
   ]
  },
  {
   "cell_type": "code",
   "execution_count": 24,
   "metadata": {},
   "outputs": [
    {
     "data": {
      "text/plain": [
       "[11123.041393170835,\n",
       " 7241.683282421394,\n",
       " 5677.672219108383,\n",
       " 4792.369211668961,\n",
       " 4223.97279161341,\n",
       " 3783.6517480142056,\n",
       " 3335.35495701281,\n",
       " 2984.250677558392,\n",
       " 2757.293675210259,\n",
       " 2594.4729788724107,\n",
       " 2436.591011411652,\n",
       " 2275.433769853658,\n",
       " 2194.140483431725,\n",
       " 2049.445461623702,\n",
       " 1922.0739894755786,\n",
       " 1814.2083838693684,\n",
       " 1778.4306903169745,\n",
       " 1699.138757235942,\n",
       " 1581.1851681738558]"
      ]
     },
     "execution_count": 24,
     "metadata": {},
     "output_type": "execute_result"
    }
   ],
   "source": [
    "inercias = [model.inertia_ for model in kmeans_xk]\n",
    "inercias"
   ]
  },
  {
   "cell_type": "code",
   "execution_count": 25,
   "metadata": {},
   "outputs": [
    {
     "data": {
      "text/plain": [
       "[<matplotlib.lines.Line2D at 0x2218d9c57d0>]"
      ]
     },
     "execution_count": 25,
     "metadata": {},
     "output_type": "execute_result"
    },
    {
     "data": {
      "image/png": "[encoded data removed]",
      "text/plain": [
       "<Figure size 640x480 with 1 Axes>"
      ]
     },
     "metadata": {},
     "output_type": "display_data"
    }
   ],
   "source": [
    "plt.plot(range(2,21), inercias)"
   ]
  },
  {
   "attachments": {},
   "cell_type": "markdown",
   "metadata": {},
   "source": [
    "Con el Elbow method comprobamos que k=2 sería la opción más adecuada"
   ]
  },
  {
   "cell_type": "code",
   "execution_count": 26,
   "metadata": {},
   "outputs": [
    {
     "name": "stderr",
     "output_type": "stream",
     "text": [
      "c:\\Users\\taylo\\Documents\\GitHub\\DS_PT_09_2023\\.venv\\Lib\\site-packages\\sklearn\\cluster\\_kmeans.py:1416: FutureWarning: The default value of `n_init` will change from 10 to 'auto' in 1.4. Set the value of `n_init` explicitly to suppress the warning\n",
      "  super()._check_params_vs_input(X, default_n_init=10)\n"
     ]
    }
   ],
   "source": [
    "kmeans = KMeans(n_clusters=2, random_state=42).fit(dfhandle)"
   ]
  },
  {
   "cell_type": "code",
   "execution_count": 30,
   "metadata": {},
   "outputs": [
    {
     "data": {
      "text/plain": [
       "array([1, 1, 1, ..., 1, 0, 1])"
      ]
     },
     "execution_count": 30,
     "metadata": {},
     "output_type": "execute_result"
    }
   ],
   "source": [
    "kmeans.labels_"
   ]
  },
  {
   "attachments": {},
   "cell_type": "markdown",
   "metadata": {},
   "source": [
    "#### Muestra en un gráfico de tartas la distribución de los distintos clusters"
   ]
  },
  {
   "cell_type": "code",
   "execution_count": 28,
   "metadata": {},
   "outputs": [],
   "source": [
    "df_cluster = pd.DataFrame(kmeans.labels_, columns=['Cluster'])"
   ]
  },
  {
   "cell_type": "code",
   "execution_count": 31,
   "metadata": {},
   "outputs": [
    {
     "data": {
      "text/html": [
       "<div>\n",
       "<style scoped>\n",
       "    .dataframe tbody tr th:only-of-type {\n",
       "        vertical-align: middle;\n",
       "    }\n",
       "\n",
       "    .dataframe tbody tr th {\n",
       "        vertical-align: top;\n",
       "    }\n",
       "\n",
       "    .dataframe thead th {\n",
       "        text-align: right;\n",
       "    }\n",
       "</style>\n",
       "<table border=\"1\" class=\"dataframe\">\n",
       "  <thead>\n",
       "    <tr style=\"text-align: right;\">\n",
       "      <th></th>\n",
       "      <th>Cluster</th>\n",
       "    </tr>\n",
       "  </thead>\n",
       "  <tbody>\n",
       "    <tr>\n",
       "      <th>0</th>\n",
       "      <td>1</td>\n",
       "    </tr>\n",
       "    <tr>\n",
       "      <th>1</th>\n",
       "      <td>1</td>\n",
       "    </tr>\n",
       "    <tr>\n",
       "      <th>2</th>\n",
       "      <td>1</td>\n",
       "    </tr>\n",
       "    <tr>\n",
       "      <th>3</th>\n",
       "      <td>0</td>\n",
       "    </tr>\n",
       "    <tr>\n",
       "      <th>4</th>\n",
       "      <td>0</td>\n",
       "    </tr>\n",
       "    <tr>\n",
       "      <th>...</th>\n",
       "      <td>...</td>\n",
       "    </tr>\n",
       "    <tr>\n",
       "      <th>3099</th>\n",
       "      <td>0</td>\n",
       "    </tr>\n",
       "    <tr>\n",
       "      <th>3100</th>\n",
       "      <td>1</td>\n",
       "    </tr>\n",
       "    <tr>\n",
       "      <th>3101</th>\n",
       "      <td>1</td>\n",
       "    </tr>\n",
       "    <tr>\n",
       "      <th>3102</th>\n",
       "      <td>0</td>\n",
       "    </tr>\n",
       "    <tr>\n",
       "      <th>3103</th>\n",
       "      <td>1</td>\n",
       "    </tr>\n",
       "  </tbody>\n",
       "</table>\n",
       "<p>3104 rows × 1 columns</p>\n",
       "</div>"
      ],
      "text/plain": [
       "      Cluster\n",
       "0           1\n",
       "1           1\n",
       "2           1\n",
       "3           0\n",
       "4           0\n",
       "...       ...\n",
       "3099        0\n",
       "3100        1\n",
       "3101        1\n",
       "3102        0\n",
       "3103        1\n",
       "\n",
       "[3104 rows x 1 columns]"
      ]
     },
     "execution_count": 31,
     "metadata": {},
     "output_type": "execute_result"
    }
   ],
   "source": [
    "df_cluster"
   ]
  },
  {
   "cell_type": "code",
   "execution_count": 29,
   "metadata": {},
   "outputs": [
    {
     "data": {
      "text/plain": [
       "<Axes: ylabel='count'>"
      ]
     },
     "execution_count": 29,
     "metadata": {},
     "output_type": "execute_result"
    },
    {
     "data": {
      "image/png": "[encoded data removed]",
      "text/plain": [
       "<Figure size 640x480 with 1 Axes>"
      ]
     },
     "metadata": {},
     "output_type": "display_data"
    }
   ],
   "source": [
    "df_cluster['Cluster'].value_counts().plot.pie(autopct=\"%.1f%%\")"
   ]
  }
 ],
 "metadata": {
  "colab": {
   "collapsed_sections": [],
   "name": "kmeans-user-clustering.ipynb",
   "provenance": []
  },
  "kernelspec": {
   "display_name": "Python 3",
   "language": "python",
   "name": "python3"
  },
  "language_info": {
   "codemirror_mode": {
    "name": "ipython",
    "version": 3
   },
   "file_extension": ".py",
   "mimetype": "text/x-python",
   "name": "python",
   "nbconvert_exporter": "python",
   "pygments_lexer": "ipython3",
   "version": "3.11.5"
  },
  "nbTranslate": {
   "displayLangs": [
    "*"
   ],
   "hotkey": "alt-t",
   "langInMainMenu": true,
   "sourceLang": "en",
   "targetLang": "fr",
   "useGoogleTranslate": true
  },
  "varInspector": {
   "cols": {
    "lenName": 16,
    "lenType": 16,
    "lenVar": 40
   },
   "kernels_config": {
    "python": {
     "delete_cmd_postfix": "",
     "delete_cmd_prefix": "del ",
     "library": "var_list.py",
     "varRefreshCmd": "print(var_dic_list())"
    },
    "r": {
     "delete_cmd_postfix": ") ",
     "delete_cmd_prefix": "rm(",
     "library": "var_list.r",
     "varRefreshCmd": "cat(var_dic_list()) "
    }
   },
   "types_to_exclude": [
    "module",
    "function",
    "builtin_function_or_method",
    "instance",
    "_Feature"
   ],
   "window_display": false
  }
 },
 "nbformat": 4,
 "nbformat_minor": 4
}
