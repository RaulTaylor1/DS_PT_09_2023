{
 "cells": [
  {
   "cell_type": "markdown",
   "metadata": {},
   "source": [
    "## Librerías"
   ]
  },
  {
   "cell_type": "code",
   "execution_count": 1,
   "metadata": {},
   "outputs": [],
   "source": [
    "import numpy as np\n",
    "import pandas as pd\n",
    "import urllib.request\n",
    "from PIL import Image\n",
    "import warnings\n",
    "warnings.filterwarnings('ignore')"
   ]
  },
  {
   "cell_type": "markdown",
   "metadata": {},
   "source": [
    "## Data"
   ]
  },
  {
   "cell_type": "code",
   "execution_count": 2,
   "metadata": {},
   "outputs": [],
   "source": [
    "train = pd.read_csv('../Kaggle1/data/train.csv')"
   ]
  },
  {
   "cell_type": "code",
   "execution_count": 3,
   "metadata": {},
   "outputs": [
    {
     "data": {
      "text/html": [
       "<div>\n",
       "<style scoped>\n",
       "    .dataframe tbody tr th:only-of-type {\n",
       "        vertical-align: middle;\n",
       "    }\n",
       "\n",
       "    .dataframe tbody tr th {\n",
       "        vertical-align: top;\n",
       "    }\n",
       "\n",
       "    .dataframe thead th {\n",
       "        text-align: right;\n",
       "    }\n",
       "</style>\n",
       "<table border=\"1\" class=\"dataframe\">\n",
       "  <thead>\n",
       "    <tr style=\"text-align: right;\">\n",
       "      <th></th>\n",
       "      <th>laptop_ID</th>\n",
       "      <th>Company</th>\n",
       "      <th>Product</th>\n",
       "      <th>TypeName</th>\n",
       "      <th>Inches</th>\n",
       "      <th>ScreenResolution</th>\n",
       "      <th>Cpu</th>\n",
       "      <th>Ram</th>\n",
       "      <th>Memory</th>\n",
       "      <th>Gpu</th>\n",
       "      <th>OpSys</th>\n",
       "      <th>Weight</th>\n",
       "      <th>Price_euros</th>\n",
       "    </tr>\n",
       "  </thead>\n",
       "  <tbody>\n",
       "    <tr>\n",
       "      <th>0</th>\n",
       "      <td>1104</td>\n",
       "      <td>Acer</td>\n",
       "      <td>Aspire ES1-523</td>\n",
       "      <td>Notebook</td>\n",
       "      <td>15.6</td>\n",
       "      <td>1366x768</td>\n",
       "      <td>AMD A8-Series 7410 2.2GHz</td>\n",
       "      <td>4GB</td>\n",
       "      <td>500GB HDD</td>\n",
       "      <td>AMD Radeon R5</td>\n",
       "      <td>Windows 10</td>\n",
       "      <td>2.4kg</td>\n",
       "      <td>387.0</td>\n",
       "    </tr>\n",
       "    <tr>\n",
       "      <th>1</th>\n",
       "      <td>114</td>\n",
       "      <td>Dell</td>\n",
       "      <td>XPS 13</td>\n",
       "      <td>Ultrabook</td>\n",
       "      <td>13.3</td>\n",
       "      <td>Quad HD+ / Touchscreen 3200x1800</td>\n",
       "      <td>Intel Core i7 7560U 2.4GHz</td>\n",
       "      <td>8GB</td>\n",
       "      <td>256GB SSD</td>\n",
       "      <td>Intel Iris Plus Graphics 640</td>\n",
       "      <td>Windows 10</td>\n",
       "      <td>1.23kg</td>\n",
       "      <td>1379.0</td>\n",
       "    </tr>\n",
       "    <tr>\n",
       "      <th>2</th>\n",
       "      <td>172</td>\n",
       "      <td>Acer</td>\n",
       "      <td>Aspire A517-51G</td>\n",
       "      <td>Notebook</td>\n",
       "      <td>17.3</td>\n",
       "      <td>IPS Panel Full HD 1920x1080</td>\n",
       "      <td>Intel Core i5 8250U 1.6GHz</td>\n",
       "      <td>8GB</td>\n",
       "      <td>256GB SSD</td>\n",
       "      <td>Nvidia GeForce MX150</td>\n",
       "      <td>Windows 10</td>\n",
       "      <td>3kg</td>\n",
       "      <td>854.0</td>\n",
       "    </tr>\n",
       "    <tr>\n",
       "      <th>3</th>\n",
       "      <td>918</td>\n",
       "      <td>HP</td>\n",
       "      <td>Elitebook 820</td>\n",
       "      <td>Netbook</td>\n",
       "      <td>12.5</td>\n",
       "      <td>Full HD 1920x1080</td>\n",
       "      <td>Intel Core i7 7500U 2.7GHz</td>\n",
       "      <td>8GB</td>\n",
       "      <td>512GB SSD</td>\n",
       "      <td>Intel HD Graphics 620</td>\n",
       "      <td>Windows 10</td>\n",
       "      <td>1.26kg</td>\n",
       "      <td>1483.0</td>\n",
       "    </tr>\n",
       "    <tr>\n",
       "      <th>4</th>\n",
       "      <td>447</td>\n",
       "      <td>Lenovo</td>\n",
       "      <td>IdeaPad 320-15AST</td>\n",
       "      <td>Notebook</td>\n",
       "      <td>17.3</td>\n",
       "      <td>1600x900</td>\n",
       "      <td>AMD A6-Series 9220 2.5GHz</td>\n",
       "      <td>8GB</td>\n",
       "      <td>1TB HDD</td>\n",
       "      <td>AMD Radeon R4</td>\n",
       "      <td>Windows 10</td>\n",
       "      <td>2.8kg</td>\n",
       "      <td>519.0</td>\n",
       "    </tr>\n",
       "  </tbody>\n",
       "</table>\n",
       "</div>"
      ],
      "text/plain": [
       "   laptop_ID Company            Product   TypeName  Inches  \\\n",
       "0       1104    Acer     Aspire ES1-523   Notebook    15.6   \n",
       "1        114    Dell             XPS 13  Ultrabook    13.3   \n",
       "2        172    Acer    Aspire A517-51G   Notebook    17.3   \n",
       "3        918      HP      Elitebook 820    Netbook    12.5   \n",
       "4        447  Lenovo  IdeaPad 320-15AST   Notebook    17.3   \n",
       "\n",
       "                   ScreenResolution                         Cpu  Ram  \\\n",
       "0                          1366x768   AMD A8-Series 7410 2.2GHz  4GB   \n",
       "1  Quad HD+ / Touchscreen 3200x1800  Intel Core i7 7560U 2.4GHz  8GB   \n",
       "2       IPS Panel Full HD 1920x1080  Intel Core i5 8250U 1.6GHz  8GB   \n",
       "3                 Full HD 1920x1080  Intel Core i7 7500U 2.7GHz  8GB   \n",
       "4                          1600x900   AMD A6-Series 9220 2.5GHz  8GB   \n",
       "\n",
       "      Memory                           Gpu       OpSys  Weight  Price_euros  \n",
       "0  500GB HDD                 AMD Radeon R5  Windows 10   2.4kg        387.0  \n",
       "1  256GB SSD  Intel Iris Plus Graphics 640  Windows 10  1.23kg       1379.0  \n",
       "2  256GB SSD          Nvidia GeForce MX150  Windows 10     3kg        854.0  \n",
       "3  512GB SSD         Intel HD Graphics 620  Windows 10  1.26kg       1483.0  \n",
       "4    1TB HDD                 AMD Radeon R4  Windows 10   2.8kg        519.0  "
      ]
     },
     "execution_count": 3,
     "metadata": {},
     "output_type": "execute_result"
    }
   ],
   "source": [
    "train.head()"
   ]
  },
  {
   "cell_type": "code",
   "execution_count": 4,
   "metadata": {},
   "outputs": [],
   "source": [
    "train['Ram_clean'] = train['Ram'].map(lambda x: x.rstrip('GB'))\n",
    "train['Weight_clean'] = train['Weight'].map(lambda x: x.rstrip('kg'))"
   ]
  },
  {
   "cell_type": "code",
   "execution_count": 7,
   "metadata": {},
   "outputs": [],
   "source": [
    "train['GHz'] = train['Cpu'].str.findall(r'(\\d+\\.\\d+|\\d+)GHz')\n",
    "train['GHz'] = train['GHz'].apply(lambda x: float(x[0]) if x else None)"
   ]
  },
  {
   "cell_type": "code",
   "execution_count": 12,
   "metadata": {},
   "outputs": [],
   "source": [
    "train['PX'] = train['ScreenResolution'].str.findall(r'(\\d+)x(\\d+)')\n",
    "train['PX_ancho'] = train['PX'].apply(lambda x: x[0][0] if x else None)\n",
    "train['PX_alto'] = train['PX'].apply(lambda x: x[0][1] if x else None)\n",
    "train['Marca_CPU'] = train['Cpu'].str.split().str[0]"
   ]
  },
  {
   "cell_type": "code",
   "execution_count": 22,
   "metadata": {},
   "outputs": [],
   "source": [
    "train.drop(columns=['Ram', 'Weight'], inplace=True)\n",
    "train.drop(columns=['ScreenResolution'], inplace=True)\n",
    "train.drop(columns=['PX'], inplace=True)\n",
    "train.drop(columns=['Cpu'], inplace=True)"
   ]
  },
  {
   "cell_type": "code",
   "execution_count": 25,
   "metadata": {},
   "outputs": [],
   "source": [
    "train['Ram_clean'] = train['Ram_clean'].astype(int)\n",
    "train['Weight_clean'] = train['Weight_clean'].astype(float)\n",
    "train['PX_ancho'] = train['PX_ancho'].astype(int)\n",
    "train['PX_alto'] = train['PX_alto'].astype(int)"
   ]
  },
  {
   "cell_type": "code",
   "execution_count": 32,
   "metadata": {},
   "outputs": [
    {
     "data": {
      "text/html": [
       "<div>\n",
       "<style scoped>\n",
       "    .dataframe tbody tr th:only-of-type {\n",
       "        vertical-align: middle;\n",
       "    }\n",
       "\n",
       "    .dataframe tbody tr th {\n",
       "        vertical-align: top;\n",
       "    }\n",
       "\n",
       "    .dataframe thead th {\n",
       "        text-align: right;\n",
       "    }\n",
       "</style>\n",
       "<table border=\"1\" class=\"dataframe\">\n",
       "  <thead>\n",
       "    <tr style=\"text-align: right;\">\n",
       "      <th></th>\n",
       "      <th>laptop_ID</th>\n",
       "      <th>Company</th>\n",
       "      <th>Product</th>\n",
       "      <th>TypeName</th>\n",
       "      <th>Inches</th>\n",
       "      <th>Memory</th>\n",
       "      <th>Gpu</th>\n",
       "      <th>OpSys</th>\n",
       "      <th>Price_euros</th>\n",
       "      <th>Ram_clean</th>\n",
       "      <th>Weight_clean</th>\n",
       "      <th>GHz</th>\n",
       "      <th>PX_ancho</th>\n",
       "      <th>PX_alto</th>\n",
       "      <th>Marca_CPU</th>\n",
       "    </tr>\n",
       "  </thead>\n",
       "  <tbody>\n",
       "    <tr>\n",
       "      <th>0</th>\n",
       "      <td>1104</td>\n",
       "      <td>Acer</td>\n",
       "      <td>Aspire ES1-523</td>\n",
       "      <td>Notebook</td>\n",
       "      <td>15.6</td>\n",
       "      <td>500GB HDD</td>\n",
       "      <td>AMD Radeon R5</td>\n",
       "      <td>Windows 10</td>\n",
       "      <td>387.0</td>\n",
       "      <td>4</td>\n",
       "      <td>2.40</td>\n",
       "      <td>2.2</td>\n",
       "      <td>1366</td>\n",
       "      <td>768</td>\n",
       "      <td>AMD</td>\n",
       "    </tr>\n",
       "    <tr>\n",
       "      <th>1</th>\n",
       "      <td>114</td>\n",
       "      <td>Dell</td>\n",
       "      <td>XPS 13</td>\n",
       "      <td>Ultrabook</td>\n",
       "      <td>13.3</td>\n",
       "      <td>256GB SSD</td>\n",
       "      <td>Intel Iris Plus Graphics 640</td>\n",
       "      <td>Windows 10</td>\n",
       "      <td>1379.0</td>\n",
       "      <td>8</td>\n",
       "      <td>1.23</td>\n",
       "      <td>2.4</td>\n",
       "      <td>3200</td>\n",
       "      <td>1800</td>\n",
       "      <td>Intel</td>\n",
       "    </tr>\n",
       "    <tr>\n",
       "      <th>2</th>\n",
       "      <td>172</td>\n",
       "      <td>Acer</td>\n",
       "      <td>Aspire A517-51G</td>\n",
       "      <td>Notebook</td>\n",
       "      <td>17.3</td>\n",
       "      <td>256GB SSD</td>\n",
       "      <td>Nvidia GeForce MX150</td>\n",
       "      <td>Windows 10</td>\n",
       "      <td>854.0</td>\n",
       "      <td>8</td>\n",
       "      <td>3.00</td>\n",
       "      <td>1.6</td>\n",
       "      <td>1920</td>\n",
       "      <td>1080</td>\n",
       "      <td>Intel</td>\n",
       "    </tr>\n",
       "    <tr>\n",
       "      <th>3</th>\n",
       "      <td>918</td>\n",
       "      <td>HP</td>\n",
       "      <td>Elitebook 820</td>\n",
       "      <td>Netbook</td>\n",
       "      <td>12.5</td>\n",
       "      <td>512GB SSD</td>\n",
       "      <td>Intel HD Graphics 620</td>\n",
       "      <td>Windows 10</td>\n",
       "      <td>1483.0</td>\n",
       "      <td>8</td>\n",
       "      <td>1.26</td>\n",
       "      <td>2.7</td>\n",
       "      <td>1920</td>\n",
       "      <td>1080</td>\n",
       "      <td>Intel</td>\n",
       "    </tr>\n",
       "    <tr>\n",
       "      <th>4</th>\n",
       "      <td>447</td>\n",
       "      <td>Lenovo</td>\n",
       "      <td>IdeaPad 320-15AST</td>\n",
       "      <td>Notebook</td>\n",
       "      <td>17.3</td>\n",
       "      <td>1TB HDD</td>\n",
       "      <td>AMD Radeon R4</td>\n",
       "      <td>Windows 10</td>\n",
       "      <td>519.0</td>\n",
       "      <td>8</td>\n",
       "      <td>2.80</td>\n",
       "      <td>2.5</td>\n",
       "      <td>1600</td>\n",
       "      <td>900</td>\n",
       "      <td>AMD</td>\n",
       "    </tr>\n",
       "  </tbody>\n",
       "</table>\n",
       "</div>"
      ],
      "text/plain": [
       "   laptop_ID Company            Product   TypeName  Inches     Memory  \\\n",
       "0       1104    Acer     Aspire ES1-523   Notebook    15.6  500GB HDD   \n",
       "1        114    Dell             XPS 13  Ultrabook    13.3  256GB SSD   \n",
       "2        172    Acer    Aspire A517-51G   Notebook    17.3  256GB SSD   \n",
       "3        918      HP      Elitebook 820    Netbook    12.5  512GB SSD   \n",
       "4        447  Lenovo  IdeaPad 320-15AST   Notebook    17.3    1TB HDD   \n",
       "\n",
       "                            Gpu       OpSys  Price_euros  Ram_clean  \\\n",
       "0                 AMD Radeon R5  Windows 10        387.0          4   \n",
       "1  Intel Iris Plus Graphics 640  Windows 10       1379.0          8   \n",
       "2          Nvidia GeForce MX150  Windows 10        854.0          8   \n",
       "3         Intel HD Graphics 620  Windows 10       1483.0          8   \n",
       "4                 AMD Radeon R4  Windows 10        519.0          8   \n",
       "\n",
       "   Weight_clean  GHz  PX_ancho  PX_alto Marca_CPU  \n",
       "0          2.40  2.2      1366      768       AMD  \n",
       "1          1.23  2.4      3200     1800     Intel  \n",
       "2          3.00  1.6      1920     1080     Intel  \n",
       "3          1.26  2.7      1920     1080     Intel  \n",
       "4          2.80  2.5      1600      900       AMD  "
      ]
     },
     "execution_count": 32,
     "metadata": {},
     "output_type": "execute_result"
    }
   ],
   "source": [
    "train.head()"
   ]
  },
  {
   "cell_type": "code",
   "execution_count": 34,
   "metadata": {},
   "outputs": [
    {
     "name": "stdout",
     "output_type": "stream",
     "text": [
      "<class 'pandas.core.frame.DataFrame'>\n",
      "RangeIndex: 912 entries, 0 to 911\n",
      "Data columns (total 15 columns):\n",
      " #   Column        Non-Null Count  Dtype  \n",
      "---  ------        --------------  -----  \n",
      " 0   laptop_ID     912 non-null    int64  \n",
      " 1   Company       912 non-null    object \n",
      " 2   Product       912 non-null    object \n",
      " 3   TypeName      912 non-null    object \n",
      " 4   Inches        912 non-null    float64\n",
      " 5   Memory        912 non-null    object \n",
      " 6   Gpu           912 non-null    object \n",
      " 7   OpSys         912 non-null    object \n",
      " 8   Price_euros   912 non-null    float64\n",
      " 9   Ram_clean     912 non-null    int32  \n",
      " 10  Weight_clean  912 non-null    float64\n",
      " 11  GHz           912 non-null    float64\n",
      " 12  PX_ancho      912 non-null    int32  \n",
      " 13  PX_alto       912 non-null    int32  \n",
      " 14  Marca_CPU     912 non-null    object \n",
      "dtypes: float64(4), int32(3), int64(1), object(7)\n",
      "memory usage: 96.3+ KB\n"
     ]
    }
   ],
   "source": [
    "train.info()"
   ]
  },
  {
   "cell_type": "markdown",
   "metadata": {},
   "source": [
    "## X e y"
   ]
  },
  {
   "cell_type": "code",
   "execution_count": 36,
   "metadata": {},
   "outputs": [],
   "source": [
    "train2 = train[['Inches', 'Price_euros', 'Ram_clean', 'Weight_clean', 'GHz', 'PX_ancho', 'PX_alto']]"
   ]
  },
  {
   "cell_type": "code",
   "execution_count": 37,
   "metadata": {},
   "outputs": [],
   "source": [
    "X = train2.drop(['Price_euros'], axis=1)\n",
    "y = train2['Price_euros'].copy()"
   ]
  },
  {
   "cell_type": "code",
   "execution_count": 38,
   "metadata": {},
   "outputs": [
    {
     "data": {
      "text/plain": [
       "(912, 6)"
      ]
     },
     "execution_count": 38,
     "metadata": {},
     "output_type": "execute_result"
    }
   ],
   "source": [
    "X.shape"
   ]
  },
  {
   "cell_type": "code",
   "execution_count": 39,
   "metadata": {},
   "outputs": [
    {
     "data": {
      "text/plain": [
       "(912,)"
      ]
     },
     "execution_count": 39,
     "metadata": {},
     "output_type": "execute_result"
    }
   ],
   "source": [
    "y.shape"
   ]
  },
  {
   "cell_type": "code",
   "execution_count": 40,
   "metadata": {},
   "outputs": [],
   "source": [
    "from sklearn.model_selection import train_test_split"
   ]
  },
  {
   "cell_type": "code",
   "execution_count": 41,
   "metadata": {},
   "outputs": [],
   "source": [
    "X_train, X_test, y_train, y_test = train_test_split(X, y, test_size=0.20, random_state=42)"
   ]
  },
  {
   "cell_type": "markdown",
   "metadata": {},
   "source": [
    "## Model"
   ]
  },
  {
   "cell_type": "code",
   "execution_count": 43,
   "metadata": {},
   "outputs": [],
   "source": [
    "from sklearn.linear_model import LinearRegression\n",
    "\n",
    "model = LinearRegression()"
   ]
  },
  {
   "cell_type": "code",
   "execution_count": 44,
   "metadata": {},
   "outputs": [
    {
     "data": {
      "text/html": [
       "<style>#sk-container-id-1 {color: black;}#sk-container-id-1 pre{padding: 0;}#sk-container-id-1 div.sk-toggleable {background-color: white;}#sk-container-id-1 label.sk-toggleable__label {cursor: pointer;display: block;width: 100%;margin-bottom: 0;padding: 0.3em;box-sizing: border-box;text-align: center;}#sk-container-id-1 label.sk-toggleable__label-arrow:before {content: \"▸\";float: left;margin-right: 0.25em;color: #696969;}#sk-container-id-1 label.sk-toggleable__label-arrow:hover:before {color: black;}#sk-container-id-1 div.sk-estimator:hover label.sk-toggleable__label-arrow:before {color: black;}#sk-container-id-1 div.sk-toggleable__content {max-height: 0;max-width: 0;overflow: hidden;text-align: left;background-color: #f0f8ff;}#sk-container-id-1 div.sk-toggleable__content pre {margin: 0.2em;color: black;border-radius: 0.25em;background-color: #f0f8ff;}#sk-container-id-1 input.sk-toggleable__control:checked~div.sk-toggleable__content {max-height: 200px;max-width: 100%;overflow: auto;}#sk-container-id-1 input.sk-toggleable__control:checked~label.sk-toggleable__label-arrow:before {content: \"▾\";}#sk-container-id-1 div.sk-estimator input.sk-toggleable__control:checked~label.sk-toggleable__label {background-color: #d4ebff;}#sk-container-id-1 div.sk-label input.sk-toggleable__control:checked~label.sk-toggleable__label {background-color: #d4ebff;}#sk-container-id-1 input.sk-hidden--visually {border: 0;clip: rect(1px 1px 1px 1px);clip: rect(1px, 1px, 1px, 1px);height: 1px;margin: -1px;overflow: hidden;padding: 0;position: absolute;width: 1px;}#sk-container-id-1 div.sk-estimator {font-family: monospace;background-color: #f0f8ff;border: 1px dotted black;border-radius: 0.25em;box-sizing: border-box;margin-bottom: 0.5em;}#sk-container-id-1 div.sk-estimator:hover {background-color: #d4ebff;}#sk-container-id-1 div.sk-parallel-item::after {content: \"\";width: 100%;border-bottom: 1px solid gray;flex-grow: 1;}#sk-container-id-1 div.sk-label:hover label.sk-toggleable__label {background-color: #d4ebff;}#sk-container-id-1 div.sk-serial::before {content: \"\";position: absolute;border-left: 1px solid gray;box-sizing: border-box;top: 0;bottom: 0;left: 50%;z-index: 0;}#sk-container-id-1 div.sk-serial {display: flex;flex-direction: column;align-items: center;background-color: white;padding-right: 0.2em;padding-left: 0.2em;position: relative;}#sk-container-id-1 div.sk-item {position: relative;z-index: 1;}#sk-container-id-1 div.sk-parallel {display: flex;align-items: stretch;justify-content: center;background-color: white;position: relative;}#sk-container-id-1 div.sk-item::before, #sk-container-id-1 div.sk-parallel-item::before {content: \"\";position: absolute;border-left: 1px solid gray;box-sizing: border-box;top: 0;bottom: 0;left: 50%;z-index: -1;}#sk-container-id-1 div.sk-parallel-item {display: flex;flex-direction: column;z-index: 1;position: relative;background-color: white;}#sk-container-id-1 div.sk-parallel-item:first-child::after {align-self: flex-end;width: 50%;}#sk-container-id-1 div.sk-parallel-item:last-child::after {align-self: flex-start;width: 50%;}#sk-container-id-1 div.sk-parallel-item:only-child::after {width: 0;}#sk-container-id-1 div.sk-dashed-wrapped {border: 1px dashed gray;margin: 0 0.4em 0.5em 0.4em;box-sizing: border-box;padding-bottom: 0.4em;background-color: white;}#sk-container-id-1 div.sk-label label {font-family: monospace;font-weight: bold;display: inline-block;line-height: 1.2em;}#sk-container-id-1 div.sk-label-container {text-align: center;}#sk-container-id-1 div.sk-container {/* jupyter's `normalize.less` sets `[hidden] { display: none; }` but bootstrap.min.css set `[hidden] { display: none !important; }` so we also need the `!important` here to be able to override the default hidden behavior on the sphinx rendered scikit-learn.org. See: https://github.com/scikit-learn/scikit-learn/issues/21755 */display: inline-block !important;position: relative;}#sk-container-id-1 div.sk-text-repr-fallback {display: none;}</style><div id=\"sk-container-id-1\" class=\"sk-top-container\"><div class=\"sk-text-repr-fallback\"><pre>LinearRegression()</pre><b>In a Jupyter environment, please rerun this cell to show the HTML representation or trust the notebook. <br />On GitHub, the HTML representation is unable to render, please try loading this page with nbviewer.org.</b></div><div class=\"sk-container\" hidden><div class=\"sk-item\"><div class=\"sk-estimator sk-toggleable\"><input class=\"sk-toggleable__control sk-hidden--visually\" id=\"sk-estimator-id-1\" type=\"checkbox\" checked><label for=\"sk-estimator-id-1\" class=\"sk-toggleable__label sk-toggleable__label-arrow\">LinearRegression</label><div class=\"sk-toggleable__content\"><pre>LinearRegression()</pre></div></div></div></div></div>"
      ],
      "text/plain": [
       "LinearRegression()"
      ]
     },
     "execution_count": 44,
     "metadata": {},
     "output_type": "execute_result"
    }
   ],
   "source": [
    "model.fit(X_train, y_train)"
   ]
  },
  {
   "cell_type": "code",
   "execution_count": 46,
   "metadata": {},
   "outputs": [],
   "source": [
    "pred = model.predict(X_test)"
   ]
  },
  {
   "cell_type": "code",
   "execution_count": 47,
   "metadata": {},
   "outputs": [
    {
     "data": {
      "text/plain": [
       "array([1186.8041872 ,  320.00056627,  870.58209277, 1094.0640469 ,\n",
       "       1718.79913564,  608.59657622,  784.9343581 , 1693.0335179 ,\n",
       "        924.67867666, 1241.03725349,  862.46529853,  455.96911341,\n",
       "        446.82064826, 1355.46649352, 1366.67366111, 1731.33524898,\n",
       "       1861.69777002, 1267.43262799,  912.09377309,  767.18432393,\n",
       "       1255.36415945,  797.47047145,  908.7012163 , 1287.7014579 ,\n",
       "       1012.50130062,  569.48887143,  870.81229123, 1785.65840679,\n",
       "        924.67867666,  857.15326933, 1297.2231896 ,  989.66308756,\n",
       "        975.33391353, 1451.5615993 , 1205.43110141,  221.83628917,\n",
       "        917.05862519, 1112.26582176, 1192.05924718, 1119.0311656 ,\n",
       "       1113.64063686, 1241.84979894, 1126.0216762 , 2044.76066011,\n",
       "       1157.77982999,  309.07196587, 1541.8920974 ,  465.27091666,\n",
       "       1126.5528336 ,  666.93807059, 1923.5977757 , 1253.67749907,\n",
       "        718.20327741, 1775.9340996 ,  834.78826871, 1201.25239696,\n",
       "       1924.46550101,  897.9349682 , 2089.99089739, 1720.05274697,\n",
       "        290.63687607, 1226.80646293,  614.86463289, 1298.47680094,\n",
       "        465.27091666,  549.54376706,  592.15496748, 1163.9345997 ,\n",
       "       1186.8041872 ,  613.04848972, 1240.38433605, 1172.53262324,\n",
       "       1052.50357635, 1298.47680094, 1196.83307787, 3744.63522419,\n",
       "       1758.38354092,  658.05030728,  855.74575978,  644.51610075,\n",
       "        917.05862519,  845.65290027, 1763.92914367,  931.5708038 ,\n",
       "        773.66324803, 1164.28850131, 1122.37412916,  576.80704799,\n",
       "       1763.92914367,  802.90278723, 1167.21359442, 1252.84175818,\n",
       "       1647.98100242,  546.23278792, 1099.80912514, 1106.60016024,\n",
       "       2210.79889171,  646.60545298,  926.60595169,  666.40771618,\n",
       "       1284.90449546, 1221.9285    , 1114.01672026,  801.4909292 ,\n",
       "        938.35511437,  590.4834857 , 1118.19542471, 1114.01672026,\n",
       "        569.28537999,  733.76898186, 1159.75589525, 1451.24130932,\n",
       "       1118.19542471, 2518.56579161, 1296.38744871, 1520.16283427,\n",
       "        450.9993527 ,  801.64917589,  917.05862519, 1153.06996814,\n",
       "        226.01499362,  312.99263987, 1210.22812755,  762.06860111,\n",
       "        931.36460378,  910.37269808, 1101.48060692, 1408.18501177,\n",
       "       1753.39157389,  998.75785388,  932.71193116,  603.85533993,\n",
       "        906.01754083, 1226.80646293, 3040.14302961,  994.67753289,\n",
       "       1665.95616309, 1611.88864207, 1886.76999671, 1240.61938305,\n",
       "        755.80054444,  966.17517837,  620.45687076,  870.58209277,\n",
       "       1195.16159609,  426.04041298, 1122.37412916, 1101.48060692,\n",
       "       1015.67518736,  679.80851463,  501.98329751, 1834.94002084,\n",
       "       1207.93832408, 1946.49934762, 1286.57597724, 1456.6736251 ,\n",
       "        693.59249053, 1114.01672026, 3844.16639959, 1719.02570956,\n",
       "       1729.47479444, 1203.51900499, 2320.26924475, 1223.70411401,\n",
       "       1795.37063202,  444.73129603,  781.81716548,  896.47431994,\n",
       "        546.41579249,  834.78826871, 1751.28792234, 1181.50835383,\n",
       "        361.25645334, 1193.62659672,  903.78515442, 1106.60016024,\n",
       "       1157.66654303,  603.85533993, 1240.2015126 ,  924.67867666,\n",
       "        909.97882607,  797.47047145, 1218.3850852 ])"
      ]
     },
     "execution_count": 47,
     "metadata": {},
     "output_type": "execute_result"
    }
   ],
   "source": [
    "pred"
   ]
  },
  {
   "cell_type": "code",
   "execution_count": 49,
   "metadata": {},
   "outputs": [
    {
     "name": "stdout",
     "output_type": "stream",
     "text": [
      "RMSE : 444.98220486445086\n"
     ]
    }
   ],
   "source": [
    "from sklearn.metrics import mean_squared_error\n",
    "\n",
    "print('RMSE :', np.sqrt(mean_squared_error(y_test, pred)))"
   ]
  },
  {
   "cell_type": "markdown",
   "metadata": {},
   "source": [
    "## Predicción"
   ]
  },
  {
   "cell_type": "code",
   "execution_count": 50,
   "metadata": {},
   "outputs": [
    {
     "data": {
      "text/html": [
       "<div>\n",
       "<style scoped>\n",
       "    .dataframe tbody tr th:only-of-type {\n",
       "        vertical-align: middle;\n",
       "    }\n",
       "\n",
       "    .dataframe tbody tr th {\n",
       "        vertical-align: top;\n",
       "    }\n",
       "\n",
       "    .dataframe thead th {\n",
       "        text-align: right;\n",
       "    }\n",
       "</style>\n",
       "<table border=\"1\" class=\"dataframe\">\n",
       "  <thead>\n",
       "    <tr style=\"text-align: right;\">\n",
       "      <th></th>\n",
       "      <th>laptop_ID</th>\n",
       "      <th>Company</th>\n",
       "      <th>Product</th>\n",
       "      <th>TypeName</th>\n",
       "      <th>Inches</th>\n",
       "      <th>ScreenResolution</th>\n",
       "      <th>Cpu</th>\n",
       "      <th>Ram</th>\n",
       "      <th>Memory</th>\n",
       "      <th>Gpu</th>\n",
       "      <th>OpSys</th>\n",
       "      <th>Weight</th>\n",
       "    </tr>\n",
       "  </thead>\n",
       "  <tbody>\n",
       "    <tr>\n",
       "      <th>0</th>\n",
       "      <td>750</td>\n",
       "      <td>Toshiba</td>\n",
       "      <td>Tecra X40-D-10G</td>\n",
       "      <td>Notebook</td>\n",
       "      <td>14.0</td>\n",
       "      <td>IPS Panel Full HD / Touchscreen 1920x1080</td>\n",
       "      <td>Intel Core i5 7200U 2.5GHz</td>\n",
       "      <td>8GB</td>\n",
       "      <td>256GB SSD</td>\n",
       "      <td>Intel HD Graphics 620</td>\n",
       "      <td>Windows 10</td>\n",
       "      <td>1.25kg</td>\n",
       "    </tr>\n",
       "    <tr>\n",
       "      <th>1</th>\n",
       "      <td>726</td>\n",
       "      <td>Mediacom</td>\n",
       "      <td>Smartbook 142</td>\n",
       "      <td>Notebook</td>\n",
       "      <td>14.0</td>\n",
       "      <td>IPS Panel Full HD 1920x1200</td>\n",
       "      <td>Intel Atom Z8350 1.92GHz</td>\n",
       "      <td>4GB</td>\n",
       "      <td>32GB HDD</td>\n",
       "      <td>Intel HD Graphics 400</td>\n",
       "      <td>Windows 10</td>\n",
       "      <td>1.4kg</td>\n",
       "    </tr>\n",
       "    <tr>\n",
       "      <th>2</th>\n",
       "      <td>633</td>\n",
       "      <td>Mediacom</td>\n",
       "      <td>SmartBook 140</td>\n",
       "      <td>Notebook</td>\n",
       "      <td>14.0</td>\n",
       "      <td>Full HD 1920x1080</td>\n",
       "      <td>Intel Atom x5-Z8350 1.44GHz</td>\n",
       "      <td>2GB</td>\n",
       "      <td>32GB Flash Storage</td>\n",
       "      <td>Intel HD Graphics</td>\n",
       "      <td>Windows 10</td>\n",
       "      <td>1.4kg</td>\n",
       "    </tr>\n",
       "    <tr>\n",
       "      <th>3</th>\n",
       "      <td>363</td>\n",
       "      <td>Dell</td>\n",
       "      <td>Inspiron 7577</td>\n",
       "      <td>Gaming</td>\n",
       "      <td>15.6</td>\n",
       "      <td>Full HD 1920x1080</td>\n",
       "      <td>Intel Core i5 7300HQ 2.5GHz</td>\n",
       "      <td>8GB</td>\n",
       "      <td>1TB HDD</td>\n",
       "      <td>Nvidia GeForce GTX 1050</td>\n",
       "      <td>Windows 10</td>\n",
       "      <td>2.65kg</td>\n",
       "    </tr>\n",
       "    <tr>\n",
       "      <th>4</th>\n",
       "      <td>319</td>\n",
       "      <td>Asus</td>\n",
       "      <td>VivoBook Flip</td>\n",
       "      <td>2 in 1 Convertible</td>\n",
       "      <td>11.6</td>\n",
       "      <td>Touchscreen 1366x768</td>\n",
       "      <td>Intel Celeron Dual Core N3350 1.1GHz</td>\n",
       "      <td>2GB</td>\n",
       "      <td>32GB Flash Storage</td>\n",
       "      <td>Intel HD Graphics 500</td>\n",
       "      <td>Windows 10</td>\n",
       "      <td>1.1kg</td>\n",
       "    </tr>\n",
       "  </tbody>\n",
       "</table>\n",
       "</div>"
      ],
      "text/plain": [
       "   laptop_ID   Company          Product            TypeName  Inches  \\\n",
       "0        750   Toshiba  Tecra X40-D-10G            Notebook    14.0   \n",
       "1        726  Mediacom    Smartbook 142            Notebook    14.0   \n",
       "2        633  Mediacom    SmartBook 140            Notebook    14.0   \n",
       "3        363      Dell    Inspiron 7577              Gaming    15.6   \n",
       "4        319      Asus    VivoBook Flip  2 in 1 Convertible    11.6   \n",
       "\n",
       "                            ScreenResolution  \\\n",
       "0  IPS Panel Full HD / Touchscreen 1920x1080   \n",
       "1                IPS Panel Full HD 1920x1200   \n",
       "2                          Full HD 1920x1080   \n",
       "3                          Full HD 1920x1080   \n",
       "4                       Touchscreen 1366x768   \n",
       "\n",
       "                                    Cpu  Ram              Memory  \\\n",
       "0            Intel Core i5 7200U 2.5GHz  8GB           256GB SSD   \n",
       "1              Intel Atom Z8350 1.92GHz  4GB            32GB HDD   \n",
       "2           Intel Atom x5-Z8350 1.44GHz  2GB  32GB Flash Storage   \n",
       "3           Intel Core i5 7300HQ 2.5GHz  8GB             1TB HDD   \n",
       "4  Intel Celeron Dual Core N3350 1.1GHz  2GB  32GB Flash Storage   \n",
       "\n",
       "                       Gpu       OpSys  Weight  \n",
       "0    Intel HD Graphics 620  Windows 10  1.25kg  \n",
       "1    Intel HD Graphics 400  Windows 10   1.4kg  \n",
       "2        Intel HD Graphics  Windows 10   1.4kg  \n",
       "3  Nvidia GeForce GTX 1050  Windows 10  2.65kg  \n",
       "4    Intel HD Graphics 500  Windows 10   1.1kg  "
      ]
     },
     "execution_count": 50,
     "metadata": {},
     "output_type": "execute_result"
    }
   ],
   "source": [
    "X_pred = pd.read_csv('../Kaggle1/data/test.csv')\n",
    "X_pred.head()"
   ]
  },
  {
   "cell_type": "code",
   "execution_count": 51,
   "metadata": {},
   "outputs": [
    {
     "name": "stdout",
     "output_type": "stream",
     "text": [
      "<class 'pandas.core.frame.DataFrame'>\n",
      "RangeIndex: 391 entries, 0 to 390\n",
      "Data columns (total 12 columns):\n",
      " #   Column            Non-Null Count  Dtype  \n",
      "---  ------            --------------  -----  \n",
      " 0   laptop_ID         391 non-null    int64  \n",
      " 1   Company           391 non-null    object \n",
      " 2   Product           391 non-null    object \n",
      " 3   TypeName          391 non-null    object \n",
      " 4   Inches            391 non-null    float64\n",
      " 5   ScreenResolution  391 non-null    object \n",
      " 6   Cpu               391 non-null    object \n",
      " 7   Ram               391 non-null    object \n",
      " 8   Memory            391 non-null    object \n",
      " 9   Gpu               391 non-null    object \n",
      " 10  OpSys             391 non-null    object \n",
      " 11  Weight            391 non-null    object \n",
      "dtypes: float64(1), int64(1), object(10)\n",
      "memory usage: 36.8+ KB\n"
     ]
    }
   ],
   "source": [
    "X_pred.info()"
   ]
  },
  {
   "cell_type": "code",
   "execution_count": 52,
   "metadata": {},
   "outputs": [],
   "source": [
    "X_pred['Ram_clean'] = X_pred['Ram'].map(lambda x: x.rstrip('GB'))\n",
    "X_pred['Weight_clean'] = X_pred['Weight'].map(lambda x: x.rstrip('kg'))"
   ]
  },
  {
   "cell_type": "code",
   "execution_count": 53,
   "metadata": {},
   "outputs": [],
   "source": [
    "X_pred['GHz'] = X_pred['Cpu'].str.findall(r'(\\d+\\.\\d+|\\d+)GHz')\n",
    "X_pred['GHz'] = X_pred['GHz'].apply(lambda x: float(x[0]) if x else None)"
   ]
  },
  {
   "cell_type": "code",
   "execution_count": 54,
   "metadata": {},
   "outputs": [],
   "source": [
    "X_pred['PX'] = X_pred['ScreenResolution'].str.findall(r'(\\d+)x(\\d+)')\n",
    "X_pred['PX_ancho'] = X_pred['PX'].apply(lambda x: x[0][0] if x else None)\n",
    "X_pred['PX_alto'] = X_pred['PX'].apply(lambda x: x[0][1] if x else None)\n",
    "X_pred['Marca_CPU'] = X_pred['Cpu'].str.split().str[0]"
   ]
  },
  {
   "cell_type": "code",
   "execution_count": 55,
   "metadata": {},
   "outputs": [],
   "source": [
    "X_pred.drop(columns=['Ram', 'Weight'], inplace=True)\n",
    "X_pred.drop(columns=['ScreenResolution'], inplace=True)\n",
    "X_pred.drop(columns=['PX'], inplace=True)\n",
    "X_pred.drop(columns=['Cpu'], inplace=True)"
   ]
  },
  {
   "cell_type": "code",
   "execution_count": 56,
   "metadata": {},
   "outputs": [],
   "source": [
    "X_pred['Ram_clean'] = X_pred['Ram_clean'].astype(int)\n",
    "X_pred['Weight_clean'] = X_pred['Weight_clean'].astype(float)\n",
    "X_pred['PX_ancho'] = X_pred['PX_ancho'].astype(int)\n",
    "X_pred['PX_alto'] = X_pred['PX_alto'].astype(int)"
   ]
  },
  {
   "cell_type": "code",
   "execution_count": 58,
   "metadata": {},
   "outputs": [
    {
     "data": {
      "text/html": [
       "<div>\n",
       "<style scoped>\n",
       "    .dataframe tbody tr th:only-of-type {\n",
       "        vertical-align: middle;\n",
       "    }\n",
       "\n",
       "    .dataframe tbody tr th {\n",
       "        vertical-align: top;\n",
       "    }\n",
       "\n",
       "    .dataframe thead th {\n",
       "        text-align: right;\n",
       "    }\n",
       "</style>\n",
       "<table border=\"1\" class=\"dataframe\">\n",
       "  <thead>\n",
       "    <tr style=\"text-align: right;\">\n",
       "      <th></th>\n",
       "      <th>laptop_ID</th>\n",
       "      <th>Company</th>\n",
       "      <th>Product</th>\n",
       "      <th>TypeName</th>\n",
       "      <th>Inches</th>\n",
       "      <th>Memory</th>\n",
       "      <th>Gpu</th>\n",
       "      <th>OpSys</th>\n",
       "      <th>Ram_clean</th>\n",
       "      <th>Weight_clean</th>\n",
       "      <th>GHz</th>\n",
       "      <th>PX_ancho</th>\n",
       "      <th>PX_alto</th>\n",
       "      <th>Marca_CPU</th>\n",
       "    </tr>\n",
       "  </thead>\n",
       "  <tbody>\n",
       "    <tr>\n",
       "      <th>0</th>\n",
       "      <td>750</td>\n",
       "      <td>Toshiba</td>\n",
       "      <td>Tecra X40-D-10G</td>\n",
       "      <td>Notebook</td>\n",
       "      <td>14.0</td>\n",
       "      <td>256GB SSD</td>\n",
       "      <td>Intel HD Graphics 620</td>\n",
       "      <td>Windows 10</td>\n",
       "      <td>8</td>\n",
       "      <td>1.25</td>\n",
       "      <td>2.50</td>\n",
       "      <td>1920</td>\n",
       "      <td>1080</td>\n",
       "      <td>Intel</td>\n",
       "    </tr>\n",
       "    <tr>\n",
       "      <th>1</th>\n",
       "      <td>726</td>\n",
       "      <td>Mediacom</td>\n",
       "      <td>Smartbook 142</td>\n",
       "      <td>Notebook</td>\n",
       "      <td>14.0</td>\n",
       "      <td>32GB HDD</td>\n",
       "      <td>Intel HD Graphics 400</td>\n",
       "      <td>Windows 10</td>\n",
       "      <td>4</td>\n",
       "      <td>1.40</td>\n",
       "      <td>1.92</td>\n",
       "      <td>1920</td>\n",
       "      <td>1200</td>\n",
       "      <td>Intel</td>\n",
       "    </tr>\n",
       "    <tr>\n",
       "      <th>2</th>\n",
       "      <td>633</td>\n",
       "      <td>Mediacom</td>\n",
       "      <td>SmartBook 140</td>\n",
       "      <td>Notebook</td>\n",
       "      <td>14.0</td>\n",
       "      <td>32GB Flash Storage</td>\n",
       "      <td>Intel HD Graphics</td>\n",
       "      <td>Windows 10</td>\n",
       "      <td>2</td>\n",
       "      <td>1.40</td>\n",
       "      <td>1.44</td>\n",
       "      <td>1920</td>\n",
       "      <td>1080</td>\n",
       "      <td>Intel</td>\n",
       "    </tr>\n",
       "    <tr>\n",
       "      <th>3</th>\n",
       "      <td>363</td>\n",
       "      <td>Dell</td>\n",
       "      <td>Inspiron 7577</td>\n",
       "      <td>Gaming</td>\n",
       "      <td>15.6</td>\n",
       "      <td>1TB HDD</td>\n",
       "      <td>Nvidia GeForce GTX 1050</td>\n",
       "      <td>Windows 10</td>\n",
       "      <td>8</td>\n",
       "      <td>2.65</td>\n",
       "      <td>2.50</td>\n",
       "      <td>1920</td>\n",
       "      <td>1080</td>\n",
       "      <td>Intel</td>\n",
       "    </tr>\n",
       "    <tr>\n",
       "      <th>4</th>\n",
       "      <td>319</td>\n",
       "      <td>Asus</td>\n",
       "      <td>VivoBook Flip</td>\n",
       "      <td>2 in 1 Convertible</td>\n",
       "      <td>11.6</td>\n",
       "      <td>32GB Flash Storage</td>\n",
       "      <td>Intel HD Graphics 500</td>\n",
       "      <td>Windows 10</td>\n",
       "      <td>2</td>\n",
       "      <td>1.10</td>\n",
       "      <td>1.10</td>\n",
       "      <td>1366</td>\n",
       "      <td>768</td>\n",
       "      <td>Intel</td>\n",
       "    </tr>\n",
       "  </tbody>\n",
       "</table>\n",
       "</div>"
      ],
      "text/plain": [
       "   laptop_ID   Company          Product            TypeName  Inches  \\\n",
       "0        750   Toshiba  Tecra X40-D-10G            Notebook    14.0   \n",
       "1        726  Mediacom    Smartbook 142            Notebook    14.0   \n",
       "2        633  Mediacom    SmartBook 140            Notebook    14.0   \n",
       "3        363      Dell    Inspiron 7577              Gaming    15.6   \n",
       "4        319      Asus    VivoBook Flip  2 in 1 Convertible    11.6   \n",
       "\n",
       "               Memory                      Gpu       OpSys  Ram_clean  \\\n",
       "0           256GB SSD    Intel HD Graphics 620  Windows 10          8   \n",
       "1            32GB HDD    Intel HD Graphics 400  Windows 10          4   \n",
       "2  32GB Flash Storage        Intel HD Graphics  Windows 10          2   \n",
       "3             1TB HDD  Nvidia GeForce GTX 1050  Windows 10          8   \n",
       "4  32GB Flash Storage    Intel HD Graphics 500  Windows 10          2   \n",
       "\n",
       "   Weight_clean   GHz  PX_ancho  PX_alto Marca_CPU  \n",
       "0          1.25  2.50      1920     1080     Intel  \n",
       "1          1.40  1.92      1920     1200     Intel  \n",
       "2          1.40  1.44      1920     1080     Intel  \n",
       "3          2.65  2.50      1920     1080     Intel  \n",
       "4          1.10  1.10      1366      768     Intel  "
      ]
     },
     "execution_count": 58,
     "metadata": {},
     "output_type": "execute_result"
    }
   ],
   "source": [
    "X_pred.head()"
   ]
  },
  {
   "cell_type": "code",
   "execution_count": 60,
   "metadata": {},
   "outputs": [],
   "source": [
    "X_pred = X_pred[['Inches', 'Ram_clean', 'Weight_clean', 'GHz', 'PX_ancho', 'PX_alto']]"
   ]
  },
  {
   "cell_type": "code",
   "execution_count": 61,
   "metadata": {},
   "outputs": [
    {
     "data": {
      "text/plain": [
       "array([1189.13415407,  862.79905366,  440.13899958, 1132.82089027,\n",
       "        310.90328765,  666.40771618,  536.05923585, 1780.95672392,\n",
       "       1747.1092179 , 1207.69770943, 1099.80912514, 1015.67518736,\n",
       "       1118.19542471,  917.05862519,  654.28947328, 1071.92509231,\n",
       "        994.25966245, 1924.26504977,  558.2145484 , 1168.11330415,\n",
       "       1153.84174019, 1066.59788451,  473.21045511,  904.9403823 ,\n",
       "        347.04885821, 1412.83070654,  760.45698256,  827.75983191,\n",
       "        801.64917589, 1207.69770943,  917.15700866, 1159.75589525,\n",
       "        966.19035697, 1122.37412916, 1159.75589525, 1231.00836282,\n",
       "       1159.75589525, 1392.54367614,  777.57449219, 1868.69743535,\n",
       "       1731.56182291, 1126.5528336 ,  494.96291368, 1815.9021255 ,\n",
       "        866.40338833, 1850.81909774, 1259.7049411 , 1731.33524898,\n",
       "       1009.99407796, 1694.67593681,  752.1491669 ,  668.4970684 ,\n",
       "       1115.68820204, 1046.54828215,  469.44962111,  794.96324878,\n",
       "       1122.37412916,  608.59657622, 1243.12660572, 1249.81253283,\n",
       "        558.2145484 , 1211.87641388, 1118.19542471,  477.80703   ,\n",
       "        922.17145399, 1169.05415302, 1797.02709734, 1745.96071454,\n",
       "       1113.18097937,  767.91495683,  213.47888028, 1518.37091412,\n",
       "       3040.14302961, 1684.79170753,  894.1890377 ,  866.40338833,\n",
       "        666.40771618, 2391.36165598,  910.37269808, 1149.4224211 ,\n",
       "        552.26597872, 1723.91547601, 1225.79346624, 1781.47970235,\n",
       "       1014.1727824 , 1121.12051782,  804.5037484 , 1010.55660979,\n",
       "        546.41579249,  827.75983191, 1751.30222167,  917.05862519,\n",
       "        217.65758473, 1992.34677787, 1101.48060692, 1239.16532047,\n",
       "       1161.42737703,  455.24202599,  456.91350777,  735.75383609,\n",
       "       1186.38631675,  858.04597943,  864.3140361 ,  789.11306255,\n",
       "       1795.87859398,  576.80704799, 2505.19393738, 1128.52889886,\n",
       "       2486.50305433, 1100.64486603, 1274.87560479,  983.16032051,\n",
       "       1301.36990963, 1727.15654453, 1303.49124627, 1761.80554161,\n",
       "       1011.98650118, 2357.55052298,  902.67457727, 1298.47680094,\n",
       "        984.04549913, 1234.98661602, 1731.56182291, 1233.09771504,\n",
       "        800.813435  , 1161.42737703,  414.61567979, 1314.29315517,\n",
       "        787.86556575, 1245.32009018,  465.27091666, 1168.11330415,\n",
       "       1203.51900499,  700.96949714,  983.16032051, 1862.01150823,\n",
       "       1626.62055143, 1653.42004974, 1815.42841337,  966.59304881,\n",
       "        960.32499214, 1145.24371665,  849.47770311, 1862.10159975,\n",
       "       1791.59478156,  361.25645334, 1790.67285213, 1203.51900499,\n",
       "       1091.14713277, 1153.06996814, 1799.53432   , 1157.40374659,\n",
       "       1675.37821055,  269.8566408 , 1769.02977754, 1114.01672026,\n",
       "       1255.83899911,  891.15146062, 1024.98882735, 1478.3914963 ,\n",
       "       3709.4479183 , 1168.11330415,  977.8411362 ,  603.85533993,\n",
       "        964.56766543, 3020.61640567, 1233.09771504, 1122.37412916,\n",
       "        913.74783906, 1105.65931137,  456.91350777,  738.00526551,\n",
       "        966.19035697,  841.12029421, 1861.6837293 ,  569.28537999,\n",
       "       1012.91917107, 1699.71286045, 1300.53416874,  471.26576428,\n",
       "        923.74455231, 1832.43279817, 1064.09884082,  924.67867666,\n",
       "       1052.50357635, 1118.19542471,  870.81229123,  501.7082884 ,\n",
       "        483.80187762, 1105.65931137, 1147.21978191,  751.73129645,\n",
       "        644.46503719,  351.22756266, 1064.51671127, 1718.79913564,\n",
       "       1599.51578995,  666.40771618,  815.22371857, 2446.30325535,\n",
       "        781.40621256, 1098.97338425, 1048.35624633, 2519.81940295,\n",
       "        761.12713469, 1199.89465339, 1620.45536554,  995.09540334,\n",
       "       1122.37412916,  288.1296534 , 1006.37790534,  469.44962111,\n",
       "       1105.65931137, 1246.15583107, 1195.16159609,  735.75383609,\n",
       "       1076.63495416, 1094.0640469 ,  658.05030728, 1129.06005627,\n",
       "        221.83628917, 1007.75082752,  245.27025674, 2495.16504671,\n",
       "        767.18432393, 1867.54795625, 1298.86268696, 1808.61418283,\n",
       "        996.34901467,  887.32010601,  747.39434531,  468.61388022,\n",
       "       1858.72958552, 1418.96770461, 1113.18097937,  910.39669652,\n",
       "       1155.99506125, 1168.11330415,  770.4221795 ,  800.813435  ,\n",
       "       1234.98661602,  604.41787177, 1593.88441853, 1094.0640469 ,\n",
       "        870.58209277,  711.98453887, 1396.53944707, 2061.68899411,\n",
       "       1205.43110141, 1225.37559579,  985.99154208, 2484.30041515,\n",
       "       1220.47443742,  912.56043376,  607.76083533, 1072.45624972,\n",
       "       1235.60493771, 1183.1798356 , 1047.80800801, 1114.01672026,\n",
       "        940.47421381, 2072.55362568,  496.83691116, 1541.05635651,\n",
       "        226.01499362,  713.02073101,  590.4834857 ,  369.61386223,\n",
       "       1065.48893457,  924.67867666, 1064.09884082, 1011.92953196,\n",
       "        330.02945694,  471.53897333, 1727.38311846, 1812.18372031,\n",
       "       1730.91737853,  855.74575978,  662.22901173, 1781.47970235,\n",
       "       1249.39466239, 1311.00788258, 5476.93397527,  801.4909292 ,\n",
       "       1161.42737703,  455.24202599,  909.21747021, 1094.0640469 ,\n",
       "        510.0656973 , 1503.06459992, 1828.25409373, 1480.06297807,\n",
       "       1157.77982999,  870.58209277,  800.813435  , 1072.44807074,\n",
       "        427.45386431,  827.75983191, 2370.18712419,  841.47419582,\n",
       "        406.99562833,  590.4834857 ,  561.04125806, 1048.32487191,\n",
       "       1279.89005012, 1828.25409373, 1863.3692518 ,  971.15520908,\n",
       "        827.59775472, 3159.31021293, 1301.36990963,  592.15496748,\n",
       "       1803.18186704, 1538.2677458 , 1434.74167353,  993.841792  ,\n",
       "       1778.97247968, 1924.26504977, 2320.26924475, 1114.01672026,\n",
       "        287.29391251,  554.03584396, 1452.49492065,  998.93058845,\n",
       "       1183.87909408,  660.14349001, 1201.25239696,  590.4834857 ,\n",
       "       1782.09704829, 1118.19542471, 1506.1961124 , 1082.62764668,\n",
       "       1771.14622819, 1122.37412916,  344.54163555,  546.41579249,\n",
       "       1754.51759894,  919.66423132,  960.32499214,  594.66219015,\n",
       "        999.79611046,  917.15700866,  205.07268115, 1207.69770943,\n",
       "        738.00526551,  870.58209277,  501.98329751, 1138.88947145,\n",
       "       1103.98782959, 1168.12832061, 1118.19542471, 1859.72170476,\n",
       "        445.63100576, 1131.56727894, 1819.89668483, 1236.96268128,\n",
       "        317.01150432, 3078.891694  ,  857.83894251, 1040.08812596,\n",
       "       1247.72318061,  743.37388756, 1132.82089027, 1727.15654453,\n",
       "       1202.08813785,  526.98755201,  468.61388022,  544.74431071,\n",
       "       1417.00941099,  945.71470518,  608.59657622,  654.60896026,\n",
       "       1988.15685355,  964.46928196,  361.25645334, 1215.04212164,\n",
       "        878.2950573 ,  694.43398019, 1182.62548275, 1244.38021705,\n",
       "        791.99071754, 1253.99123728,  452.15701078,  723.54187714,\n",
       "       1157.36195955, 2495.16504671, 1900.85026414, 1977.89188284,\n",
       "        805.82788034,  380.06062335, 1619.57816047])"
      ]
     },
     "execution_count": 61,
     "metadata": {},
     "output_type": "execute_result"
    }
   ],
   "source": [
    "predictions_submit = model.predict(X_pred)\n",
    "predictions_submit"
   ]
  },
  {
   "cell_type": "code",
   "execution_count": 65,
   "metadata": {},
   "outputs": [
    {
     "data": {
      "text/plain": [
       "(391,)"
      ]
     },
     "execution_count": 65,
     "metadata": {},
     "output_type": "execute_result"
    }
   ],
   "source": [
    "predictions_submit.shape"
   ]
  },
  {
   "cell_type": "markdown",
   "metadata": {},
   "source": [
    "## Submission"
   ]
  },
  {
   "cell_type": "code",
   "execution_count": 67,
   "metadata": {},
   "outputs": [],
   "source": [
    "sample = pd.read_csv('../Kaggle1/data/sample_submission.csv')"
   ]
  },
  {
   "cell_type": "code",
   "execution_count": 68,
   "metadata": {},
   "outputs": [
    {
     "data": {
      "text/html": [
       "<div>\n",
       "<style scoped>\n",
       "    .dataframe tbody tr th:only-of-type {\n",
       "        vertical-align: middle;\n",
       "    }\n",
       "\n",
       "    .dataframe tbody tr th {\n",
       "        vertical-align: top;\n",
       "    }\n",
       "\n",
       "    .dataframe thead th {\n",
       "        text-align: right;\n",
       "    }\n",
       "</style>\n",
       "<table border=\"1\" class=\"dataframe\">\n",
       "  <thead>\n",
       "    <tr style=\"text-align: right;\">\n",
       "      <th></th>\n",
       "      <th>laptop_ID</th>\n",
       "      <th>Price_euros</th>\n",
       "    </tr>\n",
       "  </thead>\n",
       "  <tbody>\n",
       "    <tr>\n",
       "      <th>0</th>\n",
       "      <td>750</td>\n",
       "      <td>500</td>\n",
       "    </tr>\n",
       "    <tr>\n",
       "      <th>1</th>\n",
       "      <td>726</td>\n",
       "      <td>500</td>\n",
       "    </tr>\n",
       "    <tr>\n",
       "      <th>2</th>\n",
       "      <td>633</td>\n",
       "      <td>500</td>\n",
       "    </tr>\n",
       "    <tr>\n",
       "      <th>3</th>\n",
       "      <td>363</td>\n",
       "      <td>650</td>\n",
       "    </tr>\n",
       "    <tr>\n",
       "      <th>4</th>\n",
       "      <td>319</td>\n",
       "      <td>650</td>\n",
       "    </tr>\n",
       "  </tbody>\n",
       "</table>\n",
       "</div>"
      ],
      "text/plain": [
       "   laptop_ID  Price_euros\n",
       "0        750          500\n",
       "1        726          500\n",
       "2        633          500\n",
       "3        363          650\n",
       "4        319          650"
      ]
     },
     "execution_count": 68,
     "metadata": {},
     "output_type": "execute_result"
    }
   ],
   "source": [
    "sample.head()"
   ]
  },
  {
   "cell_type": "code",
   "execution_count": 69,
   "metadata": {},
   "outputs": [],
   "source": [
    "submission = pd.DataFrame({'laptop_ID': sample['laptop_ID'], 'Price_euros': predictions_submit})"
   ]
  },
  {
   "cell_type": "code",
   "execution_count": 70,
   "metadata": {},
   "outputs": [
    {
     "data": {
      "text/html": [
       "<div>\n",
       "<style scoped>\n",
       "    .dataframe tbody tr th:only-of-type {\n",
       "        vertical-align: middle;\n",
       "    }\n",
       "\n",
       "    .dataframe tbody tr th {\n",
       "        vertical-align: top;\n",
       "    }\n",
       "\n",
       "    .dataframe thead th {\n",
       "        text-align: right;\n",
       "    }\n",
       "</style>\n",
       "<table border=\"1\" class=\"dataframe\">\n",
       "  <thead>\n",
       "    <tr style=\"text-align: right;\">\n",
       "      <th></th>\n",
       "      <th>laptop_ID</th>\n",
       "      <th>Price_euros</th>\n",
       "    </tr>\n",
       "  </thead>\n",
       "  <tbody>\n",
       "    <tr>\n",
       "      <th>0</th>\n",
       "      <td>750</td>\n",
       "      <td>1189.134154</td>\n",
       "    </tr>\n",
       "    <tr>\n",
       "      <th>1</th>\n",
       "      <td>726</td>\n",
       "      <td>862.799054</td>\n",
       "    </tr>\n",
       "    <tr>\n",
       "      <th>2</th>\n",
       "      <td>633</td>\n",
       "      <td>440.139000</td>\n",
       "    </tr>\n",
       "    <tr>\n",
       "      <th>3</th>\n",
       "      <td>363</td>\n",
       "      <td>1132.820890</td>\n",
       "    </tr>\n",
       "    <tr>\n",
       "      <th>4</th>\n",
       "      <td>319</td>\n",
       "      <td>310.903288</td>\n",
       "    </tr>\n",
       "  </tbody>\n",
       "</table>\n",
       "</div>"
      ],
      "text/plain": [
       "   laptop_ID  Price_euros\n",
       "0        750  1189.134154\n",
       "1        726   862.799054\n",
       "2        633   440.139000\n",
       "3        363  1132.820890\n",
       "4        319   310.903288"
      ]
     },
     "execution_count": 70,
     "metadata": {},
     "output_type": "execute_result"
    }
   ],
   "source": [
    "submission.head()"
   ]
  },
  {
   "cell_type": "code",
   "execution_count": 71,
   "metadata": {},
   "outputs": [],
   "source": [
    "def chequeator(df_to_submit):\n",
    "    \"\"\"\n",
    "    Esta función se asegura de que tu submission tenga la forma requerida por Kaggle.\n",
    "    \n",
    "    Si es así, se guardará el dataframe en un `csv` y estará listo para subir a Kaggle.\n",
    "    \n",
    "    Si no, LEE EL MENSAJE Y HAZLE CASO.\n",
    "    \n",
    "    Si aún no:\n",
    "    - apaga tu ordenador, \n",
    "    - date una vuelta, \n",
    "    - enciendelo otra vez, \n",
    "    - abre este notebook y \n",
    "    - leelo todo de nuevo. \n",
    "    Todos nos merecemos una segunda oportunidad. También tú.\n",
    "    \"\"\"\n",
    "    if df_to_submit.shape == sample.shape:\n",
    "        if df_to_submit.columns.all() == sample.columns.all():\n",
    "            if df_to_submit.laptop_ID.all() == sample.laptop_ID.all():\n",
    "                print(\"You're ready to submit!\")\n",
    "                submission.to_csv(\"submission.csv\", index = False) #muy importante el index = False\n",
    "                urllib.request.urlretrieve(\"https://i.kym-cdn.com/photos/images/facebook/000/747/556/27a.jpg\", \"gfg.png\")     \n",
    "                img = Image.open(\"gfg.png\")\n",
    "                img.show()   \n",
    "            else:\n",
    "                print(\"Check the ids and try again\")\n",
    "        else:\n",
    "            print(\"Check the names of the columns and try again\")\n",
    "    else:\n",
    "        print(\"Check the number of rows and/or columns and try again\")\n",
    "        print(\"\\nMensaje secreto de Clara: No me puedo creer que después de todo este notebook hayas hecho algún cambio en las filas de `diamonds_test.csv`. Lloro.\")"
   ]
  },
  {
   "cell_type": "code",
   "execution_count": 72,
   "metadata": {},
   "outputs": [
    {
     "name": "stdout",
     "output_type": "stream",
     "text": [
      "You're ready to submit!\n"
     ]
    }
   ],
   "source": [
    "chequeator(submission)"
   ]
  }
 ],
 "metadata": {
  "kernelspec": {
   "display_name": ".venv",
   "language": "python",
   "name": "python3"
  },
  "language_info": {
   "codemirror_mode": {
    "name": "ipython",
    "version": 3
   },
   "file_extension": ".py",
   "mimetype": "text/x-python",
   "name": "python",
   "nbconvert_exporter": "python",
   "pygments_lexer": "ipython3",
   "version": "3.11.5"
  }
 },
 "nbformat": 4,
 "nbformat_minor": 2
}
