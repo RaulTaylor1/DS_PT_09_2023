{
 "cells": [
  {
   "cell_type": "markdown",
   "metadata": {},
   "source": [
    "## Librerías"
   ]
  },
  {
   "cell_type": "code",
   "execution_count": 18,
   "metadata": {},
   "outputs": [],
   "source": [
    "# Tratamiento de datos\n",
    "import pandas as pd\n",
    "import numpy as np\n",
    "# Visualización\n",
    "import matplotlib.pyplot as plt\n",
    "import seaborn as sns\n",
    "import warnings\n",
    "warnings.filterwarnings('ignore')\n",
    "# Modelos\n",
    "from sklearn.model_selection import train_test_split, cross_val_score, cross_validate\n",
    "from sklearn.preprocessing import OneHotEncoder, StandardScaler, LabelEncoder, MinMaxScaler\n",
    "from sklearn.linear_model import LogisticRegression\n",
    "from sklearn.svm import SVC\n",
    "from sklearn.metrics import confusion_matrix, classification_report, accuracy_score, f1_score\n",
    "from sklearn.metrics import precision_score, recall_score, roc_curve, roc_auc_score"
   ]
  },
  {
   "cell_type": "markdown",
   "metadata": {},
   "source": [
    "## Datos"
   ]
  },
  {
   "cell_type": "code",
   "execution_count": 2,
   "metadata": {},
   "outputs": [],
   "source": [
    "url = 'https://gist.githubusercontent.com/slopp/ce3b90b9168f2f921784de84fa445651/raw/4ecf3041f0ed4913e7c230758733948bc561f434/penguins.csv'\n",
    "data = pd.read_csv(url)"
   ]
  },
  {
   "cell_type": "markdown",
   "metadata": {},
   "source": [
    "## Primera Exploración"
   ]
  },
  {
   "cell_type": "code",
   "execution_count": 3,
   "metadata": {},
   "outputs": [],
   "source": [
    "df = data.copy()"
   ]
  },
  {
   "cell_type": "code",
   "execution_count": null,
   "metadata": {},
   "outputs": [],
   "source": [
    "df.head()"
   ]
  },
  {
   "cell_type": "markdown",
   "metadata": {},
   "source": [
    "## MiniEDA"
   ]
  },
  {
   "cell_type": "code",
   "execution_count": null,
   "metadata": {},
   "outputs": [],
   "source": [
    "df.info()"
   ]
  },
  {
   "cell_type": "code",
   "execution_count": null,
   "metadata": {},
   "outputs": [],
   "source": [
    "df[df.duplicated()] "
   ]
  },
  {
   "cell_type": "code",
   "execution_count": null,
   "metadata": {},
   "outputs": [],
   "source": [
    "df.isna().sum()"
   ]
  },
  {
   "cell_type": "code",
   "execution_count": null,
   "metadata": {},
   "outputs": [],
   "source": [
    "df.describe(include='all').T"
   ]
  },
  {
   "cell_type": "code",
   "execution_count": null,
   "metadata": {},
   "outputs": [],
   "source": [
    "df.hist(bins=50, figsize=(12,8))\n",
    "plt.show()"
   ]
  },
  {
   "cell_type": "code",
   "execution_count": null,
   "metadata": {},
   "outputs": [],
   "source": [
    "numeral = ['bill_length_mm', 'bill_depth_mm', 'flipper_length_mm', 'body_mass_g', 'species']\n",
    "sns.pairplot(df[numeral], hue='species')"
   ]
  },
  {
   "cell_type": "code",
   "execution_count": null,
   "metadata": {},
   "outputs": [],
   "source": [
    "plt.figure(figsize=(10, 10))\n",
    "sns.heatmap(df.replace({'Adelie': 0, 'Gentoo': 1, 'Chinstrap': 2, 'Torgensen':0, 'Biscoe':1, 'Dream':2, 'male':0, 'female':1}).corr)"
   ]
  },
  {
   "cell_type": "code",
   "execution_count": null,
   "metadata": {},
   "outputs": [],
   "source": [
    "sns.countplot(x='species', data=df)"
   ]
  },
  {
   "cell_type": "code",
   "execution_count": null,
   "metadata": {},
   "outputs": [],
   "source": [
    "sns.countplot(x='island', hue='species', data=df)"
   ]
  },
  {
   "cell_type": "code",
   "execution_count": null,
   "metadata": {},
   "outputs": [],
   "source": [
    "df['species'].value_counts()/len(df['species'])"
   ]
  },
  {
   "cell_type": "code",
   "execution_count": null,
   "metadata": {},
   "outputs": [],
   "source": [
    "df.info()"
   ]
  },
  {
   "cell_type": "markdown",
   "metadata": {},
   "source": [
    "## Tratamiento de datos"
   ]
  },
  {
   "cell_type": "code",
   "execution_count": 4,
   "metadata": {},
   "outputs": [],
   "source": [
    "mean = df[['bill_length_mm', 'bill_depth_mm', 'flipper_length_mm', 'body_mass_g']].mean()"
   ]
  },
  {
   "cell_type": "code",
   "execution_count": 5,
   "metadata": {},
   "outputs": [],
   "source": [
    "df.fillna(mean, inplace=True)"
   ]
  },
  {
   "cell_type": "code",
   "execution_count": 6,
   "metadata": {},
   "outputs": [],
   "source": [
    "df['sex'].ffill(inplace=True)"
   ]
  },
  {
   "cell_type": "code",
   "execution_count": null,
   "metadata": {},
   "outputs": [],
   "source": [
    "# df.drop(columns='rowid', inplace=True)"
   ]
  },
  {
   "cell_type": "code",
   "execution_count": null,
   "metadata": {},
   "outputs": [],
   "source": [
    "# df.drop(columns='year', inplace=True)"
   ]
  },
  {
   "cell_type": "code",
   "execution_count": null,
   "metadata": {},
   "outputs": [],
   "source": [
    "df"
   ]
  },
  {
   "cell_type": "code",
   "execution_count": null,
   "metadata": {},
   "outputs": [],
   "source": [
    "df.isna().sum()"
   ]
  },
  {
   "cell_type": "markdown",
   "metadata": {},
   "source": [
    "## División de datos"
   ]
  },
  {
   "cell_type": "code",
   "execution_count": 7,
   "metadata": {},
   "outputs": [],
   "source": [
    "X_train, X_test, y_train, y_test = train_test_split(df.drop('species', axis=1), df['species'], test_size=0.2, random_state=23)"
   ]
  },
  {
   "cell_type": "markdown",
   "metadata": {},
   "source": [
    "## Escalado"
   ]
  },
  {
   "cell_type": "markdown",
   "metadata": {},
   "source": [
    "- species --> mapeo\n",
    "- island --> LabelEncoder\n",
    "- sex --> OHE\n",
    "- bill_length_mm\tbill_depth_mm\tflipper_length_mm\tbody_mass_g --> MinMaxScaler\n",
    "- rowid --> eliminar\n",
    "- year --> nada"
   ]
  },
  {
   "cell_type": "code",
   "execution_count": 8,
   "metadata": {},
   "outputs": [],
   "source": [
    "X_train.drop(columns='rowid', inplace=True)"
   ]
  },
  {
   "cell_type": "code",
   "execution_count": 9,
   "metadata": {},
   "outputs": [],
   "source": [
    "mapeo = {'Adelie':0, 'Gentoo':1, 'Chinstrap':2}\n",
    "y_train = y_train.map(mapeo)\n",
    "y_test = y_test.map(mapeo)"
   ]
  },
  {
   "cell_type": "code",
   "execution_count": 10,
   "metadata": {},
   "outputs": [],
   "source": [
    "encoder = LabelEncoder()\n",
    "X_train['island'] =  encoder.fit_transform(X_train['island'])\n",
    "X_test['island'] = encoder.transform(X_test['island'])"
   ]
  },
  {
   "cell_type": "code",
   "execution_count": 13,
   "metadata": {},
   "outputs": [],
   "source": [
    "ohe = OneHotEncoder(sparse=False, handle_unknown='ignore')\n",
    "\n",
    "ohe.fit(X_train[['sex']])\n",
    "\n",
    "transformed_X_train = ohe.transform(X_train[['sex']])\n",
    "transformed_df = pd.DataFrame(transformed_X_train, columns=ohe.get_feature_names_out(['sex']), index=X_train.index)\n",
    "X_train_sca_ohe = pd.concat([X_train, transformed_df], axis=1).drop(columns='sex')\n",
    "\n",
    "transformed_X_val = ohe.transform(X_test[['sex']])\n",
    "transformed_df = pd.DataFrame(transformed_X_val, columns=ohe.get_feature_names_out(['sex']), index=X_test.index)\n",
    "X_test_sca_ohe = pd.concat([X_test, transformed_df], axis=1).drop(columns='sex')"
   ]
  },
  {
   "cell_type": "code",
   "execution_count": 14,
   "metadata": {},
   "outputs": [],
   "source": [
    "col_minmax = ['bill_length_mm', 'bill_depth_mm', 'flipper_length_mm', 'body_mass_g']\n",
    "\n",
    "minmax = MinMaxScaler()\n",
    "\n",
    "minmax.fit(X_train_sca_ohe[col_minmax])\n",
    "\n",
    "X_train_sca_minmax = minmax.transform(X_train_sca_ohe[col_minmax])\n",
    "X_train_sca_ohe[col_minmax] = X_train_sca_minmax\n",
    "\n",
    "X_test_sca_minmax = minmax.transform(X_test_sca_ohe[col_minmax])\n",
    "X_test_sca_ohe[col_minmax] = X_test_sca_minmax"
   ]
  },
  {
   "cell_type": "code",
   "execution_count": 17,
   "metadata": {},
   "outputs": [
    {
     "data": {
      "text/html": [
       "<div>\n",
       "<style scoped>\n",
       "    .dataframe tbody tr th:only-of-type {\n",
       "        vertical-align: middle;\n",
       "    }\n",
       "\n",
       "    .dataframe tbody tr th {\n",
       "        vertical-align: top;\n",
       "    }\n",
       "\n",
       "    .dataframe thead th {\n",
       "        text-align: right;\n",
       "    }\n",
       "</style>\n",
       "<table border=\"1\" class=\"dataframe\">\n",
       "  <thead>\n",
       "    <tr style=\"text-align: right;\">\n",
       "      <th></th>\n",
       "      <th>island</th>\n",
       "      <th>bill_length_mm</th>\n",
       "      <th>bill_depth_mm</th>\n",
       "      <th>flipper_length_mm</th>\n",
       "      <th>body_mass_g</th>\n",
       "      <th>year</th>\n",
       "      <th>sex_female</th>\n",
       "      <th>sex_male</th>\n",
       "    </tr>\n",
       "  </thead>\n",
       "  <tbody>\n",
       "    <tr>\n",
       "      <th>95</th>\n",
       "      <td>1</td>\n",
       "      <td>0.316364</td>\n",
       "      <td>0.690476</td>\n",
       "      <td>0.610169</td>\n",
       "      <td>0.444444</td>\n",
       "      <td>2008</td>\n",
       "      <td>0.0</td>\n",
       "      <td>1.0</td>\n",
       "    </tr>\n",
       "    <tr>\n",
       "      <th>44</th>\n",
       "      <td>1</td>\n",
       "      <td>0.178182</td>\n",
       "      <td>0.452381</td>\n",
       "      <td>0.220339</td>\n",
       "      <td>0.083333</td>\n",
       "      <td>2007</td>\n",
       "      <td>1.0</td>\n",
       "      <td>0.0</td>\n",
       "    </tr>\n",
       "    <tr>\n",
       "      <th>119</th>\n",
       "      <td>2</td>\n",
       "      <td>0.327273</td>\n",
       "      <td>0.654762</td>\n",
       "      <td>0.288136</td>\n",
       "      <td>0.173611</td>\n",
       "      <td>2009</td>\n",
       "      <td>0.0</td>\n",
       "      <td>1.0</td>\n",
       "    </tr>\n",
       "    <tr>\n",
       "      <th>245</th>\n",
       "      <td>0</td>\n",
       "      <td>0.632727</td>\n",
       "      <td>0.357143</td>\n",
       "      <td>0.881356</td>\n",
       "      <td>0.819444</td>\n",
       "      <td>2009</td>\n",
       "      <td>0.0</td>\n",
       "      <td>1.0</td>\n",
       "    </tr>\n",
       "    <tr>\n",
       "      <th>266</th>\n",
       "      <td>0</td>\n",
       "      <td>0.512727</td>\n",
       "      <td>0.119048</td>\n",
       "      <td>0.762712</td>\n",
       "      <td>0.465278</td>\n",
       "      <td>2009</td>\n",
       "      <td>1.0</td>\n",
       "      <td>0.0</td>\n",
       "    </tr>\n",
       "    <tr>\n",
       "      <th>...</th>\n",
       "      <td>...</td>\n",
       "      <td>...</td>\n",
       "      <td>...</td>\n",
       "      <td>...</td>\n",
       "      <td>...</td>\n",
       "      <td>...</td>\n",
       "      <td>...</td>\n",
       "      <td>...</td>\n",
       "    </tr>\n",
       "    <tr>\n",
       "      <th>237</th>\n",
       "      <td>0</td>\n",
       "      <td>0.680000</td>\n",
       "      <td>0.500000</td>\n",
       "      <td>0.949153</td>\n",
       "      <td>0.805556</td>\n",
       "      <td>2009</td>\n",
       "      <td>0.0</td>\n",
       "      <td>1.0</td>\n",
       "    </tr>\n",
       "    <tr>\n",
       "      <th>31</th>\n",
       "      <td>1</td>\n",
       "      <td>0.185455</td>\n",
       "      <td>0.595238</td>\n",
       "      <td>0.101695</td>\n",
       "      <td>0.333333</td>\n",
       "      <td>2007</td>\n",
       "      <td>0.0</td>\n",
       "      <td>1.0</td>\n",
       "    </tr>\n",
       "    <tr>\n",
       "      <th>40</th>\n",
       "      <td>1</td>\n",
       "      <td>0.160000</td>\n",
       "      <td>0.583333</td>\n",
       "      <td>0.169492</td>\n",
       "      <td>0.125000</td>\n",
       "      <td>2007</td>\n",
       "      <td>1.0</td>\n",
       "      <td>0.0</td>\n",
       "    </tr>\n",
       "    <tr>\n",
       "      <th>230</th>\n",
       "      <td>0</td>\n",
       "      <td>0.476364</td>\n",
       "      <td>0.083333</td>\n",
       "      <td>0.728814</td>\n",
       "      <td>0.569444</td>\n",
       "      <td>2008</td>\n",
       "      <td>1.0</td>\n",
       "      <td>0.0</td>\n",
       "    </tr>\n",
       "    <tr>\n",
       "      <th>83</th>\n",
       "      <td>2</td>\n",
       "      <td>0.109091</td>\n",
       "      <td>0.750000</td>\n",
       "      <td>0.355932</td>\n",
       "      <td>0.416667</td>\n",
       "      <td>2008</td>\n",
       "      <td>0.0</td>\n",
       "      <td>1.0</td>\n",
       "    </tr>\n",
       "  </tbody>\n",
       "</table>\n",
       "<p>275 rows × 8 columns</p>\n",
       "</div>"
      ],
      "text/plain": [
       "     island  bill_length_mm  bill_depth_mm  flipper_length_mm  body_mass_g  \\\n",
       "95        1        0.316364       0.690476           0.610169     0.444444   \n",
       "44        1        0.178182       0.452381           0.220339     0.083333   \n",
       "119       2        0.327273       0.654762           0.288136     0.173611   \n",
       "245       0        0.632727       0.357143           0.881356     0.819444   \n",
       "266       0        0.512727       0.119048           0.762712     0.465278   \n",
       "..      ...             ...            ...                ...          ...   \n",
       "237       0        0.680000       0.500000           0.949153     0.805556   \n",
       "31        1        0.185455       0.595238           0.101695     0.333333   \n",
       "40        1        0.160000       0.583333           0.169492     0.125000   \n",
       "230       0        0.476364       0.083333           0.728814     0.569444   \n",
       "83        2        0.109091       0.750000           0.355932     0.416667   \n",
       "\n",
       "     year  sex_female  sex_male  \n",
       "95   2008         0.0       1.0  \n",
       "44   2007         1.0       0.0  \n",
       "119  2009         0.0       1.0  \n",
       "245  2009         0.0       1.0  \n",
       "266  2009         1.0       0.0  \n",
       "..    ...         ...       ...  \n",
       "237  2009         0.0       1.0  \n",
       "31   2007         0.0       1.0  \n",
       "40   2007         1.0       0.0  \n",
       "230  2008         1.0       0.0  \n",
       "83   2008         0.0       1.0  \n",
       "\n",
       "[275 rows x 8 columns]"
      ]
     },
     "execution_count": 17,
     "metadata": {},
     "output_type": "execute_result"
    }
   ],
   "source": [
    "X_train_sca_ohe"
   ]
  },
  {
   "cell_type": "markdown",
   "metadata": {},
   "source": [
    "## BaseLines y Selección de Modelo"
   ]
  },
  {
   "cell_type": "code",
   "execution_count": null,
   "metadata": {},
   "outputs": [],
   "source": [
    "modelos = {\n",
    "    'LogisticRegression': LogisticRegression(),\n",
    "    'SVC': SVC()\n",
    "}\n",
    "\n",
    "metricas = ['accuracy', 'f1_macro', 'recall_macro', 'precision_macro', 'roc_auc_ovr']\n",
    "\n",
    "resultados_dict = {}\n",
    "\n",
    "for nombre_modelo, modelos in modelos.items():\n",
    "    cv_resultados = cross_validate(modelo, X_train_sca_ohe, y_train, cv=5, scoring=metricas)\n",
    "\n",
    "    for metricas in metricas"
   ]
  },
  {
   "cell_type": "markdown",
   "metadata": {},
   "source": [
    "## Entrenar"
   ]
  },
  {
   "cell_type": "code",
   "execution_count": null,
   "metadata": {},
   "outputs": [],
   "source": []
  },
  {
   "cell_type": "markdown",
   "metadata": {},
   "source": [
    "## Predicción"
   ]
  },
  {
   "cell_type": "code",
   "execution_count": null,
   "metadata": {},
   "outputs": [],
   "source": []
  },
  {
   "cell_type": "markdown",
   "metadata": {},
   "source": [
    "## Validar modelo"
   ]
  },
  {
   "cell_type": "code",
   "execution_count": null,
   "metadata": {},
   "outputs": [],
   "source": []
  }
 ],
 "metadata": {
  "kernelspec": {
   "display_name": ".venv",
   "language": "python",
   "name": "python3"
  },
  "language_info": {
   "codemirror_mode": {
    "name": "ipython",
    "version": 3
   },
   "file_extension": ".py",
   "mimetype": "text/x-python",
   "name": "python",
   "nbconvert_exporter": "python",
   "pygments_lexer": "ipython3",
   "version": "3.11.5"
  }
 },
 "nbformat": 4,
 "nbformat_minor": 2
}
