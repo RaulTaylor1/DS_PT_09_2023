{
 "cells": [
  {
   "cell_type": "markdown",
   "metadata": {},
   "source": [
    "# Python | day 7 | while"
   ]
  },
  {
   "cell_type": "markdown",
   "metadata": {},
   "source": [
    "Con el bucle **while** podemos ejecutar un conjunto de sentencias mientras se cumpla una condición."
   ]
  },
  {
   "cell_type": "markdown",
   "metadata": {},
   "source": [
    "```python\n",
    "i = 1\n",
    "while i < 6:\n",
    "  print(i)\n",
    "  i += 1\n",
    "```"
   ]
  },
  {
   "cell_type": "markdown",
   "metadata": {},
   "source": [
    "### Ejercicio 1."
   ]
  },
  {
   "cell_type": "markdown",
   "metadata": {},
   "source": [
    "Haga lo que se describe a continuación:\n",
    "\n",
    "- Crea una variable llamada fuerza, y fija su valor inicial en 5.\n",
    "\n",
    "- Imprime un mensaje informando de la fuerza del jugador.\n",
    "\n",
    "- Establece un bucle while que se ejecute hasta que la fuerza del jugador aumente hasta un valor como 10.\n",
    "\n",
    "- Dentro del bucle while, imprime un mensaje que informe de la fuerza actual del jugador.\n",
    "\n",
    "- Dentro del bucle while, escribe una sentencia que incremente la fuerza del jugador.\n",
    "\n",
    "- Fuera del bucle while, imprime un mensaje informando de que el jugador se ha hecho demasiado fuerte, y que ha pasado a un nuevo nivel del juego.\n",
    "\n",
    "Juega con diferentes niveles de corte para el valor de la fuerza, y juega con diferentes maneras de aumentar el valor de la fuerza dentro del bucle while.\n"
   ]
  },
  {
   "cell_type": "code",
   "execution_count": 19,
   "metadata": {},
   "outputs": [
    {
     "name": "stdout",
     "output_type": "stream",
     "text": [
      "Fuerza del jugador 5\n",
      "Ahora tu fuerza es 6\n",
      "Ahora tu fuerza es 7\n",
      "Ahora tu fuerza es 8\n",
      "Ahora tu fuerza es 9\n",
      "Ahora tu fuerza es 10\n",
      "Estas demasiado fuerte, pasas al siguiente nivel\n"
     ]
    }
   ],
   "source": [
    "fuerza = 5\n",
    "print('Fuerza del jugador', fuerza)\n",
    "\n",
    "while fuerza < 10:\n",
    "    fuerza += 1\n",
    "    print('Ahora tu fuerza es', fuerza)\n",
    "\n",
    "if fuerza == 10:\n",
    "    print('Estas demasiado fuerte, pasas al siguiente nivel')  "
   ]
  },
  {
   "cell_type": "markdown",
   "metadata": {},
   "source": [
    "### Ejercicio 2."
   ]
  },
  {
   "cell_type": "markdown",
   "metadata": {},
   "source": [
    "Para resolver los siguientes ejercicios será necesario definir una función para cada apartado. Elige el nombre de esas funciones a menos que se especifique, pero asegúrate de definir un único parámetro `cualquiera_lista`, al llamar a la función corresponderá a la variable `info_lista`."
   ]
  },
  {
   "cell_type": "code",
   "execution_count": 5,
   "metadata": {},
   "outputs": [],
   "source": [
    "# puedes utilizar esta lista o tomar la tuya de la Práctica 3\n",
    "info_list = [15, 'Recoletos', True, ['Recoletos', 15],  None, '8'] "
   ]
  },
  {
   "cell_type": "markdown",
   "metadata": {},
   "source": [
    "Ya has leído estas preguntas a continuación, pero esta vez se te pide que las resuelvas utilizando el bucle `while` en lugar de `for`.\n",
    "\n",
    "   - Recorre `cualquier_lista` para imprimir todos los elementos que contiene. Esta función debe devolver la lista convertida en tupla.\n",
    "   - Recorre `cualquier_lista` para imprimir todos los elementos que contiene concatenados con la cadena` \"--> OK\" `. Esta función debería devolver un mensaje diciendo, `\"todo irá bien\"`.\n",
    "   - Recorrer `cualquier_lista` para mostrar todos los elementos que contiene excepto el primero. Esta función debería devolver el primer elemento de la lista.\n",
    "   - Recorre `cualquier_lista` para mostrar todos los elementos que contiene excepto el último. Esta función debe devolver el último elemento de la lista."
   ]
  },
  {
   "cell_type": "code",
   "execution_count": null,
   "metadata": {},
   "outputs": [],
   "source": []
  },
  {
   "cell_type": "code",
   "execution_count": null,
   "metadata": {},
   "outputs": [],
   "source": []
  },
  {
   "cell_type": "code",
   "execution_count": null,
   "metadata": {},
   "outputs": [],
   "source": []
  },
  {
   "cell_type": "code",
   "execution_count": null,
   "metadata": {},
   "outputs": [],
   "source": []
  },
  {
   "cell_type": "code",
   "execution_count": null,
   "metadata": {},
   "outputs": [],
   "source": []
  },
  {
   "cell_type": "markdown",
   "metadata": {},
   "source": [
    "### Ejercicio 3."
   ]
  },
  {
   "cell_type": "markdown",
   "metadata": {},
   "source": [
    "1. Define una función que realice la [serie de Fibonacci](https://quantdare.com/numeros-de-fibonacci/#:~:text=En%20matem%C3%A1ticas%2C%20la%20sucesi%C3%B3n%20o,nombre%20de%20n%C3%BAmero%20de%20Fibonacci.) con un `mientras`."
   ]
  },
  {
   "cell_type": "code",
   "execution_count": 27,
   "metadata": {},
   "outputs": [
    {
     "name": "stdout",
     "output_type": "stream",
     "text": [
      "1\n",
      "1\n",
      "2\n",
      "3\n",
      "5\n",
      "8\n",
      "13\n",
      "21\n",
      "34\n",
      "55\n",
      "89\n"
     ]
    }
   ],
   "source": [
    "a = b = 1\n",
    "while a < 100:\n",
    "    print(a)\n",
    "    (a, b) = (b, a+b)"
   ]
  },
  {
   "cell_type": "markdown",
   "metadata": {},
   "source": [
    "### Ejercicio 4."
   ]
  },
  {
   "cell_type": "markdown",
   "metadata": {},
   "source": [
    "Para resolver los siguientes ejercicios será necesario definir una función para cada apartado. Elige el nombre de esas funciones a menos que se especifique, pero asegúrate de definir un único parámetro `cualquiera_lista`, al llamar a la función corresponderá a la variable `info_lista`."
   ]
  },
  {
   "cell_type": "code",
   "execution_count": 9,
   "metadata": {},
   "outputs": [],
   "source": [
    "# you can use this list or take yours from Practice 3\n",
    "info_list = [15, 'Recoletos', True, ['Recoletos', 15],  None, '8'] "
   ]
  },
  {
   "cell_type": "markdown",
   "metadata": {},
   "source": [
    "1. Define una función que guarde el valor de `\"nada\"` en una variable y lo imprima. Además, concatena su valor con el número de El Puente y lo muestra en pantalla.\n",
    "\n",
    "   Además, mostrar un booleano **Verdadero** si la longitud de la palabra concatenada es 6. En caso contrario, será **Falso**. La función debe devolver el valor **Verdadero** o **Falso** y el nombre de esta función será `f_s`."
   ]
  },
  {
   "cell_type": "code",
   "execution_count": 11,
   "metadata": {},
   "outputs": [
    {
     "name": "stdout",
     "output_type": "stream",
     "text": [
      "None\n"
     ]
    },
    {
     "ename": "TypeError",
     "evalue": "can only concatenate str (not \"NoneType\") to str",
     "output_type": "error",
     "traceback": [
      "\u001b[1;31m---------------------------------------------------------------------------\u001b[0m",
      "\u001b[1;31mTypeError\u001b[0m                                 Traceback (most recent call last)",
      "\u001b[1;32mc:\\Users\\taylo\\Documents\\GitHub\\DS_PT_09_2023\\01-Ramp_Up\\02-Python\\02-Ejercicios de repaso\\Practice_7_while.ipynb Cell 23\u001b[0m line \u001b[0;36m1\n\u001b[0;32m     <a href='vscode-notebook-cell:/c%3A/Users/taylo/Documents/GitHub/DS_PT_09_2023/01-Ramp_Up/02-Python/02-Ejercicios%20de%20repaso/Practice_7_while.ipynb#X31sZmlsZQ%3D%3D?line=13'>14</a>\u001b[0m         \u001b[39mprint\u001b[39m(\u001b[39mFalse\u001b[39;00m)\n\u001b[0;32m     <a href='vscode-notebook-cell:/c%3A/Users/taylo/Documents/GitHub/DS_PT_09_2023/01-Ramp_Up/02-Python/02-Ejercicios%20de%20repaso/Practice_7_while.ipynb#X31sZmlsZQ%3D%3D?line=15'>16</a>\u001b[0m         \u001b[39mreturn\u001b[39;00m \u001b[39mFalse\u001b[39;00m\n\u001b[1;32m---> <a href='vscode-notebook-cell:/c%3A/Users/taylo/Documents/GitHub/DS_PT_09_2023/01-Ramp_Up/02-Python/02-Ejercicios%20de%20repaso/Practice_7_while.ipynb#X31sZmlsZQ%3D%3D?line=17'>18</a>\u001b[0m value \u001b[39m=\u001b[39m f_s(info_list)\n\u001b[0;32m     <a href='vscode-notebook-cell:/c%3A/Users/taylo/Documents/GitHub/DS_PT_09_2023/01-Ramp_Up/02-Python/02-Ejercicios%20de%20repaso/Practice_7_while.ipynb#X31sZmlsZQ%3D%3D?line=18'>19</a>\u001b[0m value\n",
      "\u001b[1;32mc:\\Users\\taylo\\Documents\\GitHub\\DS_PT_09_2023\\01-Ramp_Up\\02-Python\\02-Ejercicios de repaso\\Practice_7_while.ipynb Cell 23\u001b[0m line \u001b[0;36m5\n\u001b[0;32m      <a href='vscode-notebook-cell:/c%3A/Users/taylo/Documents/GitHub/DS_PT_09_2023/01-Ramp_Up/02-Python/02-Ejercicios%20de%20repaso/Practice_7_while.ipynb#X31sZmlsZQ%3D%3D?line=1'>2</a>\u001b[0m value \u001b[39m=\u001b[39m \u001b[39mNone\u001b[39;00m\n\u001b[0;32m      <a href='vscode-notebook-cell:/c%3A/Users/taylo/Documents/GitHub/DS_PT_09_2023/01-Ramp_Up/02-Python/02-Ejercicios%20de%20repaso/Practice_7_while.ipynb#X31sZmlsZQ%3D%3D?line=2'>3</a>\u001b[0m \u001b[39mprint\u001b[39m(value)\n\u001b[1;32m----> <a href='vscode-notebook-cell:/c%3A/Users/taylo/Documents/GitHub/DS_PT_09_2023/01-Ramp_Up/02-Python/02-Ejercicios%20de%20repaso/Practice_7_while.ipynb#X31sZmlsZQ%3D%3D?line=4'>5</a>\u001b[0m value_c \u001b[39m=\u001b[39m \u001b[39mstr\u001b[39;49m(info_list[\u001b[39m0\u001b[39;49m]) \u001b[39m+\u001b[39;49m value\n\u001b[0;32m      <a href='vscode-notebook-cell:/c%3A/Users/taylo/Documents/GitHub/DS_PT_09_2023/01-Ramp_Up/02-Python/02-Ejercicios%20de%20repaso/Practice_7_while.ipynb#X31sZmlsZQ%3D%3D?line=5'>6</a>\u001b[0m \u001b[39mprint\u001b[39m(value_c)\n\u001b[0;32m      <a href='vscode-notebook-cell:/c%3A/Users/taylo/Documents/GitHub/DS_PT_09_2023/01-Ramp_Up/02-Python/02-Ejercicios%20de%20repaso/Practice_7_while.ipynb#X31sZmlsZQ%3D%3D?line=7'>8</a>\u001b[0m \u001b[39mif\u001b[39;00m \u001b[39mlen\u001b[39m(value_c) \u001b[39m>\u001b[39m \u001b[39m6\u001b[39m:\n",
      "\u001b[1;31mTypeError\u001b[0m: can only concatenate str (not \"NoneType\") to str"
     ]
    }
   ],
   "source": [
    "def f_s (info_list):\n",
    "    value = None\n",
    "    #print(value)\n",
    "\n",
    "    value_c = str(info_list[0]) + value\n",
    "    #print(value_c)\n",
    "\n",
    "    if len(value_c) > 6:\n",
    "        print(True)\n",
    "\n",
    "        return True\n",
    "    \n",
    "    else:\n",
    "        print(False)\n",
    "\n",
    "        return False\n",
    "    \n",
    "value = f_s(info_list)\n",
    "value"
   ]
  },
  {
   "cell_type": "markdown",
   "metadata": {},
   "source": [
    "### Bonus Track."
   ]
  },
  {
   "cell_type": "markdown",
   "metadata": {},
   "source": [
    "2. Crea una lista `lista_aux` con 7 elementos, los que quieras. A continuación, crea una función `usar_f_s` que reciba como parámetros una función `alguna_función` y cualquier lista `cualquier_lista`. Si el valor de `alguna_función` es **True**, elimina un elemento de `cualquier_lista`. Repita el proceso hasta que `cualquiera_lista` no tenga elementos. El argumento para `cualquiera_lista` debe ser `list_aux` y para `some_function` será la función `f_s` del punto anterior."
   ]
  },
  {
   "cell_type": "code",
   "execution_count": 12,
   "metadata": {},
   "outputs": [],
   "source": [
    "list_aux = ['1', '2', '3', '4', '5']"
   ]
  },
  {
   "cell_type": "code",
   "execution_count": 31,
   "metadata": {},
   "outputs": [],
   "source": [
    "def usar_f_s(f_s=f_s, cualquier_lista:list=list_aux) -> None:\n",
    "    \n",
    "    while len(cualquier_lista) > 0:\n",
    "        if f_s() == True:\n",
    "            cualquier_lista.pop()\n",
    "    print('Se eliminaron todos')"
   ]
  },
  {
   "cell_type": "code",
   "execution_count": 30,
   "metadata": {},
   "outputs": [
    {
     "ename": "TypeError",
     "evalue": "f_s() missing 1 required positional argument: 'info_list'",
     "output_type": "error",
     "traceback": [
      "\u001b[1;31m---------------------------------------------------------------------------\u001b[0m",
      "\u001b[1;31mTypeError\u001b[0m                                 Traceback (most recent call last)",
      "\u001b[1;32mc:\\Users\\taylo\\Documents\\GitHub\\DS_PT_09_2023\\01-Ramp_Up\\02-Python\\02-Ejercicios de repaso\\Practice_7_while.ipynb Cell 28\u001b[0m line \u001b[0;36m1\n\u001b[1;32m----> <a href='vscode-notebook-cell:/c%3A/Users/taylo/Documents/GitHub/DS_PT_09_2023/01-Ramp_Up/02-Python/02-Ejercicios%20de%20repaso/Practice_7_while.ipynb#X45sZmlsZQ%3D%3D?line=0'>1</a>\u001b[0m usar_f_s()\n",
      "\u001b[1;32mc:\\Users\\taylo\\Documents\\GitHub\\DS_PT_09_2023\\01-Ramp_Up\\02-Python\\02-Ejercicios de repaso\\Practice_7_while.ipynb Cell 28\u001b[0m line \u001b[0;36m4\n\u001b[0;32m      <a href='vscode-notebook-cell:/c%3A/Users/taylo/Documents/GitHub/DS_PT_09_2023/01-Ramp_Up/02-Python/02-Ejercicios%20de%20repaso/Practice_7_while.ipynb#X45sZmlsZQ%3D%3D?line=0'>1</a>\u001b[0m \u001b[39mdef\u001b[39;00m \u001b[39musar_f_s\u001b[39m(f_s\u001b[39m=\u001b[39mf_s, cualquier_lista:\u001b[39mlist\u001b[39m\u001b[39m=\u001b[39mlist_aux) \u001b[39m-\u001b[39m\u001b[39m>\u001b[39m \u001b[39mNone\u001b[39;00m:\n\u001b[0;32m      <a href='vscode-notebook-cell:/c%3A/Users/taylo/Documents/GitHub/DS_PT_09_2023/01-Ramp_Up/02-Python/02-Ejercicios%20de%20repaso/Practice_7_while.ipynb#X45sZmlsZQ%3D%3D?line=2'>3</a>\u001b[0m     \u001b[39mwhile\u001b[39;00m \u001b[39mlen\u001b[39m(cualquier_lista) \u001b[39m>\u001b[39m \u001b[39m0\u001b[39m:\n\u001b[1;32m----> <a href='vscode-notebook-cell:/c%3A/Users/taylo/Documents/GitHub/DS_PT_09_2023/01-Ramp_Up/02-Python/02-Ejercicios%20de%20repaso/Practice_7_while.ipynb#X45sZmlsZQ%3D%3D?line=3'>4</a>\u001b[0m         \u001b[39mif\u001b[39;00m f_s() \u001b[39m==\u001b[39m \u001b[39mTrue\u001b[39;00m:\n\u001b[0;32m      <a href='vscode-notebook-cell:/c%3A/Users/taylo/Documents/GitHub/DS_PT_09_2023/01-Ramp_Up/02-Python/02-Ejercicios%20de%20repaso/Practice_7_while.ipynb#X45sZmlsZQ%3D%3D?line=4'>5</a>\u001b[0m             cualquier_lista\u001b[39m.\u001b[39mpop()\n\u001b[0;32m      <a href='vscode-notebook-cell:/c%3A/Users/taylo/Documents/GitHub/DS_PT_09_2023/01-Ramp_Up/02-Python/02-Ejercicios%20de%20repaso/Practice_7_while.ipynb#X45sZmlsZQ%3D%3D?line=5'>6</a>\u001b[0m     \u001b[39mprint\u001b[39m(\u001b[39m'\u001b[39m\u001b[39mSe eliminaran todos\u001b[39m\u001b[39m'\u001b[39m)\n",
      "\u001b[1;31mTypeError\u001b[0m: f_s() missing 1 required positional argument: 'info_list'"
     ]
    }
   ],
   "source": [
    "usar_f_s()"
   ]
  },
  {
   "cell_type": "markdown",
   "metadata": {},
   "source": [
    "3. Defina una función `números_pares` que tenga como parámetro de entrada `arg1`, de tipo entero. La función debe devolver una lista de números de tamaño `arg1`, siendo todos ellos números pares.\n",
    "\n",
    "   No uses la función `print()` dentro de la función, pero imprime lo que devuelve `números_pares` al llamarla con el argumento `10`, sólo para comprobar que tu función funciona.\n",
    "   \n",
    "```python\n",
    "print(even_numbers(10))\n",
    "```"
   ]
  },
  {
   "cell_type": "code",
   "execution_count": null,
   "metadata": {},
   "outputs": [],
   "source": []
  },
  {
   "cell_type": "markdown",
   "metadata": {},
   "source": [
    "4. Crea una función que tenga como variable de entrada `arg1`, que será la lista de números pares del apartado anterior, y que elimine elementos de la lista, uno a uno, si `arg1` tiene un tamaño divisible por 2 y, en caso contrario, añada una sola vez, el valor de la función `f_s` que debe ser un booleano (`True` o `False`).\n"
   ]
  },
  {
   "cell_type": "code",
   "execution_count": null,
   "metadata": {},
   "outputs": [],
   "source": []
  },
  {
   "cell_type": "markdown",
   "metadata": {},
   "source": [
    "!['nicetry'](https://i.pinimg.com/originals/36/ab/81/36ab81cd8d63cf7c4a08f39403698c77.jpg)"
   ]
  },
  {
   "cell_type": "code",
   "execution_count": null,
   "metadata": {},
   "outputs": [],
   "source": []
  }
 ],
 "metadata": {
  "kernelspec": {
   "display_name": "Python 3",
   "language": "python",
   "name": "python3"
  },
  "language_info": {
   "codemirror_mode": {
    "name": "ipython",
    "version": 3
   },
   "file_extension": ".py",
   "mimetype": "text/x-python",
   "name": "python",
   "nbconvert_exporter": "python",
   "pygments_lexer": "ipython3",
   "version": "3.11.5"
  }
 },
 "nbformat": 4,
 "nbformat_minor": 4
}
