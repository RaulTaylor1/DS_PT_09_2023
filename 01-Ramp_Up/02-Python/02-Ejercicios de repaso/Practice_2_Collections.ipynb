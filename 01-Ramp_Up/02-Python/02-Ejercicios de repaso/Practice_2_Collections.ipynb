{
 "cells": [
  {
   "cell_type": "markdown",
   "metadata": {},
   "source": [
    "# Python | day 2 | collections"
   ]
  },
  {
   "cell_type": "markdown",
   "metadata": {},
   "source": [
    "Lists, tuples & sets"
   ]
  },
  {
   "cell_type": "markdown",
   "metadata": {},
   "source": [
    "### Ejercicio 1."
   ]
  },
  {
   "cell_type": "markdown",
   "metadata": {},
   "source": [
    "1. Crea\n",
    "    - una variable de tipo lista llamada **lista_alumnos** que contenga el nombre de tus compañeros de clase.\n",
    "    - 4 listas diferentes que contengan los nombres de los compañeros sentados en cada mesa de la clase más los que siguen a la clase en remoto.  \n",
    "    \n",
    "Si ya no estás en clase y no recuerdas cómo estaba distribuida la clase, utiliza los nombres de tus compañeros y haz 4 listas diferentes con ellos.\n",
    "\n",
    "Imprime las dos listas creadas."
   ]
  },
  {
   "cell_type": "code",
   "execution_count": 8,
   "metadata": {},
   "outputs": [
    {
     "name": "stdout",
     "output_type": "stream",
     "text": [
      "['Diego', 'Mateusz', 'Miguel']\n",
      "['Javier', 'Marta', 'Jonathan']\n",
      "['Jorge', 'Manuel', 'Felipe']\n",
      "['Alberto', 'Alejandro', 'Silvia']\n"
     ]
    }
   ],
   "source": [
    "lista_alumnos = ['Diego', 'Mateusz', 'Miguel', 'Javier', 'Marta', 'Jonathan', 'Jorge', 'Manuel', 'Felipe', 'Alberto', 'Alejandro', 'Silvia']\n",
    "\n",
    "mesa_1 = lista_alumnos[0:3]\n",
    "mesa_2 = lista_alumnos[3:6]\n",
    "casa_1 = lista_alumnos[6:9]\n",
    "casa_2 = lista_alumnos[9:12]\n",
    "\n",
    "\n",
    "print(mesa_1)\n",
    "print(mesa_2)\n",
    "print(casa_1)\n",
    "print(casa_2)"
   ]
  },
  {
   "cell_type": "markdown",
   "metadata": {},
   "source": [
    "### Ejercicio 2"
   ]
  },
  {
   "cell_type": "markdown",
   "metadata": {},
   "source": [
    "1. Crea una lista vacía, llámala **lista_vacía**."
   ]
  },
  {
   "cell_type": "code",
   "execution_count": 9,
   "metadata": {},
   "outputs": [],
   "source": [
    "lista_vacia = []"
   ]
  },
  {
   "cell_type": "markdown",
   "metadata": {},
   "source": [
    "2. Crea una lista con 5 elementos, llámala **mi_lista**."
   ]
  },
  {
   "cell_type": "code",
   "execution_count": 10,
   "metadata": {},
   "outputs": [],
   "source": [
    "mi_lista = [1, 3, 5, 7, 9]"
   ]
  },
  {
   "cell_type": "markdown",
   "metadata": {},
   "source": [
    "3. Hallar la longitud de **mi_lista**\n",
    "\n"
   ]
  },
  {
   "cell_type": "code",
   "execution_count": 11,
   "metadata": {},
   "outputs": [
    {
     "name": "stdout",
     "output_type": "stream",
     "text": [
      "5\n"
     ]
    }
   ],
   "source": [
    "print(len(mi_lista))"
   ]
  },
  {
   "cell_type": "markdown",
   "metadata": {},
   "source": [
    "4. Obtener el primer elemento, el elemento central y el último elemento de **mi_lista**.\n",
    "\n"
   ]
  },
  {
   "cell_type": "code",
   "execution_count": 15,
   "metadata": {},
   "outputs": [
    {
     "name": "stdout",
     "output_type": "stream",
     "text": [
      "1\n",
      "5\n",
      "9\n"
     ]
    }
   ],
   "source": [
    "print(mi_lista[0])\n",
    "print(mi_lista[2])\n",
    "print(mi_lista[-1])"
   ]
  },
  {
   "cell_type": "markdown",
   "metadata": {},
   "source": [
    "5. Declarar\n",
    "    - una variable **nombre** y asignarle un valor\n",
    "    - una variable **edad** y asignarle un valor\n",
    "    - una variable **altura** y asignarle un valor\n",
    "    - una variable **país** y asignarle un valor\n",
    "    - una variable **python_version** y asignarle un valor\n"
   ]
  },
  {
   "cell_type": "code",
   "execution_count": 16,
   "metadata": {},
   "outputs": [],
   "source": [
    "nombre = 'Rodolfo'\n",
    "edad = 57\n",
    "altura = 1.91\n",
    "pais = 'Irak'\n",
    "python_version = 3.11"
   ]
  },
  {
   "cell_type": "markdown",
   "metadata": {},
   "source": [
    "6. Crea una lista llamada **tipos_de_datos_mezclados** con tu nombre, edad, altura, país y versión_de_ python.\n",
    "\n"
   ]
  },
  {
   "cell_type": "code",
   "execution_count": 18,
   "metadata": {},
   "outputs": [
    {
     "name": "stdout",
     "output_type": "stream",
     "text": [
      "['Rodolfo', 57, 1.91, 'Irak', 3.11]\n"
     ]
    }
   ],
   "source": [
    "tipos_de_datos_mezclados = [nombre, edad, altura, pais, python_version]\n",
    "print(tipos_de_datos_mezclados)"
   ]
  },
  {
   "cell_type": "markdown",
   "metadata": {},
   "source": [
    "7. Declara una variable de lista llamada **it_companies** y asígnale los valores iniciales Facebook, Google, Microsoft, Apple, IBM, Oracle y Amazon.\n"
   ]
  },
  {
   "cell_type": "code",
   "execution_count": 19,
   "metadata": {},
   "outputs": [],
   "source": [
    "it_companies = ['Facebook', 'Google', 'Microsoft', 'Apple', 'IBM', 'Oracle', 'Amazon']"
   ]
  },
  {
   "cell_type": "markdown",
   "metadata": {},
   "source": [
    "8. Imprime **it_companies** usando print()\n",
    "\n"
   ]
  },
  {
   "cell_type": "code",
   "execution_count": 20,
   "metadata": {},
   "outputs": [
    {
     "name": "stdout",
     "output_type": "stream",
     "text": [
      "['Facebook', 'Google', 'Microsoft', 'Apple', 'IBM', 'Oracle', 'Amazon']\n"
     ]
    }
   ],
   "source": [
    "print(it_companies)"
   ]
  },
  {
   "cell_type": "markdown",
   "metadata": {},
   "source": [
    "9. Imprimir el número de empresas de la lista"
   ]
  },
  {
   "cell_type": "code",
   "execution_count": 21,
   "metadata": {},
   "outputs": [
    {
     "name": "stdout",
     "output_type": "stream",
     "text": [
      "7\n"
     ]
    }
   ],
   "source": [
    "print(len(it_companies))"
   ]
  },
  {
   "cell_type": "markdown",
   "metadata": {},
   "source": [
    "11. imprimir *Google"
   ]
  },
  {
   "cell_type": "code",
   "execution_count": 31,
   "metadata": {},
   "outputs": [
    {
     "name": "stdout",
     "output_type": "stream",
     "text": [
      "Google\n"
     ]
    }
   ],
   "source": [
    "print(it_companies[1])"
   ]
  },
  {
   "cell_type": "markdown",
   "metadata": {},
   "source": [
    "10. Imprima el nombre, el segundo nombre y el apellido de la empresa"
   ]
  },
  {
   "cell_type": "code",
   "execution_count": null,
   "metadata": {},
   "outputs": [],
   "source": []
  },
  {
   "cell_type": "markdown",
   "metadata": {},
   "source": [
    "11. Asignar un nuevo valor al último elemento de la lista"
   ]
  },
  {
   "cell_type": "code",
   "execution_count": 32,
   "metadata": {},
   "outputs": [
    {
     "name": "stdout",
     "output_type": "stream",
     "text": [
      "['Facebook', 'Google', 'Microsoft', 'Apple', 'IBM', 'Oracle', 'Slack', 'Amazon', 'Slack']\n"
     ]
    }
   ],
   "source": [
    "it_companies[-1] = 'Slack'\n",
    "\n",
    "print(it_companies)"
   ]
  },
  {
   "cell_type": "markdown",
   "metadata": {},
   "source": [
    "12. Imprimir la lista después de modificar una de las empresas"
   ]
  },
  {
   "cell_type": "code",
   "execution_count": 33,
   "metadata": {},
   "outputs": [
    {
     "name": "stdout",
     "output_type": "stream",
     "text": [
      "['Facebook', 'Google', 'Microsoft', 'Apple', 'IBM', 'Oracle', 'Slack', 'Amazon', 'Slack']\n"
     ]
    }
   ],
   "source": [
    "print(it_companies)"
   ]
  },
  {
   "cell_type": "markdown",
   "metadata": {},
   "source": [
    "## Bonus track."
   ]
  },
  {
   "cell_type": "markdown",
   "metadata": {},
   "source": [
    "13. Añadir una empresa de TI a **it_companies**.\n",
    "\n"
   ]
  },
  {
   "cell_type": "code",
   "execution_count": 34,
   "metadata": {},
   "outputs": [
    {
     "name": "stdout",
     "output_type": "stream",
     "text": [
      "['Facebook', 'Google', 'Microsoft', 'Apple', 'IBM', 'Oracle', 'Slack', 'Amazon', 'Slack', 'Amazon']\n"
     ]
    }
   ],
   "source": [
    "it_companies.append('Amazon')\n",
    "print(it_companies)"
   ]
  },
  {
   "cell_type": "markdown",
   "metadata": {},
   "source": [
    "14. Compruebe si *Apple* existe en la lista **it_companies**."
   ]
  },
  {
   "cell_type": "code",
   "execution_count": 35,
   "metadata": {},
   "outputs": [
    {
     "name": "stdout",
     "output_type": "stream",
     "text": [
      "1\n"
     ]
    }
   ],
   "source": [
    "print(it_companies.count('Apple'))"
   ]
  },
  {
   "cell_type": "markdown",
   "metadata": {},
   "source": [
    "15. Ordena la lista utilizando el método `sort()`.\n",
    "\n"
   ]
  },
  {
   "cell_type": "code",
   "execution_count": 50,
   "metadata": {},
   "outputs": [
    {
     "name": "stdout",
     "output_type": "stream",
     "text": [
      "['Amazon', 'Apple', 'Facebook', 'Google', 'IBM', 'Microsoft', 'Oracle']\n",
      "['Amazon', 'Apple', 'Facebook', 'Google', 'IBM', 'Microsoft', 'Oracle', 'Slack']\n"
     ]
    }
   ],
   "source": [
    "it_companies.sort()\n",
    "\n",
    "print(it_companies)\n",
    "\n",
    "it_companies.append('Slack')\n",
    "\n",
    "print(it_companies)"
   ]
  },
  {
   "cell_type": "markdown",
   "metadata": {},
   "source": [
    "16. Invierte la lista en orden descendente utilizando el método `reverse()`.\n",
    "\n"
   ]
  },
  {
   "cell_type": "code",
   "execution_count": 61,
   "metadata": {},
   "outputs": [
    {
     "name": "stdout",
     "output_type": "stream",
     "text": [
      "['Slack', 'Oracle', 'Microsoft', 'IBM', 'Google', 'Facebook', 'Apple', 'Amazon']\n"
     ]
    }
   ],
   "source": [
    "print(list(reversed(it_companies)))"
   ]
  },
  {
   "cell_type": "markdown",
   "metadata": {},
   "source": [
    "17. Elimine las 3 primeras empresas de la lista\n",
    "\n"
   ]
  },
  {
   "cell_type": "code",
   "execution_count": 70,
   "metadata": {},
   "outputs": [
    {
     "name": "stdout",
     "output_type": "stream",
     "text": [
      "['Amazon', 'Apple', 'Facebook', 'Google', 'IBM']\n"
     ]
    }
   ],
   "source": [
    "\n",
    "print(it_companies)"
   ]
  },
  {
   "cell_type": "markdown",
   "metadata": {},
   "source": [
    "18. Elimine la última empresa informática de la lista\n"
   ]
  },
  {
   "cell_type": "code",
   "execution_count": 71,
   "metadata": {},
   "outputs": [
    {
     "name": "stdout",
     "output_type": "stream",
     "text": [
      "['Amazon', 'Apple', 'Facebook', 'Google']\n"
     ]
    }
   ],
   "source": [
    "it_companies.pop()\n",
    "\n",
    "print(it_companies)"
   ]
  },
  {
   "cell_type": "markdown",
   "metadata": {},
   "source": [
    "19. Eliminar todas las empresas de TI de la lista"
   ]
  },
  {
   "cell_type": "code",
   "execution_count": 80,
   "metadata": {},
   "outputs": [
    {
     "ename": "TypeError",
     "evalue": "list.remove() takes exactly one argument (0 given)",
     "output_type": "error",
     "traceback": [
      "\u001b[1;31m---------------------------------------------------------------------------\u001b[0m",
      "\u001b[1;31mTypeError\u001b[0m                                 Traceback (most recent call last)",
      "\u001b[1;32mc:\\Users\\taylo\\Documents\\GitHub\\DS_PT_09_2023\\01-Ramp_Up\\02-Python\\02-Ejercicios de repaso\\Practice_2_Collections.ipynb Cell 47\u001b[0m line \u001b[0;36m1\n\u001b[1;32m----> <a href='vscode-notebook-cell:/c%3A/Users/taylo/Documents/GitHub/DS_PT_09_2023/01-Ramp_Up/02-Python/02-Ejercicios%20de%20repaso/Practice_2_Collections.ipynb#X64sZmlsZQ%3D%3D?line=0'>1</a>\u001b[0m it_companies\u001b[39m.\u001b[39;49mremove()\n",
      "\u001b[1;31mTypeError\u001b[0m: list.remove() takes exactly one argument (0 given)"
     ]
    }
   ],
   "source": []
  },
  {
   "cell_type": "markdown",
   "metadata": {},
   "source": [
    "20. Une las listas siguientes y llama a la lista **fin**:\n",
    "\n",
    "```python\n",
    "front_end = [['HTML', 'CSS'], 'JS', 'React', 'Redux']\n",
    "back_end = ['Node','Express', 'MongoDB']\n",
    "```"
   ]
  },
  {
   "cell_type": "code",
   "execution_count": 89,
   "metadata": {},
   "outputs": [
    {
     "name": "stdout",
     "output_type": "stream",
     "text": [
      "[['HTML', 'CSS'], 'JS', 'React', 'Redux', 'Node', 'Express', 'MongoDB']\n"
     ]
    }
   ],
   "source": [
    "front_end = [['HTML', 'CSS'], 'JS', 'React', 'Redux']\n",
    "back_end = ['Node','Express', 'MongoDB']\n",
    "\n",
    "fin = front_end + back_end\n",
    "\n",
    "print(fin)\n"
   ]
  },
  {
   "cell_type": "markdown",
   "metadata": {},
   "source": [
    "21. De la lista **end** imprimir 'HTML'"
   ]
  },
  {
   "cell_type": "code",
   "execution_count": 92,
   "metadata": {},
   "outputs": [
    {
     "name": "stdout",
     "output_type": "stream",
     "text": [
      "HTML\n"
     ]
    }
   ],
   "source": [
    "print(front_end[0][0])"
   ]
  },
  {
   "cell_type": "markdown",
   "metadata": {},
   "source": [
    "22. En la lista final, imprima la \"C\" de la palabra \"CSS\"."
   ]
  },
  {
   "cell_type": "code",
   "execution_count": 100,
   "metadata": {},
   "outputs": [
    {
     "name": "stdout",
     "output_type": "stream",
     "text": [
      "C\n"
     ]
    }
   ],
   "source": [
    "print(front_end[0][1][0])"
   ]
  },
  {
   "cell_type": "markdown",
   "metadata": {},
   "source": [
    "### Ejercicio 3."
   ]
  },
  {
   "cell_type": "markdown",
   "metadata": {},
   "source": [
    "¿Sabes que puedes crear tuplas con un solo elemento?\n",
    "\n",
    "1. En la celda de abajo, define una variable **tup** con un solo elemento \"T\".\n",
    "\n",
    "Pista: tienes que añadir una coma (,) después del elemento único."
   ]
  },
  {
   "cell_type": "code",
   "execution_count": 104,
   "metadata": {},
   "outputs": [],
   "source": [
    "tup = ('T',)"
   ]
  },
  {
   "cell_type": "markdown",
   "metadata": {},
   "source": [
    "2. Imprime el tipo de tup.\n",
    "Asegúrese de que su tipo es correcto (es decir, tupla en lugar de str)."
   ]
  },
  {
   "cell_type": "code",
   "execution_count": 105,
   "metadata": {},
   "outputs": [
    {
     "data": {
      "text/plain": [
       "tuple"
      ]
     },
     "execution_count": 105,
     "metadata": {},
     "output_type": "execute_result"
    }
   ],
   "source": [
    "type(tup)"
   ]
  },
  {
   "cell_type": "markdown",
   "metadata": {},
   "source": [
    "3. Ahora intenta añadir los siguientes elementos a **tup**.\n",
    "¿Eres capaz de hacerlo? Explícalo.\n",
    "\n",
    "`\"H\", \"E\", \" \", \"B\", \"R\", \"I\", \"D\", \"G\", \"E\",`"
   ]
  },
  {
   "cell_type": "code",
   "execution_count": 108,
   "metadata": {},
   "outputs": [
    {
     "name": "stdout",
     "output_type": "stream",
     "text": [
      "('T', 'H', 'E', ' ', 'B', 'R', 'I', 'D', 'G', 'E')\n"
     ]
    }
   ],
   "source": [
    "tup_2 = ('H', 'E', ' ', 'B', 'R', 'I', 'D', 'G', 'E')\n",
    "\n",
    "new_tup = tup + tup_2\n",
    "\n",
    "print(new_tup)"
   ]
  },
  {
   "cell_type": "markdown",
   "metadata": {},
   "source": [
    "4. ¿Qué tal reasignar un nuevo valor a una tupla existente?\n",
    "\n",
    "Reasigna los siguientes elementos a **tup**.\n",
    "\n",
    "¿Eres capaz de hacerlo? Explícalo.\n",
    "\n",
    "\n",
    "`\"T\", \"H\", \"E\", \" \", \"B\", \"R\", \"I\", \"D\", \"G\", \"E\",`"
   ]
  },
  {
   "cell_type": "code",
   "execution_count": 110,
   "metadata": {},
   "outputs": [
    {
     "name": "stdout",
     "output_type": "stream",
     "text": [
      "('T', 'H', 'E', ' ', 'B', 'R', 'I', 'D', 'G', 'E')\n"
     ]
    }
   ],
   "source": [
    "tup = []\n",
    "\n",
    "tup = new_tup\n",
    "\n",
    "print(tup)"
   ]
  },
  {
   "cell_type": "markdown",
   "metadata": {},
   "source": [
    "### Ejercicio 4.\n",
    "\n",
    "1. Convierte **lista_repes** en un *conjunto* para obtener sólo los valores únicos de la lista, asignándolo a una variable llamada **mi_conjunto**."
   ]
  },
  {
   "cell_type": "code",
   "execution_count": 111,
   "metadata": {},
   "outputs": [],
   "source": [
    "lista_repes = [\"data\", \"data\", \"data\", \"science\", \"science\", \"python\", \"python\", \"diomedes\", \"diomedes\", \"diomedes\", \"diomedes\", \"clara\", \"gabriel\", \"gabriel\", \"gabriel\"]"
   ]
  },
  {
   "cell_type": "code",
   "execution_count": 122,
   "metadata": {},
   "outputs": [
    {
     "name": "stdout",
     "output_type": "stream",
     "text": [
      "{'python', 'clara', 'gabriel', 'science', 'diomedes', 'data'}\n"
     ]
    }
   ],
   "source": [
    "lista_repes = set(lista_repes)\n",
    "\n",
    "mi_conjunto = lista_repes\n",
    "\n",
    "print(mi_conjunto)"
   ]
  },
  {
   "cell_type": "markdown",
   "metadata": {},
   "source": [
    "2. Intenta imprimir el primer elemento de **mi_conjunto**.\n",
    "\n",
    "Lo has hecho bien si obtienes *TypeError: 'set' object is not subscriptable*."
   ]
  },
  {
   "cell_type": "code",
   "execution_count": 123,
   "metadata": {},
   "outputs": [
    {
     "ename": "TypeError",
     "evalue": "'set' object is not subscriptable",
     "output_type": "error",
     "traceback": [
      "\u001b[1;31m---------------------------------------------------------------------------\u001b[0m",
      "\u001b[1;31mTypeError\u001b[0m                                 Traceback (most recent call last)",
      "\u001b[1;32mc:\\Users\\taylo\\Documents\\GitHub\\DS_PT_09_2023\\01-Ramp_Up\\02-Python\\02-Ejercicios de repaso\\Practice_2_Collections.ipynb Cell 67\u001b[0m line \u001b[0;36m1\n\u001b[1;32m----> <a href='vscode-notebook-cell:/c%3A/Users/taylo/Documents/GitHub/DS_PT_09_2023/01-Ramp_Up/02-Python/02-Ejercicios%20de%20repaso/Practice_2_Collections.ipynb#Y123sZmlsZQ%3D%3D?line=0'>1</a>\u001b[0m \u001b[39mprint\u001b[39m(mi_conjunto[\u001b[39m0\u001b[39;49m])\n",
      "\u001b[1;31mTypeError\u001b[0m: 'set' object is not subscriptable"
     ]
    }
   ],
   "source": [
    "print(mi_conjunto[0])"
   ]
  },
  {
   "cell_type": "markdown",
   "metadata": {},
   "source": [
    "3. Convierte **mi_conjunto** en una lista, utilizando la función `list()`.\n",
    "\n",
    "¿Puedes imprimir ahora el primer elemento?"
   ]
  },
  {
   "cell_type": "code",
   "execution_count": 126,
   "metadata": {},
   "outputs": [
    {
     "data": {
      "text/plain": [
       "['python', 'clara', 'gabriel', 'science', 'diomedes', 'data']"
      ]
     },
     "execution_count": 126,
     "metadata": {},
     "output_type": "execute_result"
    }
   ],
   "source": [
    "list(mi_conjunto)\n",
    "\n"
   ]
  },
  {
   "cell_type": "code",
   "execution_count": 129,
   "metadata": {},
   "outputs": [],
   "source": [
    "mi_conjunto_2 = mi_conjunto"
   ]
  },
  {
   "cell_type": "code",
   "execution_count": 130,
   "metadata": {},
   "outputs": [
    {
     "name": "stdout",
     "output_type": "stream",
     "text": [
      "{'python', 'clara', 'gabriel', 'science', 'diomedes', 'data'}\n"
     ]
    }
   ],
   "source": [
    "print(mi_conjunto_2)"
   ]
  },
  {
   "cell_type": "code",
   "execution_count": null,
   "metadata": {},
   "outputs": [],
   "source": []
  }
 ],
 "metadata": {
  "kernelspec": {
   "display_name": "Python 3",
   "language": "python",
   "name": "python3"
  },
  "language_info": {
   "codemirror_mode": {
    "name": "ipython",
    "version": 3
   },
   "file_extension": ".py",
   "mimetype": "text/x-python",
   "name": "python",
   "nbconvert_exporter": "python",
   "pygments_lexer": "ipython3",
   "version": "3.8.3"
  }
 },
 "nbformat": 4,
 "nbformat_minor": 4
}
