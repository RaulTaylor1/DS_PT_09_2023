{
 "cells": [
  {
   "cell_type": "markdown",
   "metadata": {},
   "source": [
    "# Python | day 3 | collections & if/else"
   ]
  },
  {
   "cell_type": "markdown",
   "metadata": {},
   "source": [
    "### Ejercicio 1."
   ]
  },
  {
   "cell_type": "markdown",
   "metadata": {},
   "source": [
    "1. Crea una variable llamada **num_bridge** con un valor de 15."
   ]
  },
  {
   "cell_type": "code",
   "execution_count": 1,
   "metadata": {},
   "outputs": [],
   "source": [
    "num_bridge = 15"
   ]
  },
  {
   "cell_type": "markdown",
   "metadata": {},
   "source": [
    "2. Crea una variable llamada **nombre_calle** con el valor \"Recoletos\".\n",
    "\n"
   ]
  },
  {
   "cell_type": "code",
   "execution_count": 2,
   "metadata": {},
   "outputs": [],
   "source": [
    "nombre_calle = 'Recoletos'"
   ]
  },
  {
   "cell_type": "markdown",
   "metadata": {},
   "source": [
    "3. Crea una variable llamada **gusto_personal** que debe ser `Verdadero` si te gusta más la playa o `Falso` si prefieres la montaña."
   ]
  },
  {
   "cell_type": "code",
   "execution_count": 3,
   "metadata": {},
   "outputs": [],
   "source": [
    "gusto_personal = True"
   ]
  },
  {
   "cell_type": "markdown",
   "metadata": {},
   "source": [
    "4. Crea una variable llamada **nothing** como sigue: `nothing = None`. `None` no representa ningún valor, algo que debes tener en cuenta si haces `if nothing:` entonces `nothing` actúa como un booleano `False`."
   ]
  },
  {
   "cell_type": "code",
   "execution_count": 4,
   "metadata": {},
   "outputs": [],
   "source": [
    "nothing = None"
   ]
  },
  {
   "cell_type": "markdown",
   "metadata": {},
   "source": [
    "5. Crea una variable llamada **lista_direcciones**. Debe ser una lista que contenga lo siguiente: primer elemento **nombre_calle** y segundo elemento **número_puente**."
   ]
  },
  {
   "cell_type": "code",
   "execution_count": 5,
   "metadata": {},
   "outputs": [],
   "source": [
    "lista_direcciones = [nombre_calle, num_bridge]"
   ]
  },
  {
   "cell_type": "markdown",
   "metadata": {},
   "source": [
    "6. Crea una variable llamada **horas_dormidas** que debe contener, en forma de cadena, las horas que has dormido hoy."
   ]
  },
  {
   "cell_type": "code",
   "execution_count": 6,
   "metadata": {},
   "outputs": [],
   "source": [
    "horas_dormidas = '7'"
   ]
  },
  {
   "cell_type": "markdown",
   "metadata": {},
   "source": [
    "7. Crea una lista llamada **info_list** que contenga todas las variables que acabas de crear en el orden en que lo has hecho.\n",
    "\n",
    "```python\n",
    "len(info_list) == 6\n",
    "True\n",
    "```\n",
    "\n",
    "**IMPORTANTE: utilizarás `info_list` en algún momento de la próxima semana**."
   ]
  },
  {
   "cell_type": "code",
   "execution_count": 9,
   "metadata": {},
   "outputs": [],
   "source": [
    "info_list = [num_bridge, nombre_calle, gusto_personal, nothing, lista_direcciones, horas_dormidas]\n",
    "\n"
   ]
  },
  {
   "cell_type": "markdown",
   "metadata": {},
   "source": [
    "8. Ejecuta la siguiente celda para borrar todas las variables que acabas de crear y quédate sólo con **info_list**.\n",
    "Imprime **info_list** una vez lo hayas hecho para comprobar que la lista sigue existiendo."
   ]
  },
  {
   "cell_type": "code",
   "execution_count": 10,
   "metadata": {},
   "outputs": [],
   "source": [
    "#ejecuta esto\n",
    "del num_bridge\n",
    "del nombre_calle\n",
    "del gusto_personal\n",
    "del nothing\n",
    "del lista_direcciones\n",
    "del horas_dormidas"
   ]
  },
  {
   "cell_type": "code",
   "execution_count": 11,
   "metadata": {},
   "outputs": [
    {
     "name": "stdout",
     "output_type": "stream",
     "text": [
      "[15, 'Recoletos', True, None, ['Recoletos', 15], '7']\n"
     ]
    }
   ],
   "source": [
    "print(info_list)"
   ]
  },
  {
   "cell_type": "markdown",
   "metadata": {},
   "source": [
    "### Ejercicio 2."
   ]
  },
  {
   "cell_type": "markdown",
   "metadata": {},
   "source": [
    "Necesitarás `info_list` para continuar con este ejercicio. Recuerda no usar ninguna variable excepto `info_list`.\n",
    "\n",
    "Imprime lo siguiente. No uses funciones y/o bucles."
   ]
  },
  {
   "cell_type": "markdown",
   "metadata": {},
   "source": [
    " 1. Suma el número de El Puente y las horas que dormiste anoche."
   ]
  },
  {
   "cell_type": "code",
   "execution_count": 27,
   "metadata": {},
   "outputs": [
    {
     "name": "stdout",
     "output_type": "stream",
     "text": [
      "22\n"
     ]
    }
   ],
   "source": [
    "print(info_list[0] + int(info_list[-1]))"
   ]
  },
  {
   "cell_type": "markdown",
   "metadata": {},
   "source": [
    "2. Concatena el número de El Puente, el nombre de la calle, tus gustos personales y las horas que has dormido. Todos ellos deben ir separados por `\" --> \"`."
   ]
  },
  {
   "cell_type": "code",
   "execution_count": 25,
   "metadata": {},
   "outputs": [
    {
     "name": "stdout",
     "output_type": "stream",
     "text": [
      "15 --> Recoletos --> True --> 7\n"
     ]
    }
   ],
   "source": [
    "print(info_list[0], '-->', info_list[1], '-->', info_list[2], '-->', info_list[-1])"
   ]
  },
  {
   "cell_type": "markdown",
   "metadata": {},
   "source": [
    "3. Acceder a la lista que se encuentra en la cuarta posición de **info_list** e imprimir el resultado de:\n",
    "     - La concatenación de los dos elementos contenidos en la lista que se encuentra en la cuarta posición de **info_list**.\n",
    "     - La multiplicación de la longitud de la lista y la longitud del nombre de la calle.\n",
    "    \n",
    "   Si en la cuarta posición de **info_list** no encuentras ninguna lista, vuelve al Ejercicio 1, por favor."
   ]
  },
  {
   "cell_type": "code",
   "execution_count": 41,
   "metadata": {},
   "outputs": [
    {
     "name": "stdout",
     "output_type": "stream",
     "text": [
      "Recoletos 15\n"
     ]
    },
    {
     "data": {
      "text/plain": [
       "18"
      ]
     },
     "execution_count": 41,
     "metadata": {},
     "output_type": "execute_result"
    }
   ],
   "source": [
    "print(info_list[4][0], info_list[4][1])\n",
    "\n",
    "len(info_list[4][0]) * len(str(info_list[4][1]))\n"
   ]
  },
  {
   "cell_type": "code",
   "execution_count": 42,
   "metadata": {},
   "outputs": [
    {
     "name": "stdout",
     "output_type": "stream",
     "text": [
      "18\n"
     ]
    }
   ],
   "source": [
    "var1 = len(info_list[4][0])\n",
    "var2 = len(str(info_list[4][1]))\n",
    "\n",
    "print(var1*var2)"
   ]
  },
  {
   "cell_type": "markdown",
   "metadata": {},
   "source": [
    "### Ejercicio 3."
   ]
  },
  {
   "cell_type": "markdown",
   "metadata": {},
   "source": [
    "1. Obtenga la entrada del usuario utilizando input(\"Introduzca su edad: \"). 2. Si el usuario tiene 18 años o más, dar respuesta: Tiene edad suficiente para conducir. Si es menor de 18, se le pide que espere los años que le faltan."
   ]
  },
  {
   "cell_type": "code",
   "execution_count": 44,
   "metadata": {},
   "outputs": [
    {
     "name": "stdout",
     "output_type": "stream",
     "text": [
      "Tiene edad suficiente para conducir\n"
     ]
    }
   ],
   "source": [
    "edad = int(input('Introduzca su edad'))\n",
    "if edad >= 18:\n",
    "    print('Tiene edad suficiente para conducir')\n",
    "else:\n",
    "    print('Espere los años que le faltan')\n"
   ]
  },
  {
   "cell_type": "markdown",
   "metadata": {},
   "source": [
    "2. Compara los valores de **mi_edad** y **tu_edad** utilizando if/else. ¿Quién es mayor (tú o yo)? Utiliza input(\"Introduce tu edad: \") para obtener **tu_edad** como entrada. **Mi_edad** es siempre tu edad, porque eres tú quien codifica el programa."
   ]
  },
  {
   "cell_type": "code",
   "execution_count": 49,
   "metadata": {},
   "outputs": [
    {
     "name": "stdout",
     "output_type": "stream",
     "text": [
      "Eres mayor que yo\n"
     ]
    }
   ],
   "source": [
    "mi_edad = 28\n",
    "tu_edad = int(input('Introduzca su edad'))\n",
    "if mi_edad > tu_edad:\n",
    "    print('Soy mayor que tu')\n",
    "elif mi_edad == tu_edad:\n",
    "    print('Somos quintos!!')\n",
    "else:\n",
    "    print('Eres mayor que yo')"
   ]
  },
  {
   "cell_type": "markdown",
   "metadata": {},
   "source": [
    "3. Obtenga dos números del usuario utilizando el prompt de entrada. Si a es mayor que b devuelve \"a es mayor que b\", si a es menor que b devuelve \"a es menor que b\", si no \"a es igual a b\"."
   ]
  },
  {
   "cell_type": "code",
   "execution_count": 52,
   "metadata": {},
   "outputs": [
    {
     "name": "stdout",
     "output_type": "stream",
     "text": [
      "2.0  es mayor que  1.0\n"
     ]
    }
   ],
   "source": [
    "num_1 = float(input('Dime un numero'))\n",
    "num_2 = float(input('Dime otro numero'))\n",
    "if num_1 > num_2:\n",
    "    print(num_1, ' es mayor que ', num_2)\n",
    "elif num_1 == num_2:\n",
    "    print(num_1, ' es igual a ', num_2)\n",
    "else:\n",
    "    print(num_1, ' es menor que ', num_2)"
   ]
  },
  {
   "cell_type": "markdown",
   "metadata": {},
   "source": [
    "### Bonus track. "
   ]
  },
  {
   "cell_type": "markdown",
   "metadata": {},
   "source": [
    "Declare cuatro variables:\n",
    "- Una variable de cadena que contiene tu apellido.\n",
    "- Dos variables enteras: una, con el número de la calle en la que vives, y dos, con la edad del compañero de clase sentado a tu derecha.\n",
    "    Si estás en el extremo derecho de la mesa, busca a tu compañero de clase a tu izquierda.\n",
    "    Si estás a distancia, elige a uno de tus compañeros que también esté a distancia.\n",
    "- Una lista con las variables que acabas de declarar."
   ]
  },
  {
   "cell_type": "code",
   "execution_count": 53,
   "metadata": {},
   "outputs": [
    {
     "name": "stdout",
     "output_type": "stream",
     "text": [
      "['Taylor', 23, 31]\n"
     ]
    }
   ],
   "source": [
    "surname = 'Taylor'\n",
    "num_calle = 23\n",
    "age = 31\n",
    "lista_var = [surname, num_calle, age]\n",
    "\n",
    "print(lista_var)"
   ]
  },
  {
   "cell_type": "markdown",
   "metadata": {},
   "source": [
    "Utilizando un bucle **for** imprime cada elemento de la lista que acabas de crear.\n",
    "    \n"
   ]
  },
  {
   "cell_type": "code",
   "execution_count": 54,
   "metadata": {},
   "outputs": [
    {
     "name": "stdout",
     "output_type": "stream",
     "text": [
      "Taylor\n",
      "23\n",
      "31\n"
     ]
    }
   ],
   "source": [
    "for i in lista_var:\n",
    "    print(i)"
   ]
  },
  {
   "cell_type": "markdown",
   "metadata": {},
   "source": [
    "Utilizando un **bucle for** y un **if** asegúrate de que sólo imprimes el elemento de la lista que es una cadena\n",
    "(Tu apellido)."
   ]
  },
  {
   "cell_type": "code",
   "execution_count": 66,
   "metadata": {},
   "outputs": [
    {
     "name": "stdout",
     "output_type": "stream",
     "text": [
      "Taylor\n"
     ]
    }
   ],
   "source": [
    "for i in lista_var:\n",
    "    if isinstance(i, str):\n",
    "        print(i)\n",
    "    "
   ]
  },
  {
   "cell_type": "markdown",
   "metadata": {},
   "source": [
    "**Well done!**"
   ]
  },
  {
   "cell_type": "markdown",
   "metadata": {},
   "source": [
    "### Bonus track of the bonus track.\n",
    "\n",
    "La siguiente lista contiene algunas frutas:\n",
    "    \n",
    "`fruits = ['banana', 'orange', 'mango', 'lemon']`\n",
    "\n",
    "Si una fruta no existe en la lista añade la fruta a la lista e imprime la lista modificada. Si la fruta existe print('Esa fruta ya existe en la lista')"
   ]
  },
  {
   "cell_type": "code",
   "execution_count": null,
   "metadata": {},
   "outputs": [],
   "source": []
  },
  {
   "cell_type": "markdown",
   "metadata": {},
   "source": [
    "![\"hola\"](https://preview.redd.it/wk843smkri441.jpg?width=960&crop=smart&auto=webp&s=1a4d7a5ddeef38c03334d275afe3a9dd33866ce8)"
   ]
  },
  {
   "cell_type": "code",
   "execution_count": null,
   "metadata": {},
   "outputs": [],
   "source": []
  }
 ],
 "metadata": {
  "kernelspec": {
   "display_name": "Python 3",
   "language": "python",
   "name": "python3"
  },
  "language_info": {
   "codemirror_mode": {
    "name": "ipython",
    "version": 3
   },
   "file_extension": ".py",
   "mimetype": "text/x-python",
   "name": "python",
   "nbconvert_exporter": "python",
   "pygments_lexer": "ipython3",
   "version": "3.11.5"
  }
 },
 "nbformat": 4,
 "nbformat_minor": 4
}
