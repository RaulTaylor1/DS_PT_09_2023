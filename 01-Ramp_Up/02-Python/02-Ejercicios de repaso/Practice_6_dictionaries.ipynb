{
 "cells": [
  {
   "cell_type": "markdown",
   "metadata": {},
   "source": [
    "# Python | day 6 | dictionaries"
   ]
  },
  {
   "cell_type": "markdown",
   "metadata": {},
   "source": [
    "Los diccionarios se utilizan para almacenar valores de datos en pares clave:valor.\n",
    "\n",
    "Un diccionario es una colección desordenada, modificable y que no admite claves duplicadas.\n",
    "\n",
    "Los diccionarios se escriben entre llaves y tienen claves y valores:"
   ]
  },
  {
   "cell_type": "markdown",
   "metadata": {},
   "source": [
    "```python\n",
    "thisdict = {\n",
    "  \"brand\": \"Ford\",\n",
    "  \"model\": \"Mustang\",\n",
    "  \"year\": 1964\n",
    "}\n",
    "```"
   ]
  },
  {
   "cell_type": "markdown",
   "metadata": {},
   "source": [
    "### Ejercicio 1.\n",
    "\n",
    "1. Crea un diccionario con un entero 5 como clave y \"val\" como valor."
   ]
  },
  {
   "cell_type": "code",
   "execution_count": 2,
   "metadata": {},
   "outputs": [],
   "source": [
    "thisdict = {5: 'val'}"
   ]
  },
  {
   "cell_type": "markdown",
   "metadata": {},
   "source": [
    "2. Crea dos listas: una con 4 nombres de ciudades y otra con 4 lugares emblemáticos de la ciudad."
   ]
  },
  {
   "cell_type": "code",
   "execution_count": 3,
   "metadata": {},
   "outputs": [],
   "source": [
    "ciudades = ['Madrid', 'Londres', 'Tokio', 'Pisa']\n",
    "sitios = ['Torre Madrid', 'Buckingham Palace', 'Shibuya', 'Torre Inclinada']"
   ]
  },
  {
   "cell_type": "markdown",
   "metadata": {},
   "source": [
    "3. Crear un diccionario en el que las ciudades contenidas en la primera lista sean las **claves** y los puntos de referencia sean los **valores**.\n",
    "```python\n",
    "#example\n",
    "places = {\"Malaga\": \"Gibralfaro\", \n",
    "         \"Madrid\": \"Templo de Debod\",\n",
    "         \"Granada\": \"La Alcazaba\",\n",
    "         \"Barcelona\": \"Sagrada Familia\"}\n",
    "```"
   ]
  },
  {
   "cell_type": "code",
   "execution_count": 5,
   "metadata": {},
   "outputs": [
    {
     "name": "stdout",
     "output_type": "stream",
     "text": [
      "{'Madrid': 'Torre Madrid', 'Londres': 'Buckingham Palace', 'Tokio': 'Shibuya', 'Pisa': 'Torre Inclinada'}\n"
     ]
    }
   ],
   "source": [
    "places = dict(zip(ciudades, sitios))\n",
    "\n",
    "print(places)"
   ]
  },
  {
   "cell_type": "markdown",
   "metadata": {},
   "source": [
    "4. Recorre el diccionario e imprime sólo los valores de las claves que empiecen por la letra **M**."
   ]
  },
  {
   "cell_type": "code",
   "execution_count": 25,
   "metadata": {},
   "outputs": [
    {
     "name": "stdout",
     "output_type": "stream",
     "text": [
      "Torre Madrid\n"
     ]
    }
   ],
   "source": [
    "letra_inicial = 'M'\n",
    "for clave, valor in places.items():\n",
    "    if clave.startswith(letra_inicial):\n",
    "        print(valor)"
   ]
  },
  {
   "cell_type": "markdown",
   "metadata": {},
   "source": [
    "5. Crea una función que reciba como parámetros dos listas `lista1` y `lista2` y devuelva un diccionario con cada elemento de `lista1` como claves y los elementos de `lista2` como valores. Llama a la función con las listas que has creado antes para que devuelva el mismo diccionario que has creado en la pregunta 3."
   ]
  },
  {
   "cell_type": "code",
   "execution_count": 29,
   "metadata": {},
   "outputs": [],
   "source": [
    "esta = ['hola', 'adios']\n",
    "este =['amigo', 'enemigo']"
   ]
  },
  {
   "cell_type": "code",
   "execution_count": 30,
   "metadata": {},
   "outputs": [],
   "source": [
    "def juntador(a, b):\n",
    "    dictio = dict(zip(a, b))\n",
    "    print(dictio)"
   ]
  },
  {
   "cell_type": "code",
   "execution_count": 32,
   "metadata": {},
   "outputs": [
    {
     "name": "stdout",
     "output_type": "stream",
     "text": [
      "{'Madrid': 'Torre Madrid', 'Londres': 'Buckingham Palace', 'Tokio': 'Shibuya', 'Pisa': 'Torre Inclinada'}\n"
     ]
    }
   ],
   "source": [
    "juntador(ciudades, sitios)"
   ]
  },
  {
   "cell_type": "markdown",
   "metadata": {},
   "source": [
    "### Ejercicio 2."
   ]
  },
  {
   "cell_type": "markdown",
   "metadata": {},
   "source": [
    "1. Crea un diccionario vacío llamado perro."
   ]
  },
  {
   "cell_type": "code",
   "execution_count": 33,
   "metadata": {},
   "outputs": [],
   "source": [
    "perro = {}"
   ]
  },
  {
   "cell_type": "markdown",
   "metadata": {},
   "source": [
    "2. Añade nombre, color, raza, patas, edad al diccionario canino."
   ]
  },
  {
   "cell_type": "code",
   "execution_count": 36,
   "metadata": {},
   "outputs": [],
   "source": [
    "perro['Nombre'] = 'Rafael'\n",
    "perro['Color'] = 'Blanco'\n",
    "perro['Patas'] = 5\n",
    "perro['Edad'] = 2\n"
   ]
  },
  {
   "cell_type": "markdown",
   "metadata": {},
   "source": [
    "3. Cree un diccionario de alumnos y añada nombre_apellido, edad, habilidades, país, ciudad y dirección como claves del diccionario.\n"
   ]
  },
  {
   "cell_type": "code",
   "execution_count": 53,
   "metadata": {},
   "outputs": [],
   "source": [
    "alumnos = {\n",
    "    'Nombre_apellido': 'Mordecai Alfil',\n",
    "    'Edad': 24,\n",
    "    'Habilidades': ['Futbol', 'Ajedrez', 'Python'],\n",
    "    'Pais': 'Moldavia',\n",
    "    'Ciudad': 'Alguna',\n",
    "    'Direccion': 'Calle Angosta, 14'\n",
    "}"
   ]
  },
  {
   "cell_type": "markdown",
   "metadata": {},
   "source": [
    "4. Obtenga la longitud del diccionario del alumno.\n"
   ]
  },
  {
   "cell_type": "code",
   "execution_count": 54,
   "metadata": {},
   "outputs": [
    {
     "name": "stdout",
     "output_type": "stream",
     "text": [
      "{'Nombre_apellido': 'Mordecai Alfil', 'Edad': 24, 'Habilidades': ['Futbol', 'Ajedrez', 'Python'], 'Pais': 'Moldavia', 'Ciudad': 'Alguna', 'Direccion': 'Calle Angosta, 14'}\n",
      "6\n"
     ]
    }
   ],
   "source": [
    "print(alumnos)\n",
    "\n",
    "print(len(alumnos))"
   ]
  },
  {
   "cell_type": "markdown",
   "metadata": {},
   "source": [
    "5. Obtén el valor de skills y comprueba el tipo de datos, debe ser una lista."
   ]
  },
  {
   "cell_type": "code",
   "execution_count": 68,
   "metadata": {},
   "outputs": [
    {
     "name": "stdout",
     "output_type": "stream",
     "text": [
      "['Futbol', 'Ajedrez', 'Python', 'Mates', 'Guitarra']\n"
     ]
    },
    {
     "data": {
      "text/plain": [
       "list"
      ]
     },
     "execution_count": 68,
     "metadata": {},
     "output_type": "execute_result"
    }
   ],
   "source": [
    "print(alumnos['Habilidades'])\n",
    "type(alumnos['Habilidades'])"
   ]
  },
  {
   "cell_type": "markdown",
   "metadata": {},
   "source": [
    "6. Modifica los valores de las habilidades añadiendo una o dos habilidades."
   ]
  },
  {
   "cell_type": "code",
   "execution_count": 67,
   "metadata": {},
   "outputs": [
    {
     "name": "stdout",
     "output_type": "stream",
     "text": [
      "['Futbol', 'Ajedrez', 'Python', 'Mates', 'Guitarra']\n"
     ]
    }
   ],
   "source": [
    "#alumnos['Habilidades'].append('Guitarra')\n",
    "\n",
    "print(alumnos['Habilidades'])"
   ]
  },
  {
   "cell_type": "markdown",
   "metadata": {},
   "source": [
    "7. Obtener las claves del diccionario como una lista."
   ]
  },
  {
   "cell_type": "code",
   "execution_count": 69,
   "metadata": {},
   "outputs": [
    {
     "name": "stdout",
     "output_type": "stream",
     "text": [
      "['Nombre_apellido', 'Edad', 'Habilidades', 'Pais', 'Ciudad', 'Direccion']\n"
     ]
    }
   ],
   "source": [
    "print(list(alumnos.keys()))"
   ]
  },
  {
   "cell_type": "markdown",
   "metadata": {},
   "source": [
    "8. Obtener los valores del diccionario como una lista.\n"
   ]
  },
  {
   "cell_type": "code",
   "execution_count": 71,
   "metadata": {},
   "outputs": [
    {
     "name": "stdout",
     "output_type": "stream",
     "text": [
      "['Mordecai Alfil', 24, ['Futbol', 'Ajedrez', 'Python', 'Mates', 'Guitarra'], 'Moldavia', 'Alguna', 'Calle Angosta, 14']\n"
     ]
    }
   ],
   "source": [
    "print(list(alumnos.values()))"
   ]
  },
  {
   "cell_type": "markdown",
   "metadata": {},
   "source": [
    "9. Cambiar el diccionario a una lista de tuplas utilizando el método `items()`."
   ]
  },
  {
   "cell_type": "code",
   "execution_count": 73,
   "metadata": {},
   "outputs": [
    {
     "name": "stdout",
     "output_type": "stream",
     "text": [
      "[('Nombre_apellido', 'Mordecai Alfil'), ('Edad', 24), ('Habilidades', ['Futbol', 'Ajedrez', 'Python', 'Mates', 'Guitarra']), ('Pais', 'Moldavia'), ('Ciudad', 'Alguna'), ('Direccion', 'Calle Angosta, 14')]\n"
     ]
    }
   ],
   "source": [
    "print(list(tuple(alumnos.items())))"
   ]
  },
  {
   "cell_type": "markdown",
   "metadata": {},
   "source": [
    "10. Elimine uno de los elementos del diccionario.\n"
   ]
  },
  {
   "cell_type": "code",
   "execution_count": 74,
   "metadata": {},
   "outputs": [
    {
     "name": "stdout",
     "output_type": "stream",
     "text": [
      "{'Nombre_apellido': 'Mordecai Alfil', 'Edad': 24, 'Habilidades': ['Futbol', 'Ajedrez', 'Python', 'Mates', 'Guitarra'], 'Pais': 'Moldavia', 'Direccion': 'Calle Angosta, 14'}\n"
     ]
    }
   ],
   "source": [
    "del alumnos['Ciudad']\n",
    "\n",
    "print(alumnos)"
   ]
  },
  {
   "cell_type": "markdown",
   "metadata": {},
   "source": [
    "### Bonus Track"
   ]
  },
  {
   "cell_type": "markdown",
   "metadata": {},
   "source": [
    "**Tómate una cervecita o un zumito a tu salud.**"
   ]
  },
  {
   "cell_type": "markdown",
   "metadata": {},
   "source": [
    "!['daughter'](https://i.pinimg.com/originals/8f/35/28/8f35281e742e71be09697e7e6789b819.png)"
   ]
  },
  {
   "cell_type": "code",
   "execution_count": null,
   "metadata": {},
   "outputs": [],
   "source": []
  }
 ],
 "metadata": {
  "kernelspec": {
   "display_name": "Python 3",
   "language": "python",
   "name": "python3"
  },
  "language_info": {
   "codemirror_mode": {
    "name": "ipython",
    "version": 3
   },
   "file_extension": ".py",
   "mimetype": "text/x-python",
   "name": "python",
   "nbconvert_exporter": "python",
   "pygments_lexer": "ipython3",
   "version": "3.11.5"
  }
 },
 "nbformat": 4,
 "nbformat_minor": 2
}
