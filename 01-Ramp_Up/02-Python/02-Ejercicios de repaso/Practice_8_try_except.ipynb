{
 "cells": [
  {
   "cell_type": "markdown",
   "metadata": {},
   "source": [
    "# Python | day 8 | try&except"
   ]
  },
  {
   "cell_type": "markdown",
   "metadata": {},
   "source": [
    "Python utiliza try y except para manejar los errores con gracia. Una salida graceful (o manejo graceful) de errores es un simple modismo de programación - un programa detecta una condición de error grave y \"sale gracefully\", de una manera controlada como resultado. A menudo el programa imprime un mensaje de error descriptivo en un terminal o registro como parte de la salida graceful, esto hace que nuestra aplicación sea más robusta. La causa de una excepción es a menudo externa al propio programa. Un ejemplo de excepciones podría ser una entrada incorrecta, un nombre de fichero erróneo, la imposibilidad de encontrar un fichero, un mal funcionamiento del dispositivo IO. El manejo adecuado de los errores evita que nuestras aplicaciones se bloqueen."
   ]
  },
  {
   "cell_type": "markdown",
   "metadata": {},
   "source": [
    "```python\n",
    "try:\n",
    "    code in this block if things go well\n",
    "except:\n",
    "    code in this block run if things go wrong\n",
    "```"
   ]
  },
  {
   "cell_type": "markdown",
   "metadata": {},
   "source": [
    "### Ejercicio 1.\n"
   ]
  },
  {
   "cell_type": "markdown",
   "metadata": {},
   "source": [
    "1. En las 4 celdas de abajo, modifica el código para atrapar el error e imprimir un mensaje significativo que alerte al usuario de lo que salió mal. Puede capturar el error utilizando una excepción general o una excepción específica para el error causado por el código."
   ]
  },
  {
   "cell_type": "code",
   "execution_count": 4,
   "metadata": {},
   "outputs": [
    {
     "name": "stdout",
     "output_type": "stream",
     "text": [
      "Variable no definida\n"
     ]
    }
   ],
   "source": [
    "# Modifica el código de abajo:\n",
    "\n",
    "try:\n",
    "    print(some_string)\n",
    "except NameError:\n",
    "    print('Variable no definida')"
   ]
  },
  {
   "cell_type": "code",
   "execution_count": 5,
   "metadata": {},
   "outputs": [
    {
     "name": "stdout",
     "output_type": "stream",
     "text": [
      "No posible\n",
      "No posible\n",
      "No posible\n"
     ]
    }
   ],
   "source": [
    "# Modifica el código de abajo:\n",
    "\n",
    "for i in ['a','b','c']:\n",
    "    try:\n",
    "        print (i**2)\n",
    "    except:\n",
    "        print('No posible')"
   ]
  },
  {
   "cell_type": "code",
   "execution_count": 14,
   "metadata": {},
   "outputs": [
    {
     "name": "stdout",
     "output_type": "stream",
     "text": [
      "No se puede dividir por cero\n"
     ]
    }
   ],
   "source": [
    "# Modifica el código de abajo:\n",
    "\n",
    "x = 5\n",
    "y = 0\n",
    "\n",
    "try:\n",
    "    z = x/y\n",
    "    print(z)\n",
    "except:\n",
    "    print('No se puede dividir por cero')"
   ]
  },
  {
   "cell_type": "code",
   "execution_count": 22,
   "metadata": {},
   "outputs": [
    {
     "name": "stdout",
     "output_type": "stream",
     "text": [
      "Out of range\n"
     ]
    }
   ],
   "source": [
    "# Modifica el código de abajo:\n",
    "\n",
    "abc=[10,20,20]\n",
    "\n",
    "try:\n",
    "    print(abc[3])\n",
    "except:\n",
    "    print('Out of range')"
   ]
  },
  {
   "cell_type": "markdown",
   "metadata": {},
   "source": [
    "### Ejercicio 2."
   ]
  },
  {
   "cell_type": "markdown",
   "metadata": {},
   "source": [
    "En las 3 celdas de abajo, agrega una declaración if que maneje ambos tipos de entrada permitidos en las funciones."
   ]
  },
  {
   "cell_type": "code",
   "execution_count": null,
   "metadata": {},
   "outputs": [],
   "source": [
    " # Esta función tomará cualquier número real y devolverá la raíz cuadrada de su magnitud\n",
    "    # Input: real number\n",
    "    # Output: real number\n",
    "    \n",
    "    # Sample Input: -4\n",
    "    # Sample Output: 2.0"
   ]
  },
  {
   "cell_type": "code",
   "execution_count": 40,
   "metadata": {},
   "outputs": [
    {
     "data": {
      "text/plain": [
       "2.23606797749979"
      ]
     },
     "execution_count": 40,
     "metadata": {},
     "output_type": "execute_result"
    }
   ],
   "source": [
    "import math # importar una biblioteca llamada math con funciones, como sqrt()\n",
    "# Modifica el código de abajo para manejar números positivos y negativos añadiendo una sentencia if y realizando una transformación:\n",
    "\n",
    "def sqrt_for_all(x):\n",
    "   \n",
    "    if x < 0:\n",
    "        x = x*-1\n",
    "        print('Solo numeros positivos')\n",
    "\n",
    "    return math.sqrt(x)\n",
    "\n",
    "    \n",
    "\n",
    "sqrt_for_all(5)"
   ]
  },
  {
   "cell_type": "code",
   "execution_count": null,
   "metadata": {},
   "outputs": [],
   "source": [
    "# Esta función tomará dos números reales cualesquiera y devolverá su cociente. Si el denominador es cero, devolvemos cero\n",
    "    # Input: real number\n",
    "    # Output: real number\n",
    "    \n",
    "    # Sample Input: 5, 1\n",
    "    # Sample Output: 5.0"
   ]
  },
  {
   "cell_type": "code",
   "execution_count": 61,
   "metadata": {},
   "outputs": [
    {
     "data": {
      "text/plain": [
       "0.0"
      ]
     },
     "execution_count": 61,
     "metadata": {},
     "output_type": "execute_result"
    }
   ],
   "source": [
    "# Modificar el código de abajo para manejar cero también. En el caso de cero, devolver cero\n",
    "\n",
    "def divide(x, y):\n",
    "\n",
    "    if y == 0:\n",
    "        print(0)\n",
    "    else:\n",
    "        return x / y\n",
    "\n",
    "divide(0, 5)"
   ]
  },
  {
   "cell_type": "code",
   "execution_count": 77,
   "metadata": {},
   "outputs": [
    {
     "ename": "TypeError",
     "evalue": "'int' object is not iterable",
     "output_type": "error",
     "traceback": [
      "\u001b[1;31m---------------------------------------------------------------------------\u001b[0m",
      "\u001b[1;31mTypeError\u001b[0m                                 Traceback (most recent call last)",
      "\u001b[1;32mc:\\Users\\taylo\\Documents\\GitHub\\DS_PT_09_2023\\01-Ramp_Up\\02-Python\\02-Ejercicios de repaso\\Practice_8_try_except.ipynb Cell 16\u001b[0m line \u001b[0;36m2\n\u001b[0;32m     <a href='vscode-notebook-cell:/c%3A/Users/taylo/Documents/GitHub/DS_PT_09_2023/01-Ramp_Up/02-Python/02-Ejercicios%20de%20repaso/Practice_8_try_except.ipynb#X16sZmlsZQ%3D%3D?line=17'>18</a>\u001b[0m     \u001b[39melse\u001b[39;00m:\n\u001b[0;32m     <a href='vscode-notebook-cell:/c%3A/Users/taylo/Documents/GitHub/DS_PT_09_2023/01-Ramp_Up/02-Python/02-Ejercicios%20de%20repaso/Practice_8_try_except.ipynb#X16sZmlsZQ%3D%3D?line=18'>19</a>\u001b[0m         \u001b[39mreturn\u001b[39;00m \u001b[39mlist\u001b[39m(a \u001b[39m+\u001b[39m l) \n\u001b[1;32m---> <a href='vscode-notebook-cell:/c%3A/Users/taylo/Documents/GitHub/DS_PT_09_2023/01-Ramp_Up/02-Python/02-Ejercicios%20de%20repaso/Practice_8_try_except.ipynb#X16sZmlsZQ%3D%3D?line=21'>22</a>\u001b[0m add_elements(\u001b[39m5\u001b[39;49m, \u001b[39m9\u001b[39;49m)\n",
      "\u001b[1;32mc:\\Users\\taylo\\Documents\\GitHub\\DS_PT_09_2023\\01-Ramp_Up\\02-Python\\02-Ejercicios de repaso\\Practice_8_try_except.ipynb Cell 16\u001b[0m line \u001b[0;36m1\n\u001b[0;32m     <a href='vscode-notebook-cell:/c%3A/Users/taylo/Documents/GitHub/DS_PT_09_2023/01-Ramp_Up/02-Python/02-Ejercicios%20de%20repaso/Practice_8_try_except.ipynb#X16sZmlsZQ%3D%3D?line=15'>16</a>\u001b[0m     \u001b[39mreturn\u001b[39;00m [a \u001b[39m+\u001b[39m element \u001b[39mfor\u001b[39;00m element \u001b[39min\u001b[39;00m l]\n\u001b[0;32m     <a href='vscode-notebook-cell:/c%3A/Users/taylo/Documents/GitHub/DS_PT_09_2023/01-Ramp_Up/02-Python/02-Ejercicios%20de%20repaso/Practice_8_try_except.ipynb#X16sZmlsZQ%3D%3D?line=17'>18</a>\u001b[0m \u001b[39melse\u001b[39;00m:\n\u001b[1;32m---> <a href='vscode-notebook-cell:/c%3A/Users/taylo/Documents/GitHub/DS_PT_09_2023/01-Ramp_Up/02-Python/02-Ejercicios%20de%20repaso/Practice_8_try_except.ipynb#X16sZmlsZQ%3D%3D?line=18'>19</a>\u001b[0m     \u001b[39mreturn\u001b[39;00m \u001b[39mlist\u001b[39;49m(a \u001b[39m+\u001b[39;49m l)\n",
      "\u001b[1;31mTypeError\u001b[0m: 'int' object is not iterable"
     ]
    }
   ],
   "source": [
    "# Modifica la función de abajo para que tome un número y una lista o dos números.\n",
    "# Si tomamos dos números, los suma y devuelve una lista de longitud 1.\n",
    "# En caso contrario, suma el número a cada elemento de la lista y devuelve la lista resultante.\n",
    "\n",
    "# Esta función toma dos números o una lista y un número y suma el número a todos los elementos de la lista\n",
    "    # Si la función sólo toma dos números, devuelve una lista de longitud uno que es la suma de los números\n",
    "    \n",
    "    # Input: number and list or two numbers\n",
    "    # Output: list\n",
    "    \n",
    "    # Sample Input: 5, 6\n",
    "    # Sample Output: [11]\n",
    "def add_elements(a, l):\n",
    "    \n",
    "    if l == list:\n",
    "        return [a + element for element in l]\n",
    "        \n",
    "    else:\n",
    "        return list(a + l) \n",
    "\n",
    "\n",
    "add_elements(5, 9)"
   ]
  },
  {
   "cell_type": "markdown",
   "metadata": {},
   "source": [
    "### Ejercicio 3.\n",
    "\n",
    "Escribe una función que pida un entero e imprima el cuadrado del mismo. Sigue comprobando mientras la función obtiene un entero.\n",
    "\n",
    "Usa un bucle `while` con un bloque `try/except` para tener en cuenta entradas incorrectas."
   ]
  },
  {
   "cell_type": "code",
   "execution_count": 97,
   "metadata": {},
   "outputs": [],
   "source": [
    "def cuadrador(a):\n",
    "    while a:\n",
    "        try:    \n",
    "            return a**2\n",
    "        except:\n",
    "            print('solo numeros')\n",
    "        break"
   ]
  },
  {
   "cell_type": "code",
   "execution_count": 104,
   "metadata": {},
   "outputs": [
    {
     "name": "stdout",
     "output_type": "stream",
     "text": [
      "solo numeros\n"
     ]
    }
   ],
   "source": [
    "cuadrador('Hello')"
   ]
  },
  {
   "cell_type": "code",
   "execution_count": null,
   "metadata": {},
   "outputs": [],
   "source": []
  },
  {
   "cell_type": "markdown",
   "metadata": {},
   "source": [
    "### Bonus track.\n",
    "1. Haz un programa usando `while` que genere una **mazo de cartas** de 4 palos diferentes. La baraja debe tener 40 cartas.\n",
    "\n",
    "   Desarrolla el programa en un fichero `.py` que se ejecutará a través del terminal.\n",
    " \n",
    "   Desde la carpeta que contiene el `.py` correspondiente, se ejecutará con el siguiente comando:` python3 nombre_del_programa.py`\n",
    "   A veces debería funcionar con `python nombre_del_programa.py`."
   ]
  },
  {
   "cell_type": "markdown",
   "metadata": {},
   "source": [
    "![\"lol\"](https://i.pinimg.com/originals/34/b2/ad/34b2ad1c370539fba5ed9422711cad7b.png)"
   ]
  },
  {
   "cell_type": "code",
   "execution_count": null,
   "metadata": {},
   "outputs": [],
   "source": []
  }
 ],
 "metadata": {
  "kernelspec": {
   "display_name": "Python 3",
   "language": "python",
   "name": "python3"
  },
  "language_info": {
   "codemirror_mode": {
    "name": "ipython",
    "version": 3
   },
   "file_extension": ".py",
   "mimetype": "text/x-python",
   "name": "python",
   "nbconvert_exporter": "python",
   "pygments_lexer": "ipython3",
   "version": "3.11.5"
  }
 },
 "nbformat": 4,
 "nbformat_minor": 4
}
