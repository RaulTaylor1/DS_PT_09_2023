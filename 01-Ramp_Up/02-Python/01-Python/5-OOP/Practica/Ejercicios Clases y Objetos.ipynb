{
 "cells": [
  {
   "cell_type": "markdown",
   "metadata": {},
   "source": [
    "![imagen](./img/ejercicios.png)\n",
    "\n",
    "# Ejercicios Clases y Objetos"
   ]
  },
  {
   "cell_type": "markdown",
   "metadata": {},
   "source": [
    "## Ejercicio 1\n",
    "Somos una empresa que tiene varias tiendas de electrodomesticos. Necesitamos un programa para manejar las tiendas, ver las ventas que han tenido, cuántos empleados hay, etc... Para ello vamos a modelizar la tienda en una clase, que tendrá las siguientes características:\n",
    "* Nombre clase: \"Tienda\"\n",
    "* Atributos comunes:\n",
    "    * Tipo: \"Electrodomésticos\"\n",
    "    * Abierta: True\n",
    "* Atributos propios de cada tienda:\n",
    "    * Nombre - String\n",
    "    * Dirección - String\n",
    "    * Número de empleados - int\n",
    "    * Ventas ultimos 3 meses - Lista de 3 numeros\n",
    "* Método para calcular las ventas de todos los meses, que devuelva un numero con todas las ventas.\n",
    "* Método que calcula la media de ventas de los ultimos meses, por empleado\n",
    "* Método que devuelve en un string el nombre de la tienda, junto con su dirección.\n",
    "* Método que obtiene las ventas del último mes.\n",
    "* Método para dar una proyección de las ventas en caso de haber invertido X dinero en marketing en esa tienda. Siendo X el parámetro de entrada. Si X es menor de 1000, las ventas de los ultimos 3 meses hubiesen sido de (1.2 x ventas), si es mayor o igual de 1000, las ventas hubiesen sido de (1.5 x venta). El método reescribe el atributo de ventas en los últimos 3 meses, y además devuelve las ventas con el aumento.\n",
    "\n",
    "Se pide:\n",
    "1. Implementar la clase \"Tienda\"\n",
    "2. Crear tres tiendas con datos inventados\n",
    "3. Comprueba en al menos una de ellas, todo lo implementado en la clase tienda (sus atributos, media de ventas, ventas/empleado...)\n",
    "3. Calcular las ventas del último mes de todas las tiendas. Para ello usa el bucle `for`\n",
    "4. Imprime por pantalla los nombres de las tiendas cuya dirección lleve el string \"Avenida\"\n",
    "5. Seguro que ya has hecho este apartado... Documenta la clase :)"
   ]
  },
  {
   "cell_type": "code",
   "execution_count": 19,
   "metadata": {},
   "outputs": [],
   "source": [
    "class Tienda:\n",
    "\n",
    "    '''\n",
    "    Se define clase Tienda y se le dan \n",
    "    los atributos comunes a todas, articulos y abierta = True.\n",
    "    '''\n",
    "\n",
    "    articulos = 'Electrodomésticos'\n",
    "    open = True\n",
    "\n",
    "    #Se define el constructor con los atributos propios de cada tienda.\n",
    "\n",
    "    def __init__(self, nombre, direccion, num_empl, ventas_enero, ventas_febrero, ventas_marzo,):\n",
    "\n",
    "        ''' \n",
    "        Cada tienda tiene estos atributos propios:\n",
    "        nombre, dirección, numero de empleados y \n",
    "        las ventas de los tres ultimos meses,\n",
    "        que componen una lista en ventas.   \n",
    "        '''\n",
    "\n",
    "        self.nombre = nombre\n",
    "        self.direccion = direccion\n",
    "        self.num_empl = num_empl\n",
    "        self.ventas = [ventas_enero, ventas_febrero, ventas_marzo]\n",
    "\n",
    "    def acum_ventas(self):\n",
    "        return sum(self.ventas)\n",
    "    \n",
    "        '''\n",
    "        Acumulador de ventas. Retorna la suma \n",
    "        de las ventas de los ultimos tres meses\n",
    "        '''\n",
    "\n",
    "    def venta_media_empl(self):\n",
    "        return 'La venta media de los ' + str(self.num_empl) + ' empleados ha sido de ' + str(sum(self.ventas) / self.num_empl) + ' cada uno.'\n",
    "    \n",
    "        '''\n",
    "        Calcula la media de ventas por cada empleado. Suma todas las ventas del trimentre y \n",
    "        las divide entre los empleados.\n",
    "        '''\n",
    "\n",
    "    def nombre_tienda(self):\n",
    "        return 'Esta tienda se llama ' + self.nombre + ' y está en ' + self.direccion\n",
    "    \n",
    "        '''\n",
    "        Devuelve un str + el nombre de la tienda\n",
    "        '''\n",
    "    \n",
    "    def venta_ultimo_mes(self):\n",
    "        return self.ventas[-1]\n",
    "    \n",
    "    def venta_primer_mes(self):\n",
    "        return self.ventas[-3]\n",
    "    \n",
    "    def proyeccion_mtk(self, x):\n",
    "        if x < 1000:\n",
    "            return sum(self.ventas), sum(self.ventas) * 1.2\n",
    "        else:\n",
    "            return sum(self.ventas) * 1.5\n",
    "        \n",
    "    '''\n",
    "    Realiza una proyeccion de las ventas imputando una x de inversión en marketing.\n",
    "    Si la inversión fuera menor a 1000€ la venta incrementaría en un 20%\n",
    "    Si fuera superior, incrementaría en 50%\n",
    "    Realiza el sumatorio de ventas del trimentre y lo miltiplica por 1.2 y 1.5.\n",
    "    '''\n",
    "\n",
    "\n",
    "        "
   ]
  },
  {
   "cell_type": "code",
   "execution_count": 20,
   "metadata": {},
   "outputs": [],
   "source": [
    "tienda_A = Tienda('Tienda A', 'Calle Leganitos, 12', 8, 15000, 12000, 8000)\n",
    "\n",
    "tienda_B = Tienda('Tienda B', 'Avenida de la Ilustracion, 133', 4, 11000, 6000, 6000)\n",
    "\n",
    "tienda_C = Tienda('Tienda C', 'Calle Gran Via, 15', 20, 20000, 24500, 19000)"
   ]
  },
  {
   "cell_type": "code",
   "execution_count": 21,
   "metadata": {},
   "outputs": [
    {
     "name": "stdout",
     "output_type": "stream",
     "text": [
      "Electrodomésticos\n",
      "True\n",
      "Tienda A\n",
      "Calle Leganitos, 12\n",
      "8\n",
      "[15000, 12000, 8000]\n",
      "35000\n",
      "La venta media de los 8 empleados ha sido de 4375.0 cada uno.\n",
      "Esta tienda se llama Tienda A y está en Calle Leganitos, 12\n",
      "8000\n",
      "(35000, 42000.0)\n",
      "15000\n"
     ]
    }
   ],
   "source": [
    "print(tienda_A.articulos)\n",
    "print(tienda_A.open)\n",
    "print(tienda_A.nombre)\n",
    "print(tienda_A.direccion)\n",
    "print(tienda_A.num_empl)\n",
    "print(tienda_A.ventas)\n",
    "print(tienda_A.acum_ventas())\n",
    "print(tienda_A.venta_media_empl())\n",
    "print(tienda_A.nombre_tienda())\n",
    "print(tienda_A.venta_ultimo_mes())\n",
    "print(tienda_A.proyeccion_mtk(900))\n",
    "print(tienda_A.venta_primer_mes())"
   ]
  },
  {
   "cell_type": "code",
   "execution_count": 7,
   "metadata": {},
   "outputs": [
    {
     "name": "stdout",
     "output_type": "stream",
     "text": [
      "4\n",
      "[11000, 6000, 6000]\n",
      "23000\n",
      "La venta media de los 4 empleados ha sido de 5750.0 cada uno.\n",
      "Esta tienda se llama Tienda B y está en Avenida de la Ilustracion, 133\n",
      "6000\n",
      "(23000, 27600.0)\n",
      "11000\n"
     ]
    }
   ],
   "source": [
    "print(tienda_B.num_empl)\n",
    "print(tienda_B.ventas)\n",
    "print(tienda_B.acum_ventas())\n",
    "print(tienda_B.venta_media_empl())\n",
    "print(tienda_B.nombre_tienda())\n",
    "print(tienda_B.venta_ultimo_mes())\n",
    "print(tienda_B.proyeccion_mtk(900))\n",
    "print(tienda_B.venta_primer_mes())"
   ]
  },
  {
   "cell_type": "code",
   "execution_count": 8,
   "metadata": {},
   "outputs": [
    {
     "name": "stdout",
     "output_type": "stream",
     "text": [
      "20\n",
      "[20000, 24500, 19000]\n",
      "63500\n",
      "La venta media de los 20 empleados ha sido de 3175.0 cada uno.\n",
      "Esta tienda se llama Tienda C y está en Calle Gran Via, 15\n",
      "19000\n",
      "(63500, 76200.0)\n",
      "20000\n"
     ]
    }
   ],
   "source": [
    "print(tienda_C.num_empl)\n",
    "print(tienda_C.ventas)\n",
    "print(tienda_C.acum_ventas())\n",
    "print(tienda_C.venta_media_empl())\n",
    "print(tienda_C.nombre_tienda())\n",
    "print(tienda_C.venta_ultimo_mes())\n",
    "print(tienda_C.proyeccion_mtk(900))\n",
    "print(tienda_C.venta_primer_mes())"
   ]
  },
  {
   "cell_type": "code",
   "execution_count": 13,
   "metadata": {},
   "outputs": [],
   "source": [
    "def total_ultimas_ventas():\n",
    "    \n",
    "    acumulado_ventas = []\n",
    "\n",
    "    for acumulado_ventas in tienda_A.venta_ultimo_mes, tienda_B.venta_ultimo_mes, tienda_C.venta_ultimo_mes:\n",
    "        acumulado_ventas = tienda_A.venta_ultimo_mes[-1], tienda_B.venta_ultimo_mes[-1], tienda_C.venta_ultimo_mes[-1]\n",
    "\n",
    "        return sum(acumulado_ventas) \n",
    "        \n",
    "    \n"
   ]
  },
  {
   "cell_type": "code",
   "execution_count": null,
   "metadata": {},
   "outputs": [],
   "source": [
    "tot_tiendas = [tienda_A, tienda_B, tienda_C]\n",
    "\n",
    "total_ultimas_ventas = []\n",
    "\n",
    "for i in tot_tiendas:\n",
    "    venta"
   ]
  },
  {
   "cell_type": "code",
   "execution_count": null,
   "metadata": {},
   "outputs": [],
   "source": [
    "tot_tiendas\n",
    "\n",
    "for i in tot_tiendas:\n",
    "    if 'Avenida' in i.direccion.lower()\n",
    "        print(i.nombre)"
   ]
  },
  {
   "cell_type": "code",
   "execution_count": 14,
   "metadata": {},
   "outputs": [
    {
     "ename": "TypeError",
     "evalue": "'method' object is not subscriptable",
     "output_type": "error",
     "traceback": [
      "\u001b[1;31m---------------------------------------------------------------------------\u001b[0m",
      "\u001b[1;31mTypeError\u001b[0m                                 Traceback (most recent call last)",
      "\u001b[1;32mc:\\Users\\taylo\\Documents\\GitHub\\DS_PT_09_2023\\01-Ramp_Up\\02-Python\\01-Python\\5-OOP\\Practica\\Ejercicios Clases y Objetos.ipynb Cell 9\u001b[0m line \u001b[0;36m1\n\u001b[1;32m----> <a href='vscode-notebook-cell:/c%3A/Users/taylo/Documents/GitHub/DS_PT_09_2023/01-Ramp_Up/02-Python/01-Python/5-OOP/Practica/Ejercicios%20Clases%20y%20Objetos.ipynb#X11sZmlsZQ%3D%3D?line=0'>1</a>\u001b[0m \u001b[39mprint\u001b[39m(total_ultimas_ventas())\n",
      "\u001b[1;32mc:\\Users\\taylo\\Documents\\GitHub\\DS_PT_09_2023\\01-Ramp_Up\\02-Python\\01-Python\\5-OOP\\Practica\\Ejercicios Clases y Objetos.ipynb Cell 9\u001b[0m line \u001b[0;36m6\n\u001b[0;32m      <a href='vscode-notebook-cell:/c%3A/Users/taylo/Documents/GitHub/DS_PT_09_2023/01-Ramp_Up/02-Python/01-Python/5-OOP/Practica/Ejercicios%20Clases%20y%20Objetos.ipynb#X11sZmlsZQ%3D%3D?line=2'>3</a>\u001b[0m acumulado_ventas \u001b[39m=\u001b[39m []\n\u001b[0;32m      <a href='vscode-notebook-cell:/c%3A/Users/taylo/Documents/GitHub/DS_PT_09_2023/01-Ramp_Up/02-Python/01-Python/5-OOP/Practica/Ejercicios%20Clases%20y%20Objetos.ipynb#X11sZmlsZQ%3D%3D?line=4'>5</a>\u001b[0m \u001b[39mfor\u001b[39;00m acumulado_ventas \u001b[39min\u001b[39;00m tienda_A\u001b[39m.\u001b[39mventa_ultimo_mes, tienda_B\u001b[39m.\u001b[39mventa_ultimo_mes, tienda_C\u001b[39m.\u001b[39mventa_ultimo_mes:\n\u001b[1;32m----> <a href='vscode-notebook-cell:/c%3A/Users/taylo/Documents/GitHub/DS_PT_09_2023/01-Ramp_Up/02-Python/01-Python/5-OOP/Practica/Ejercicios%20Clases%20y%20Objetos.ipynb#X11sZmlsZQ%3D%3D?line=5'>6</a>\u001b[0m     acumulado_ventas \u001b[39m=\u001b[39m tienda_A\u001b[39m.\u001b[39;49mventa_ultimo_mes[\u001b[39m-\u001b[39;49m\u001b[39m1\u001b[39;49m], tienda_B\u001b[39m.\u001b[39mventa_ultimo_mes[\u001b[39m-\u001b[39m\u001b[39m1\u001b[39m], tienda_C\u001b[39m.\u001b[39mventa_ultimo_mes[\u001b[39m-\u001b[39m\u001b[39m1\u001b[39m]\n\u001b[0;32m      <a href='vscode-notebook-cell:/c%3A/Users/taylo/Documents/GitHub/DS_PT_09_2023/01-Ramp_Up/02-Python/01-Python/5-OOP/Practica/Ejercicios%20Clases%20y%20Objetos.ipynb#X11sZmlsZQ%3D%3D?line=7'>8</a>\u001b[0m     \u001b[39mreturn\u001b[39;00m \u001b[39msum\u001b[39m(acumulado_ventas)\n",
      "\u001b[1;31mTypeError\u001b[0m: 'method' object is not subscriptable"
     ]
    }
   ],
   "source": [
    "print(total_ultimas_ventas())"
   ]
  },
  {
   "cell_type": "code",
   "execution_count": null,
   "metadata": {},
   "outputs": [],
   "source": []
  },
  {
   "cell_type": "markdown",
   "metadata": {},
   "source": [
    "## Ejercicio 2\n",
    "En este ejercicio vamos a implementar una clase *Perro* en Python. La clase tiene las siguientes características:\n",
    "* Cosas que sabemos seguro que tiene un perro\n",
    "    * Tiene 4 patas\n",
    "    * 2 orejas\n",
    "    * 2 ojos\n",
    "    * Una velocidad de 0. Por defecto, el perro está parado\n",
    "* Cuando se inicialice:\n",
    "    * El perro será de una determinada raza\n",
    "    * Por defecto tendrá pelo \"Marrón\", a no ser que se diga lo contrario.\n",
    "    * Por defecto no tendrá dueño, a no ser que se diga lo contrario.\n",
    "    \n",
    "* Dispondrá también de un método llamado andar, que tiene un argumento de entrada (aumento_velocidad). Este valor se le sumará a la velocidad que ya llevaba el perro.\n",
    "* Necesita otro método (parar), donde pondremos la velocidad a 0.\n",
    "* Otro método llamado \"ladrar\", que tendrá un argumento de entrada, y la salida será el siguiente string: \"GUAU!\" + el argumento de entrada.\n",
    "\n",
    "\n",
    "Se pide:\n",
    "* Implementa la clase *Perro*\n",
    "* Crea un objeto de tipo *Perro*, sin dueño\n",
    "* Comprueba que están bien todos sus atributos\n",
    "* Prueba que ande, y comprueba su velocidad\n",
    "* Páralo\n",
    "* Documenta la clase *Perro*"
   ]
  },
  {
   "cell_type": "code",
   "execution_count": 27,
   "metadata": {},
   "outputs": [
    {
     "ename": "IndentationError",
     "evalue": "unexpected indent (3513893456.py, line 29)",
     "output_type": "error",
     "traceback": [
      "\u001b[1;36m  Cell \u001b[1;32mIn[27], line 29\u001b[1;36m\u001b[0m\n\u001b[1;33m    '''\u001b[0m\n\u001b[1;37m    ^\u001b[0m\n\u001b[1;31mIndentationError\u001b[0m\u001b[1;31m:\u001b[0m unexpected indent\n"
     ]
    }
   ],
   "source": [
    "class Perro:\n",
    "\n",
    "    patas = 4\n",
    "    orejas = 2\n",
    "    ojos = 2\n",
    "    velocidad = 0\n",
    "\n",
    "    '''\n",
    "    Se crea clase perro. Todos los perros \n",
    "    tienen las mismas patas, orejas y ojos, \n",
    "    y parten de la misma velocidad(0)\n",
    "    '''\n",
    "\n",
    "    def __init__(self, raza, color = 'Marron', duenio = None):\n",
    "\n",
    "        '''\n",
    "        Contructor se imputa la raza. El color\n",
    "        predefinido es marrón. \n",
    "        No tiene dueño.\n",
    "        '''\n",
    "\n",
    "        self.raza = raza\n",
    "        self.color = color\n",
    "        self.duenio = duenio\n",
    "\n",
    "    def andar(self, aumento_velocidad):\n",
    "        self.velocidad = self.velocidad + aumento_velocidad\n",
    "\n",
    "        '''\n",
    "        Método andar pide un atgumento de velocidad.\n",
    "        Es un integer que se suma a la velocidad base(0)\n",
    "        para determinar la velocidad el movimiento.\n",
    "        Ahora la velocidad es la del argumento.\n",
    "        Si se llama de nuevo se suma a la velocidad anterior.\n",
    "        '''\n",
    "        \n",
    "        return self.velocidad\n",
    "        \n",
    "    \n",
    "    def parar(self):\n",
    "        self.velocidad = 0\n",
    "        '''\n",
    "        Método parar devuelve la velovidad a 0\n",
    "        '''\n",
    "\n",
    "    def ladrar(self, numero_de_ladridos):\n",
    "        return 'GUAU! ' * numero_de_ladridos\n",
    "        '''\n",
    "        Metodo ladrar pide un argumento. Integer, que determina el numero de ladridos.\n",
    "        Devuelve el str GUAU! multiplicado por el int del argumento.\n",
    "        '''\n"
   ]
  },
  {
   "cell_type": "code",
   "execution_count": 25,
   "metadata": {},
   "outputs": [
    {
     "name": "stdout",
     "output_type": "stream",
     "text": [
      "galgo\n",
      "4\n",
      "2\n",
      "2\n",
      "0\n",
      "Marron\n",
      "None\n"
     ]
    }
   ],
   "source": [
    "galgo = Perro('galgo')\n",
    "\n",
    "print(galgo.raza)\n",
    "print(galgo.patas)\n",
    "print(galgo.orejas)\n",
    "print(galgo.ojos)\n",
    "print(galgo.velocidad)\n",
    "print(galgo.color)\n",
    "print(galgo.duenio)\n",
    "\n",
    "\n",
    "\n",
    "\n"
   ]
  },
  {
   "cell_type": "code",
   "execution_count": 334,
   "metadata": {},
   "outputs": [
    {
     "data": {
      "text/plain": [
       "5"
      ]
     },
     "execution_count": 334,
     "metadata": {},
     "output_type": "execute_result"
    }
   ],
   "source": [
    "galgo.andar(5)"
   ]
  },
  {
   "cell_type": "code",
   "execution_count": 335,
   "metadata": {},
   "outputs": [
    {
     "name": "stdout",
     "output_type": "stream",
     "text": [
      "5\n"
     ]
    }
   ],
   "source": [
    "print(galgo.velocidad)"
   ]
  },
  {
   "cell_type": "code",
   "execution_count": 336,
   "metadata": {},
   "outputs": [
    {
     "data": {
      "text/plain": [
       "15"
      ]
     },
     "execution_count": 336,
     "metadata": {},
     "output_type": "execute_result"
    }
   ],
   "source": [
    "galgo.andar(10)"
   ]
  },
  {
   "cell_type": "code",
   "execution_count": 337,
   "metadata": {},
   "outputs": [
    {
     "name": "stdout",
     "output_type": "stream",
     "text": [
      "15\n"
     ]
    }
   ],
   "source": [
    "print(galgo.velocidad)"
   ]
  },
  {
   "cell_type": "code",
   "execution_count": 338,
   "metadata": {},
   "outputs": [],
   "source": [
    "galgo.parar()"
   ]
  },
  {
   "cell_type": "code",
   "execution_count": 339,
   "metadata": {},
   "outputs": [
    {
     "name": "stdout",
     "output_type": "stream",
     "text": [
      "0\n"
     ]
    }
   ],
   "source": [
    "print(galgo.velocidad)"
   ]
  },
  {
   "cell_type": "code",
   "execution_count": 340,
   "metadata": {},
   "outputs": [
    {
     "data": {
      "text/plain": [
       "'GUAU! GUAU! GUAU! GUAU! '"
      ]
     },
     "execution_count": 340,
     "metadata": {},
     "output_type": "execute_result"
    }
   ],
   "source": [
    "galgo.ladrar(4)"
   ]
  },
  {
   "cell_type": "code",
   "execution_count": null,
   "metadata": {},
   "outputs": [],
   "source": []
  }
 ],
 "metadata": {
  "kernelspec": {
   "display_name": "Python 3",
   "language": "python",
   "name": "python3"
  },
  "language_info": {
   "codemirror_mode": {
    "name": "ipython",
    "version": 3
   },
   "file_extension": ".py",
   "mimetype": "text/x-python",
   "name": "python",
   "nbconvert_exporter": "python",
   "pygments_lexer": "ipython3",
   "version": "3.11.5"
  }
 },
 "nbformat": 4,
 "nbformat_minor": 4
}
