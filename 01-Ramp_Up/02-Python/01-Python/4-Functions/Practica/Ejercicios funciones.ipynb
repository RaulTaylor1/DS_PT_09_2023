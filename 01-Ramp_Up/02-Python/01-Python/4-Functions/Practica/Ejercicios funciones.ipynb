{
 "cells": [
  {
   "cell_type": "markdown",
   "metadata": {},
   "source": [
    "![imagen](./img/ejercicios.png)"
   ]
  },
  {
   "cell_type": "markdown",
   "metadata": {},
   "source": [
    "# Ejercicios funciones\n",
    "## Ejercicio 1\n",
    "Escribe una función que convierta números del 1 al 7 en nombres de los dias de la semana. La función constará de un único argumento numérico y una salida de tipo string"
   ]
  },
  {
   "cell_type": "code",
   "execution_count": 25,
   "metadata": {},
   "outputs": [
    {
     "data": {
      "text/plain": [
       "'Viernes'"
      ]
     },
     "execution_count": 25,
     "metadata": {},
     "output_type": "execute_result"
    }
   ],
   "source": [
    "def dias_semana(dia_num):\n",
    "    if dia_num == 1:\n",
    "        return 'Lunes'\n",
    "    elif dia_num == 2:\n",
    "        return 'Martes'\n",
    "    elif dia_num == 3:\n",
    "        return 'Miercoles'\n",
    "    elif dia_num == 4:\n",
    "        return 'Jueves'\n",
    "    elif dia_num == 5:\n",
    "        return 'Viernes'\n",
    "    elif dia_num == 6:\n",
    "        return 'Sabado'\n",
    "    elif dia_num == 7:\n",
    "        return 'Domingo'\n",
    "    else:\n",
    "        return 'Eso no es un dia de la semana'\n",
    "    \n",
    "dias_semana(int(input('Dime un numero del 1 al 7')))"
   ]
  },
  {
   "cell_type": "code",
   "execution_count": 57,
   "metadata": {},
   "outputs": [],
   "source": [
    "def dice_el_dia(numero_dia):\n",
    "    dicc = {1: 'Lunes', 2: 'Martes', 3: 'Miercoles', 4: 'Jueves', 5:'Viernes', 6: 'Sabado', 7: 'Domingo'}\n",
    "    \n",
    "    return dicc.get(numero_dia, 'eso no existe')"
   ]
  },
  {
   "cell_type": "code",
   "execution_count": 64,
   "metadata": {},
   "outputs": [
    {
     "data": {
      "text/plain": [
       "'Viernes'"
      ]
     },
     "execution_count": 64,
     "metadata": {},
     "output_type": "execute_result"
    }
   ],
   "source": [
    "dice_el_dia(int(input('Numero que quieres convertir')))\n",
    "            "
   ]
  },
  {
   "cell_type": "code",
   "execution_count": null,
   "metadata": {},
   "outputs": [],
   "source": []
  },
  {
   "cell_type": "markdown",
   "metadata": {},
   "source": [
    "## Ejercicio 2\n",
    "En el ejercicio 8 de bucles, creábamos una pirámide invertida, cuyo número de pisos venía determinado por un input del usuario. Crea una función que replique el comportamiento de la pirámide, y utiliza un único parámetro de entrada de la función para determinar el número de filas de la pirámide, es decir, elimina la sentencia input."
   ]
  },
  {
   "cell_type": "code",
   "execution_count": 10,
   "metadata": {},
   "outputs": [],
   "source": [
    "def piramide(filas):\n",
    "    while filas > 0:\n",
    "        for i in range(filas, 0, -1):\n",
    "            print(i, end = ' ')\n",
    "        print()\n",
    "        filas -= 1\n",
    "    return "
   ]
  },
  {
   "cell_type": "code",
   "execution_count": 11,
   "metadata": {},
   "outputs": [
    {
     "name": "stdout",
     "output_type": "stream",
     "text": [
      "0 1 2 3 4 \n",
      "0 1 2 3 \n",
      "0 1 2 \n",
      "0 1 \n",
      "0 \n"
     ]
    }
   ],
   "source": [
    "piramide(5)"
   ]
  },
  {
   "cell_type": "markdown",
   "metadata": {},
   "source": [
    "## Ejercicio 3\n",
    "Escibe una función que compare dos números. La función tiene dos argumentos y hay tres salidas posibles: que sean iguales, que el primero se  mayor que el segundo, o que el segundo sea mayor que el primero"
   ]
  },
  {
   "cell_type": "code",
   "execution_count": 12,
   "metadata": {},
   "outputs": [],
   "source": [
    "def comparador(a, b):\n",
    "    if a == b:\n",
    "        print('Son iguales')\n",
    "    elif a > b:\n",
    "        print(a, 'es mayor que', b)\n",
    "    else:\n",
    "        print(a, 'es menor que', b)\n",
    "    return"
   ]
  },
  {
   "cell_type": "code",
   "execution_count": 20,
   "metadata": {},
   "outputs": [
    {
     "name": "stdout",
     "output_type": "stream",
     "text": [
      "2.4 es menor que 4\n"
     ]
    }
   ],
   "source": [
    "comparador(2.4, 4)"
   ]
  },
  {
   "cell_type": "code",
   "execution_count": 88,
   "metadata": {},
   "outputs": [],
   "source": [
    "def tricomparador(a, b, c):\n",
    "    if a == b == c:\n",
    "        return 'Todos son iguales'\n",
    "    if a == b:\n",
    "        return a, 'y', b, 'son iguales,', c, 'es distinto'\n",
    "    if a == c:\n",
    "        return a, 'y', c, 'son iguales,', b, 'es distinto'\n",
    "    if b == c:\n",
    "        return b, 'y', c, 'son iguales,', a, 'es distinto'\n",
    "    else:\n",
    "        return 'todos son diferentes - ninguno es igual'"
   ]
  },
  {
   "cell_type": "code",
   "execution_count": 94,
   "metadata": {},
   "outputs": [
    {
     "data": {
      "text/plain": [
       "(14, 'y', 14, 'son iguales,', 4, 'es distinto')"
      ]
     },
     "execution_count": 94,
     "metadata": {},
     "output_type": "execute_result"
    }
   ],
   "source": [
    "tricomparador(14, 4, 14)"
   ]
  },
  {
   "cell_type": "markdown",
   "metadata": {},
   "source": [
    "## Ejercicio 4\n",
    "Escribe una función que sea un contador de letras. En el primer argumento tienes que introducir un texto, y el segundo que sea la letra a contar. La función tiene que devolver un entero con el número de veces que aparece esa letra, tanto mayuscula, como minúscula"
   ]
  },
  {
   "cell_type": "code",
   "execution_count": 23,
   "metadata": {},
   "outputs": [],
   "source": [
    "def contador_letras(texto, letra):\n",
    "    texto = texto.lower()\n",
    "    return texto.count(letra.lower())\n"
   ]
  },
  {
   "cell_type": "code",
   "execution_count": 30,
   "metadata": {},
   "outputs": [
    {
     "data": {
      "text/plain": [
       "2"
      ]
     },
     "execution_count": 30,
     "metadata": {},
     "output_type": "execute_result"
    }
   ],
   "source": [
    "contador_letras('farfalla', 'f')"
   ]
  },
  {
   "cell_type": "code",
   "execution_count": 98,
   "metadata": {},
   "outputs": [],
   "source": [
    "def cuentaletras(texto, letra):\n",
    "    texto = texto.lower()\n",
    "    return texto.count(letra.lower())"
   ]
  },
  {
   "cell_type": "code",
   "execution_count": 103,
   "metadata": {},
   "outputs": [
    {
     "data": {
      "text/plain": [
       "1"
      ]
     },
     "execution_count": 103,
     "metadata": {},
     "output_type": "execute_result"
    }
   ],
   "source": [
    "cuentaletras('hola javier', 'j')\n"
   ]
  },
  {
   "cell_type": "markdown",
   "metadata": {},
   "source": [
    "## Ejercicio 5\n",
    "Escribe una función que tenga un único argumento, un string. La salida de la función tiene que ser un diccionario con el conteo de todas las letras de ese string."
   ]
  },
  {
   "cell_type": "code",
   "execution_count": 31,
   "metadata": {},
   "outputs": [],
   "source": [
    "def cuentaletras_dicc(texto):\n",
    "    letras = {}\n",
    "    \n",
    "    for i in texto.lower():\n",
    "        if letras == ' ':\n",
    "            continue\n",
    "        if i in letras:\n",
    "            letras[i] = letras[i] + 1\n",
    "        else:\n",
    "            letras[i] = 1\n",
    "    return letras\n",
    "    \n"
   ]
  },
  {
   "cell_type": "code",
   "execution_count": 35,
   "metadata": {},
   "outputs": [
    {
     "data": {
      "text/plain": [
       "{'h': 1, 'e': 3, 'l': 3, 'o': 2, ' ': 2, 'p': 2}"
      ]
     },
     "execution_count": 35,
     "metadata": {},
     "output_type": "execute_result"
    }
   ],
   "source": [
    "cuentaletras_dicc('hello people ')"
   ]
  },
  {
   "cell_type": "code",
   "execution_count": null,
   "metadata": {},
   "outputs": [],
   "source": []
  },
  {
   "cell_type": "code",
   "execution_count": null,
   "metadata": {},
   "outputs": [],
   "source": []
  },
  {
   "cell_type": "markdown",
   "metadata": {},
   "source": [
    "## Ejercicio 6\n",
    "Escribir una función que añada o elimine elementos en una lista. La función necesita los siguientes argumentos:\n",
    "* lista: la lista donde se añadirán o eliminarán los elementos\n",
    "* comando: \"add\" o \"remove\"\n",
    "* elemento: Por defecto es None."
   ]
  },
  {
   "cell_type": "code",
   "execution_count": 104,
   "metadata": {},
   "outputs": [],
   "source": [
    "def modif_lista(lista, comando, elemento = None):\n",
    "    \n",
    "    lista = list(lista)\n",
    "\n",
    "    if comando == 'add' and elemento != None:\n",
    "        lista.append(elemento)\n",
    "    \n",
    "    elif comando == 'add' and elemento == None:\n",
    "        print('No has introducido el elemento a añadir')\n",
    "    \n",
    "    elif comando == 'remove' and elemento != None:\n",
    "        try:\n",
    "            lista.remove(elemento)\n",
    "        except:\n",
    "            print('El elemento', elemento, 'no está en esta lista')\n",
    "\n",
    "    elif comando == 'remove' and elemento == None:\n",
    "        print('NO has introducido el elemento a eliminar')\n",
    "\n",
    "    else:\n",
    "        print('ERROR')\n",
    "\n",
    "    return(lista)\n"
   ]
  },
  {
   "cell_type": "code",
   "execution_count": 107,
   "metadata": {},
   "outputs": [
    {
     "name": "stdout",
     "output_type": "stream",
     "text": [
      "['puerros', 'cebollas', 'apio']\n",
      "['puerros', 'cebollas', 'apio', 'manzana']\n"
     ]
    }
   ],
   "source": [
    "lista = ['puerros', 'cebollas', 'apio']\n",
    "print(lista)\n",
    "\n",
    "modif_lista(lista, 'add', 'manzana')\n",
    "lista.append('manzana')\n",
    "\n",
    "\n",
    "print(lista)"
   ]
  },
  {
   "cell_type": "code",
   "execution_count": null,
   "metadata": {},
   "outputs": [],
   "source": []
  },
  {
   "cell_type": "markdown",
   "metadata": {},
   "source": [
    "## Ejercicio 7\n",
    "Crea una función que reciba un número arbitrario de palabras, y devuelva una frase completa, separando las palabras con espacios."
   ]
  },
  {
   "cell_type": "code",
   "execution_count": 42,
   "metadata": {},
   "outputs": [],
   "source": [
    "def juntador(*args):\n",
    "\n",
    "    return ' '.join(args)\n",
    "\n",
    "    "
   ]
  },
  {
   "cell_type": "code",
   "execution_count": 43,
   "metadata": {},
   "outputs": [
    {
     "data": {
      "text/plain": [
       "'hola amigo todos de fiesta'"
      ]
     },
     "execution_count": 43,
     "metadata": {},
     "output_type": "execute_result"
    }
   ],
   "source": [
    "juntador('hola', 'amigo', 'todos', 'de', 'fiesta')"
   ]
  },
  {
   "cell_type": "markdown",
   "metadata": {},
   "source": [
    "## Ejercicio 8\n",
    "Escribe un programa que obtenga el enésimo número de la [serie de Fibonacci](https://es.wikipedia.org/wiki/Sucesi%C3%B3n_de_Fibonacci). Tienes que crear una función recursiva con un único argumento.\n",
    "\n",
    "```Python\n",
    "fibonacci(2) = 1\n",
    "fibonacci(4) = 3\n",
    "fibonacci(5) = 5\n",
    "fibonacci(8) = 21\n",
    "```"
   ]
  },
  {
   "cell_type": "code",
   "execution_count": 44,
   "metadata": {},
   "outputs": [],
   "source": [
    "def fibonacci(numero):\n",
    "    \n",
    "    if numero == 1:\n",
    "        return 1\n",
    "    elif numero == 0:\n",
    "        return 0\n",
    "    else:\n",
    "        return (fibonacci(numero - 1) + fibonacci(numero - 2))"
   ]
  },
  {
   "cell_type": "code",
   "execution_count": 48,
   "metadata": {},
   "outputs": [
    {
     "data": {
      "text/plain": [
       "89"
      ]
     },
     "execution_count": 48,
     "metadata": {},
     "output_type": "execute_result"
    }
   ],
   "source": [
    "fibonacci(11)"
   ]
  },
  {
   "cell_type": "markdown",
   "metadata": {},
   "source": [
    "## Ejercicio 9\n",
    "Define en una única celda las siguientes funciones:\n",
    "* Función que calcule el área de un cuadrado\n",
    "* Función que calcule el area de un triángulo\n",
    "* Función que calcule el área de un círculo\n",
    "\n",
    "En otra celda, calcular el area de:\n",
    "* Dos círculos de radio 10 + un triángulo de base 3 y altura 7\n",
    "* Un cuadrado de lado = 10 + 3 círculos (uno de radio = 4 y los otros dos de radio = 6) + 5 triángulos de base = 2 + altura = 4"
   ]
  },
  {
   "cell_type": "code",
   "execution_count": 49,
   "metadata": {},
   "outputs": [],
   "source": [
    "import math\n",
    "\n",
    "def cuadrado(lado):\n",
    "    return lado * lado\n",
    "\n",
    "def triangulo(base, altura):\n",
    "    return base * altura / 2\n",
    "\n",
    "def circulo(radio):\n",
    "    return math.pi * radio**2\n",
    "    "
   ]
  },
  {
   "cell_type": "code",
   "execution_count": null,
   "metadata": {},
   "outputs": [],
   "source": []
  },
  {
   "cell_type": "code",
   "execution_count": 54,
   "metadata": {},
   "outputs": [
    {
     "name": "stdout",
     "output_type": "stream",
     "text": [
      "314.1592653589793\n",
      "314.1592653589793\n",
      "10.5\n",
      "638.8185307179587\n"
     ]
    }
   ],
   "source": [
    "circulo_1 = circulo(10)\n",
    "print(circulo_1)\n",
    "\n",
    "circulo_2 = circulo(10)\n",
    "print(circulo_2)\n",
    "\n",
    "triangulo_1 = triangulo(3, 7)\n",
    "print(triangulo_1)\n",
    "\n",
    "preg_1 = circulo_1 + circulo_2 + triangulo_1\n",
    "print(preg_1)"
   ]
  },
  {
   "cell_type": "code",
   "execution_count": null,
   "metadata": {},
   "outputs": [],
   "source": []
  },
  {
   "cell_type": "code",
   "execution_count": null,
   "metadata": {},
   "outputs": [],
   "source": []
  },
  {
   "cell_type": "code",
   "execution_count": null,
   "metadata": {},
   "outputs": [],
   "source": []
  }
 ],
 "metadata": {
  "kernelspec": {
   "display_name": "Python 3",
   "language": "python",
   "name": "python3"
  },
  "language_info": {
   "codemirror_mode": {
    "name": "ipython",
    "version": 3
   },
   "file_extension": ".py",
   "mimetype": "text/x-python",
   "name": "python",
   "nbconvert_exporter": "python",
   "pygments_lexer": "ipython3",
   "version": "3.11.5"
  }
 },
 "nbformat": 4,
 "nbformat_minor": 4
}
